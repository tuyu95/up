{
 "cells": [
  {
   "cell_type": "markdown",
   "metadata": {},
   "source": [
    "# Coursework 2 - PyTorch based experiment framework\n",
    "\n",
    "## Intro\n",
    "Welcome to the coursework 2 PyTorch experiment framework. Pytorch is a  modern, intuitive, highly Pythonic and very fast framework for building differentiable graphs. Neural networks, as it happens, are a type of acyclic differentiable graph, so PyTorch is a great framework to use, if you want to build  complicated deep networks fairly easily.\n",
    "\n",
    "## MLP package vs Pytorch\n",
    "**Student**: So, why do I have to learn to use PyTorch now? I've spent all this time working on the MLP framework. Was that a waste of time?\n",
    "\n",
    "**TA**: Well, Pytorch is everything the MLP package is, but faster, cleaner and far more resourceful. Since it is one of the main deep learning frameworks being used by industry and research alike, it has been fine-tuned quite a bit, to conform to the expectation of researchers and engineers alike. What this means, is that PyTorch is now a very robust and highly flexible package, that you can use for any project you want to work on in the future, if it involves trainining differentiable graphs. \n",
    "\n",
    "In addition, MLP is written in NumPy and your time working on it has taught some low level details of NNs; PyTorch was written to look as much as possible to NumPy, so it will feel very familiar to you. The skills you have acquired are highly transferable (that is, they generalize well, so not much overfitting there...). \n",
    "\n",
    "PyTorch will almost always have all the latest and greatest implemented in it as soon as they are released as papers, and if not, give it a week or two and someone will reproduce it. If you can't wait, you can reproduce it yourself and open source it. A great way to show your skills and get github likes. \n",
    "\n",
    "In addition PyTorch has Autograd! Automatic differentiation (previously mentioned in [lectures](http://www.inf.ed.ac.uk/teaching/courses/mlp/2018-19/mlp05-learn.pdf)). \"What is this?\" you may ask. Remember having to write all those backprop functions? Forget about it. Automatic differentiation allows you to backprop through any PyTorch operation you have used in your graph, by simply calling backward(). This [blog-post](https://jdhao.github.io/2017/11/12/pytorch-computation-graph/) explains how Pytorch's autograd works at an intuitive level.\n",
    "\n",
    "**Student**: Why did we even have to use the MLP package? We did we even bother if such awesome frameworks are available?\n",
    "\n",
    "**TA**: The purpose of the MLP package was not to allow you to build fast deep learning systems. Instead, it was to help teach you the low level mechanics and sensitivities of building a deep learning system. It allowed you to delve deep into how one can go about building a deep learning framework from scratch. The intuitions you have gained from going through your assignments and courseworks allow you to see deeper in what makes or breaks a deep learning system, at a level few people actually have. You are no longer restricted to the higher level modules provided by Pytorch/TensorFlow. \n",
    "\n",
    "If, for example, a new project required you to build something that does not exist in PyTorch/TensorFlow, or otherwise modify existing modules in a way that requires understanding and intuitions on backpropagation and layer/optimizer/component implementation, you would be able to do it much more easily than others who did not. You are now equipped to understand differentiable graphs, the chain rule, numerical errors, debugging at the lowest level and deep learning system architecture. \n",
    "\n",
    "In addition, by trying to implement your modules in an efficient way, you have also become aware of how to optimize a system for efficiency, and gave you intuitions on how one could further improve such a system (parallelization of implementations). \n",
    "\n",
    "Finally, the slowness of CPU training has allowed you to understand just how important modern GPU acceleration is, for deep learning research and applications. By coming across a large breadth of problems and understanding their origins, you will now be able to both anticipate and solve future problems in a more comprehensive way than someone who did not go through the trouble of implementing the basics from scratch. \n",
    "\n",
    "**Student**: If we are switching to Pytorch, then why bother implementing convolutions in the MLP package for the coursework?\n",
    "\n",
    "**TA**: All your instructors, myself included, have found it greatly beneficial to implement convolutional networks from scratch. Once you implement convolutional layers, you will have a much deeper insight and understanding into how and why they work... as well as how they break. This way, you know what to do and what to avoid in the future. You might even be able to come with the next great network type yourself. \n",
    "\n",
    "\n",
    "## Getting Started\n",
    "\n",
    "**Student**: So, how is the learning curve of Pytorch? How do I start?\n",
    "\n",
    "**TA**: You can start by using this notebook on your experiments, it should teach you quite a lot on how to properly use PyTorch for basic conv net training. You should be aware of the [official pytorch github](https://github.com/pytorch/pytorch), the [pytorch official documentation page](https://pytorch.org/docs/stable/nn.html) and the [pytorch tutorials page](https://pytorch.org/tutorials/). \n",
    "\n",
    "Over the past year, nearly all students using PyTorch and Tensorflow on MLP and on projects found it easier and faster to get up to speed with PyTorch. In fact, I was a TensorFlow user myself, and learning TensorFlow was much more challenging than PyTorch. Mainly because TensorFlow has its own way of 'thinking' about how you build a graph and execute operations - whereas PyTorch is dynamic and works like NumPy, hence is more intuitive. If you were able to work well with the MLP package, you'll be up and running in no time. \n",
    "\n",
    "**Student**: OK, so how fast is pytorch compared to MLP?\n",
    "\n",
    "**TA**: On the CPU side of things, you'll find pytorch at least 5x faster than the MLP framework (about equal for fully connected networks, but much faster for more complicated things like convolutions - unless you write extremely efficient convolutional layer code), and if you choose to use GPUs, either using MS Azure, Google Cloud or our very own MLP Cluster (available for next semester), you can expect, depending on implementation and hardware an approximate 25-70x speed ups, compared to the CPU performance of pytorch. Yes, that means an experiment that would run overnight, now would only require about 15 minutes.\n",
    "\n",
    "**Student**: Ahh, where should I go to ask more questions?\n",
    "\n",
    "**TA**: As always, start with a Google/DuckDuckGo search, then have a look at the PyTorch Github and PyTorch docs, and if you can't find the answer come to Piazza and the lab sessions. We will be there to support you.\n",
    "\n",
    "\n",
    "#### Note: The code in this jupyter notebook is to introduce you to pytorch and allow you to play around with it in an interactive manner. However, to run your experiments, you should use the Pytorch experiment framework located in ```mlp/pytorch_experiment_scripts```. Instructions on how to use it can be found in ```notes/pytorch-experiment-framework.md``` along with the comments and documentation included in the code itself."
   ]
  },
  {
   "cell_type": "code",
   "execution_count": 1,
   "metadata": {},
   "outputs": [],
   "source": [
    "from torch import nn\n",
    "from copy import deepcopy\n",
    "import torch\n",
    "import torch.nn as nn\n",
    "import torch.optim as optim\n",
    "import torch.nn.functional as F\n",
    "import torch.backends.cudnn as cudnn\n",
    "import torchvision\n",
    "import tqdm\n",
    "import os\n",
    "import mlp.data_providers as data_providers\n",
    "import numpy as np"
   ]
  },
  {
   "cell_type": "code",
   "execution_count": 2,
   "metadata": {},
   "outputs": [],
   "source": [
    "import matplotlib.pyplot as plt\n",
    "%matplotlib inline\n",
    "plt.style.use('ggplot')\n",
    "\n",
    "def plot_stats_in_graph(total_losses):\n",
    "    \n",
    "    # Plot the change in the validation and training set error over training.\n",
    "    fig_1 = plt.figure(figsize=(8, 4))\n",
    "    ax_1 = fig_1.add_subplot(111)\n",
    "    for k in total_losses.keys():\n",
    "        if \"loss\" in k:\n",
    "            ax_1.plot(np.arange(len(total_losses[k])), total_losses[k], label=k)\n",
    "    ax_1.legend(loc=0)\n",
    "    ax_1.set_xlabel('Epoch number')\n",
    "    \n",
    "    \n",
    "    fig_2 = plt.figure(figsize=(8, 4))\n",
    "    ax_2 = fig_2.add_subplot(111)\n",
    "    for k in total_losses.keys():\n",
    "        if \"acc\" in k:\n",
    "            ax_2.plot(np.arange(len(total_losses[k])), total_losses[k], label=k)\n",
    "    ax_2.legend(loc=0)\n",
    "    ax_2.set_xlabel('Epoch number')\n",
    "\n",
    "    plt.show()"
   ]
  },
  {
   "cell_type": "code",
   "execution_count": 3,
   "metadata": {},
   "outputs": [],
   "source": [
    "class ConvolutionalNetwork(nn.Module):\n",
    "    def __init__(self, input_shape, dim_reduction_type, num_output_classes, num_filters, num_layers, use_bias=False):\n",
    "        \"\"\"\n",
    "        Initializes a convolutional network module object.\n",
    "        :param input_shape: The shape of the inputs going in to the network.\n",
    "        :param dim_reduction_type: The type of dimensionality reduction to apply after each convolutional stage, should be one of ['max_pooling', 'avg_pooling', 'strided_convolution', 'dilated_convolution']\n",
    "        :param num_output_classes: The number of outputs the network should have (for classification those would be the number of classes)\n",
    "        :param num_filters: Number of filters used in every conv layer, except dim reduction stages, where those are automatically infered.\n",
    "        :param num_layers: Number of conv layers (excluding dim reduction stages)\n",
    "        :param use_bias: Whether our convolutions will use a bias.\n",
    "        \"\"\"\n",
    "        super(ConvolutionalNetwork, self).__init__()\n",
    "        # set up class attributes useful in building the network and inference\n",
    "        self.input_shape = input_shape\n",
    "        self.num_filters = num_filters\n",
    "        self.num_output_classes = num_output_classes\n",
    "        self.use_bias = use_bias\n",
    "        self.num_layers = num_layers\n",
    "        self.dim_reduction_type = dim_reduction_type\n",
    "        # initialize a module dict, which is effectively a dictionary that can collect layers and integrate them into pytorch\n",
    "        self.layer_dict = nn.ModuleDict()\n",
    "        # build the network\n",
    "        self.build_module()\n",
    "\n",
    "    def build_module(self):\n",
    "        \"\"\"\n",
    "        Builds network whilst automatically inferring shapes of layers.\n",
    "        \"\"\"\n",
    "        print(\"Building basic block of ConvolutionalNetwork using input shape\", self.input_shape)\n",
    "        x = torch.zeros((self.input_shape)) # create dummy inputs to be used to infer shapes of layers\n",
    "\n",
    "        out = x\n",
    "        # torch.nn.Conv2d(in_channels, out_channels, kernel_size, stride=1, padding=0, dilation=1, groups=1, bias=True)\n",
    "        for i in range(self.num_layers): # for number of layers times\n",
    "            self.layer_dict['conv_{}'.format(i)] = nn.Conv2d(in_channels=out.shape[1], # add a conv layer in the module dict\n",
    "                                                             kernel_size=3,\n",
    "                                                             out_channels=self.num_filters, padding=1,\n",
    "                                                             bias=self.use_bias)\n",
    "\n",
    "            out = self.layer_dict['conv_{}'.format(i)](out) # use layer on inputs to get an output\n",
    "            out = F.relu(out) # apply relu\n",
    "            print(out.shape)\n",
    "            if self.dim_reduction_type == 'strided_convolution': # if dim reduction is strided conv, then add a strided conv\n",
    "                self.layer_dict['dim_reduction_strided_conv_{}'.format(i)] = nn.Conv2d(in_channels=out.shape[1],\n",
    "                                                                                       kernel_size=3,\n",
    "                                                                                       out_channels=out.shape[1],\n",
    "                                                                                       padding=1,\n",
    "                                                                                       bias=self.use_bias, stride=3,\n",
    "                                                                                       dilation=1)\n",
    "\n",
    "                out = self.layer_dict['dim_reduction_strided_conv_{}'.format(i)](out) # use strided conv to get an output\n",
    "                out = F.relu(out) # apply relu to the output\n",
    "            elif self.dim_reduction_type == 'dilated_convolution': # if dim reduction is dilated conv, then add a dilated conv, using an arbitrary dilation rate of i + 2 (so it gets smaller as we go, you can choose other dilation rates should you wish to do it.)\n",
    "                self.layer_dict['dim_reduction_dilated_conv_{}'.format(i)] = nn.Conv2d(in_channels=out.shape[1],\n",
    "                                                                                       kernel_size=3,\n",
    "                                                                                       out_channels=out.shape[1],\n",
    "                                                                                       padding=1,\n",
    "                                                                                       bias=self.use_bias, stride=3,\n",
    "                                                                                       dilation=i + 2)\n",
    "                out = self.layer_dict['dim_reduction_dilated_conv_{}'.format(i)](out) # run dilated conv on input to get output\n",
    "                out = F.relu(out) # apply relu on output\n",
    "\n",
    "            elif self.dim_reduction_type == 'max_pooling':\n",
    "                self.layer_dict['dim_reduction_max_pool_{}'.format(i)] = nn.MaxPool2d(3, padding=1)\n",
    "                out = self.layer_dict['dim_reduction_max_pool_{}'.format(i)](out)\n",
    "\n",
    "            elif self.dim_reduction_type == 'avg_pooling':\n",
    "                self.layer_dict['dim_reduction_avg_pool_{}'.format(i)] = nn.AvgPool2d(3, padding=1)\n",
    "                out = self.layer_dict['dim_reduction_avg_pool_{}'.format(i)](out)\n",
    "\n",
    "            print(out.shape)\n",
    "\n",
    "        out = F.adaptive_avg_pool2d(out, 2) # apply adaptive pooling to make sure output of conv layers is always (2, 2) spacially (helps with comparisons).\n",
    "        print(out.shape)\n",
    "        self.logits_linear_layer = nn.Linear(in_features=out.view(out.shape[0], -1).shape[1],  # add a linear layer\n",
    "                                             out_features=self.num_output_classes,\n",
    "                                             bias=self.use_bias)\n",
    "        out = self.logits_linear_layer(out.view(out.shape[0], -1)) # apply linear layer on flattened inputs\n",
    "        print(\"Block is built, output volume is\", out.shape)\n",
    "        return out\n",
    "\n",
    "    def forward(self, x):\n",
    "        \"\"\"\n",
    "        Forward propages the network given an input batch\n",
    "        :param x: Inputs x (b, c, h, w)\n",
    "        :return: preds (b, num_classes)\n",
    "        \"\"\"\n",
    "        out = x\n",
    "        for i in range(self.num_layers): # for number of layers\n",
    "\n",
    "            out = self.layer_dict['conv_{}'.format(i)](out) # pass through conv layer indexed at i\n",
    "            out = F.relu(out) # pass conv outputs through ReLU\n",
    "            if self.dim_reduction_type == 'strided_convolution': # if strided convolution dim reduction then\n",
    "                out = self.layer_dict['dim_reduction_strided_conv_{}'.format(i)](out) # pass previous outputs through a strided convolution indexed i\n",
    "                out = F.relu(out) # pass strided conv outputs through ReLU\n",
    "\n",
    "            elif self.dim_reduction_type == 'dilated_convolution':\n",
    "                out = self.layer_dict['dim_reduction_dilated_conv_{}'.format(i)](out)\n",
    "                out = F.relu(out)\n",
    "\n",
    "            elif self.dim_reduction_type == 'max_pooling':\n",
    "                out = self.layer_dict['dim_reduction_max_pool_{}'.format(i)](out)\n",
    "\n",
    "            elif self.dim_reduction_type == 'avg_pooling':\n",
    "                out = self.layer_dict['dim_reduction_avg_pool_{}'.format(i)](out)\n",
    "\n",
    "        out = F.adaptive_avg_pool2d(out, 2)\n",
    "        out = out.view(out.shape[0], -1) # flatten outputs from (b, c, h, w) to (b, c*h*w)\n",
    "        out = self.logits_linear_layer(out) # pass through a linear layer to get logits/preds\n",
    "        return out\n",
    "\n",
    "    def reset_parameters(self):\n",
    "        \"\"\"\n",
    "        Re-initialize the network parameters.\n",
    "        \"\"\"\n",
    "        for item in self.layer_dict.children():\n",
    "            try:\n",
    "                item.reset_parameters()\n",
    "            except:\n",
    "                pass\n",
    "\n",
    "        self.logits_linear_layer.reset_parameters()"
   ]
  },
  {
   "cell_type": "code",
   "execution_count": 4,
   "metadata": {},
   "outputs": [],
   "source": [
    "import time\n",
    "from mlp.pytorch_experiment_scripts.storage_utils import save_statistics\n",
    "class ExperimentBuilder(nn.Module):\n",
    "    def __init__(self, network_model, experiment_name, num_epochs, train_data, val_data,\n",
    "                 test_data, weight_decay_coefficient, use_gpu, continue_from_epoch=-1):\n",
    "        \"\"\"\n",
    "        Initializes an ExperimentBuilder object. Such an object takes care of running training and evaluation of a deep net\n",
    "        on a given dataset. It also takes care of saving per epoch models and automatically inferring the best val model\n",
    "        to be used for evaluating the test set metrics.\n",
    "        :param network_model: A pytorch nn.Module which implements a network architecture.\n",
    "        :param experiment_name: The name of the experiment. This is used mainly for keeping track of the experiment and creating and directory structure that will be used to save logs, model parameters and other.\n",
    "        :param num_epochs: Total number of epochs to run the experiment\n",
    "        :param train_data: An object of the DataProvider type. Contains the training set.\n",
    "        :param val_data: An object of the DataProvider type. Contains the val set.\n",
    "        :param test_data: An object of the DataProvider type. Contains the test set.\n",
    "        :param weight_decay_coefficient: A float indicating the weight decay to use with the adam optimizer.\n",
    "        :param use_gpu: A boolean indicating whether to use a GPU or not.\n",
    "        :param continue_from_epoch: An int indicating whether we'll start from scrach (-1) or whether we'll reload a previously saved model of epoch 'continue_from_epoch' and continue training from there.\n",
    "        \"\"\"\n",
    "        super(ExperimentBuilder, self).__init__()\n",
    "        if torch.cuda.is_available() and use_gpu: # checks whether a cuda gpu is available and whether the gpu flag is True\n",
    "            self.device = torch.device('cuda') # sets device to be cuda\n",
    "            os.environ[\"CUDA_VISIBLE_DEVICES\"] = \"0\" # sets the main GPU to be the one at index 0\n",
    "            print(\"use GPU\")\n",
    "        else:\n",
    "            print(\"use CPU\")\n",
    "            self.device = torch.device('cpu') # sets the device to be CPU\n",
    "\n",
    "        self.experiment_name = experiment_name\n",
    "        self.model = network_model\n",
    "        self.model.to(self.device) # sends the model from the cpu to the gpu\n",
    "        self.model.reset_parameters() # re-initialize network parameters\n",
    "        self.train_data = train_data\n",
    "        self.val_data = val_data\n",
    "        self.test_data = test_data\n",
    "        self.optimizer = optim.Adam(self.parameters(), amsgrad=False,\n",
    "                                    weight_decay=weight_decay_coefficient)\n",
    "        # Generate the directory names\n",
    "        self.experiment_folder = os.path.abspath(experiment_name)\n",
    "        self.experiment_logs = os.path.abspath(os.path.join(self.experiment_folder, \"result_outputs\"))\n",
    "        self.experiment_saved_models = os.path.abspath(os.path.join(self.experiment_folder, \"saved_models\"))\n",
    "\n",
    "        # Set best models to be at 0 since we are just starting\n",
    "        self.best_val_model_idx = 0\n",
    "        self.best_val_model_acc = 0.\n",
    "\n",
    "        if not os.path.exists(self.experiment_folder): # If experiment directory does not exist\n",
    "            os.mkdir(self.experiment_folder) # create the experiment directory\n",
    "            os.mkdir(self.experiment_logs) # create the experiment log directory\n",
    "            os.mkdir(self.experiment_saved_models) # create the experiment saved models directory\n",
    "\n",
    "        self.num_epochs = num_epochs\n",
    "        self.criterion = nn.CrossEntropyLoss().to(self.device) # send the loss computation to the GPU\n",
    "\n",
    "        if continue_from_epoch != -1: # if continue from epoch is not -1 then\n",
    "            self.best_val_model_idx, self.best_val_model_acc = self.load_model(\n",
    "                model_save_dir=self.experiment_saved_models, model_save_name=\"train_model\",\n",
    "                model_idx=continue_from_epoch) # reload existing model from epoch and return best val model index\n",
    "                                             # and the best val acc of that model\n",
    "            self.starting_epoch = continue_from_epoch\n",
    "        else:\n",
    "            self.starting_epoch = 0\n",
    "\n",
    "    def run_train_iter(self, x, y):\n",
    "        \"\"\"\n",
    "        Receives the inputs and targets for the model and runs a training iteration. Returns loss and accuracy metrics.\n",
    "        :param x: The inputs to the model. A numpy array of shape batch_size, channels, height, width\n",
    "        :param y: The targets for the model. A numpy array of shape batch_size, num_classes\n",
    "        :return: the loss and accuracy for this batch\n",
    "        \"\"\"\n",
    "        self.train() # sets model to training mode (in case batch normalization or other methods have different procedures for training and evaluation)\n",
    "        y = np.argmax(y, axis=1) # convert one hot encoded labels to single integer labels\n",
    "        x, y = torch.Tensor(x).float().to(device=self.device), torch.Tensor(y).long().to(device=self.device) # send data to device as torch tensors\n",
    "        out = self.model.forward(x) # forward the data in the model\n",
    "        loss = F.cross_entropy(input=out, target=y) # compute loss\n",
    "\n",
    "        self.optimizer.zero_grad() # set all weight grads from previous training iters to 0\n",
    "        loss.backward() # backpropagate to compute gradients for current iter loss\n",
    "\n",
    "        self.optimizer.step() # update network parameters\n",
    "        _, predicted = torch.max(out.data, 1) # get argmax of predictions\n",
    "        accuracy = np.mean(list(predicted.eq(y.data).cpu())) # compute accuracy\n",
    "        return loss.data, accuracy\n",
    "\n",
    "    def run_evaluation_iter(self, x, y):\n",
    "        \"\"\"\n",
    "        Receives the inputs and targets for the model and runs an evaluation iterations. Returns loss and accuracy metrics.\n",
    "        :param x: The inputs to the model. A numpy array of shape batch_size, channels, height, width\n",
    "        :param y: The targets for the model. A numpy array of shape batch_size, num_classes\n",
    "        :return: the loss and accuracy for this batch\n",
    "        \"\"\"\n",
    "        self.eval() # sets the system to validation mode\n",
    "        y = np.argmax(y, axis=1) # convert one hot encoded labels to single integer labels\n",
    "        x, y = torch.Tensor(x).float().to(device=self.device), torch.Tensor(y).long().to(device=self.device) # convert data to pytorch tensors and send to the computation device\n",
    "        out = self.model.forward(x) # forward the data in the model\n",
    "        loss = F.cross_entropy(out, y) # compute loss\n",
    "        _, predicted = torch.max(out.data, 1) # get argmax of predictions\n",
    "        accuracy = np.mean(list(predicted.eq(y.data).cpu())) # compute accuracy\n",
    "        return loss.data, accuracy\n",
    "\n",
    "    def save_model(self, model_save_dir, model_save_name, model_idx, best_validation_model_idx,\n",
    "                   best_validation_model_acc):\n",
    "        \"\"\"\n",
    "        Save the network parameter state and current best val epoch idx and best val accuracy.\n",
    "        :param model_save_name: Name to use to save model without the epoch index\n",
    "        :param model_idx: The index to save the model with.\n",
    "        :param best_validation_model_idx: The index of the best validation model to be stored for future use.\n",
    "        :param best_validation_model_acc: The best validation accuracy to be stored for use at test time.\n",
    "        :param model_save_dir: The directory to store the state at.\n",
    "        :param state: The dictionary containing the system state.\n",
    "\n",
    "        \"\"\"\n",
    "        state = dict()\n",
    "        state['network'] = self.state_dict() # save network parameter and other variables.\n",
    "        state['best_val_model_idx'] = best_validation_model_idx # save current best val idx\n",
    "        state['best_val_model_acc'] = best_validation_model_acc # save current best val acc\n",
    "        torch.save(state, f=os.path.join(model_save_dir, \"{}_{}\".format(model_save_name, str(model_idx)))) # save state at prespecified filepath\n",
    "\n",
    "    def load_model(self, model_save_dir, model_save_name, model_idx):\n",
    "        \"\"\"\n",
    "        Load the network parameter state and the best val model idx and best val acc to be compared with the future val accuracies, in order to choose the best val model\n",
    "        :param model_save_dir: The directory to store the state at.\n",
    "        :param model_save_name: Name to use to save model without the epoch index\n",
    "        :param model_idx: The index to save the model with.\n",
    "        :return: best val idx and best val model acc, also it loads the network state into the system state without returning it\n",
    "        \"\"\"\n",
    "        state = torch.load(f=os.path.join(model_save_dir, \"{}_{}\".format(model_save_name, str(model_idx))))\n",
    "        self.load_state_dict(state_dict=state['network'])\n",
    "        return state['best_val_model_idx'], state['best_val_model_acc']\n",
    "\n",
    "    def run_experiment(self):\n",
    "        \"\"\"\n",
    "        Runs experiment train and evaluation iterations, saving the model and best val model and val model accuracy after each epoch\n",
    "        :return: The summary current_epoch_losses from starting epoch to total_epochs.\n",
    "        \"\"\"\n",
    "        total_losses = {\"train_acc\": [], \"train_loss\": [], \"val_acc\": [], \"val_loss\": []} # initialize a dict to keep the per-epoch metrics\n",
    "        for i, epoch_idx in enumerate(range(self.starting_epoch, self.num_epochs)):\n",
    "            epoch_start_time = time.time()\n",
    "            current_epoch_losses = {\"train_acc\": [], \"train_loss\": [], \"val_acc\": [], \"val_loss\": []}\n",
    "\n",
    "            with tqdm.tqdm(total=self.train_data.num_batches) as pbar_train: # create a progress bar for training\n",
    "                for idx, (x, y) in enumerate(self.train_data): # get data batches\n",
    "                    loss, accuracy = self.run_train_iter(x=x, y=y) # take a training iter step\n",
    "                    current_epoch_losses[\"train_loss\"].append(loss) # add current iter loss to the train loss list\n",
    "                    current_epoch_losses[\"train_acc\"].append(accuracy) # add current iter acc to the train acc list\n",
    "                    pbar_train.update(1)\n",
    "                    pbar_train.set_description(\"loss: {:.4f}, accuracy: {:.4f}\".format(loss, accuracy))\n",
    "\n",
    "            with tqdm.tqdm(total=self.val_data.num_batches) as pbar_val: # create a progress bar for validation\n",
    "                for x, y in self.val_data: # get data batches\n",
    "                    loss, accuracy = self.run_evaluation_iter(x=x, y=y) # run a validation iter\n",
    "                    current_epoch_losses[\"val_loss\"].append(loss) # add current iter loss to val loss list.\n",
    "                    current_epoch_losses[\"val_acc\"].append(accuracy) # add current iter acc to val acc lst.\n",
    "                    pbar_val.update(1) # add 1 step to the progress bar\n",
    "                    pbar_val.set_description(\"loss: {:.4f}, accuracy: {:.4f}\".format(loss, accuracy))\n",
    "\n",
    "            if np.mean(current_epoch_losses['val_acc']) > self.best_val_model_acc: # if current epoch's mean val acc is greater than the saved best val acc then\n",
    "                self.best_val_model_acc = np.mean(current_epoch_losses['val_acc']) # set the best val model acc to be current epoch's val accuracy\n",
    "                self.best_val_model_idx = epoch_idx # set the experiment-wise best val idx to be the current epoch's idx\n",
    "\n",
    "            for key, value in current_epoch_losses.items():\n",
    "                total_losses[key].append(np.mean(value)) # get mean of all metrics of current epoch metrics dict, to get them ready for storage and output on the terminal.\n",
    "\n",
    "            save_statistics(experiment_log_dir=self.experiment_logs, filename='summary.csv',\n",
    "                            stats_dict=total_losses, current_epoch=i) # save statistics to stats file.\n",
    "\n",
    "            # load_statistics(experiment_log_dir=self.experiment_logs, filename='summary.csv') # How to load a csv file if you need to\n",
    "\n",
    "            out_string = \"_\".join([\"{}_{:.4f}\".format(key, np.mean(value)) for key, value in current_epoch_losses.items()])\n",
    "            # create a string to use to report our epoch metrics\n",
    "            epoch_elapsed_time = time.time() - epoch_start_time # calculate time taken for epoch\n",
    "            epoch_elapsed_time = \"{:.4f}\".format(epoch_elapsed_time)\n",
    "            print(\"Epoch {}:\".format(epoch_idx), out_string, \"epoch time\", epoch_elapsed_time, \"seconds\")\n",
    "            self.save_model(model_save_dir=self.experiment_saved_models, # save model and best val idx and best val acc, using the model dir, model name and model idx\n",
    "                            model_save_name=\"train_model\", model_idx=epoch_idx,\n",
    "                            best_validation_model_idx=self.best_val_model_idx,\n",
    "                            best_validation_model_acc=self.best_val_model_acc)\n",
    "\n",
    "        print(\"Generating test set evaluation metrics\")\n",
    "        self.load_model(model_save_dir=self.experiment_saved_models, model_idx=self.best_val_model_idx, # load best validation model\n",
    "                        model_save_name=\"train_model\")\n",
    "        current_epoch_losses = {\"test_acc\": [], \"test_loss\": []} # initialize a statistics dict\n",
    "        with tqdm.tqdm(total=self.test_data.num_batches) as pbar_test: # ini a progress bar\n",
    "            for x, y in self.test_data: # sample batch\n",
    "                loss, accuracy = self.run_evaluation_iter(x=x, y=y) # compute loss and accuracy by running an evaluation step\n",
    "                current_epoch_losses[\"test_loss\"].append(loss) # save test loss\n",
    "                current_epoch_losses[\"test_acc\"].append(accuracy) # save test accuracy\n",
    "                pbar_test.update(1) # update progress bar status\n",
    "                pbar_test.set_description(\"loss: {:.4f}, accuracy: {:.4f}\".format(loss, accuracy))  # update progress bar string output\n",
    "\n",
    "        test_losses = {key: [np.mean(value)] for key, value in current_epoch_losses.items()} # save test set metrics in dict format\n",
    "        save_statistics(experiment_log_dir=self.experiment_logs, filename='test_summary.csv', # save test set metrics on disk in .csv format\n",
    "                        stats_dict=test_losses, current_epoch=0)\n",
    "\n",
    "        return total_losses, test_losses\n"
   ]
  },
  {
   "cell_type": "code",
   "execution_count": 5,
   "metadata": {},
   "outputs": [
    {
     "name": "stdout",
     "output_type": "stream",
     "text": [
      "KeysView(<numpy.lib.npyio.NpzFile object at 0x7f56e9f5a0b8>)\n",
      "KeysView(<numpy.lib.npyio.NpzFile object at 0x7f56e9f5a4e0>)\n",
      "KeysView(<numpy.lib.npyio.NpzFile object at 0x7f56e9f5a4e0>)\n",
      "Building basic block of ConvolutionalNetwork using input shape (100, 1, 28, 28)\n",
      "torch.Size([100, 64, 28, 28])\n",
      "torch.Size([100, 64, 10, 10])\n",
      "torch.Size([100, 64, 10, 10])\n",
      "torch.Size([100, 64, 4, 4])\n",
      "torch.Size([100, 64, 4, 4])\n",
      "torch.Size([100, 64, 2, 2])\n",
      "torch.Size([100, 64, 2, 2])\n",
      "Block is built, output volume is torch.Size([100, 47])\n",
      "use GPU\n"
     ]
    },
    {
     "name": "stderr",
     "output_type": "stream",
     "text": [
      "loss: 0.4591, accuracy: 0.8400: 100%|██████████| 1000/1000 [00:16<00:00, 61.45it/s]\n",
      "loss: 0.5204, accuracy: 0.8600: 100%|██████████| 158/158 [00:01<00:00, 127.28it/s]\n",
      "loss: 0.6577, accuracy: 0.8400:   1%|          | 8/1000 [00:00<00:15, 62.52it/s]"
     ]
    },
    {
     "name": "stdout",
     "output_type": "stream",
     "text": [
      "Epoch 0: train_acc_0.7478_train_loss_0.8147_val_acc_0.8434_val_loss_0.4672 epoch time 17.6180 seconds\n"
     ]
    },
    {
     "name": "stderr",
     "output_type": "stream",
     "text": [
      "loss: 0.2576, accuracy: 0.9200: 100%|██████████| 1000/1000 [00:16<00:00, 63.48it/s]\n",
      "loss: 0.3744, accuracy: 0.8500: 100%|██████████| 158/158 [00:01<00:00, 127.73it/s]\n",
      "loss: 0.3748, accuracy: 0.8700:   1%|          | 12/1000 [00:00<00:15, 63.75it/s]"
     ]
    },
    {
     "name": "stdout",
     "output_type": "stream",
     "text": [
      "Epoch 1: train_acc_0.8491_train_loss_0.4307_val_acc_0.8659_val_loss_0.3811 epoch time 17.7343 seconds\n"
     ]
    },
    {
     "name": "stderr",
     "output_type": "stream",
     "text": [
      "loss: 0.3961, accuracy: 0.8600: 100%|██████████| 1000/1000 [00:16<00:00, 61.59it/s]\n",
      "loss: 0.3321, accuracy: 0.8900: 100%|██████████| 158/158 [00:01<00:00, 126.64it/s]\n",
      "loss: 0.2743, accuracy: 0.8700:   1%|          | 12/1000 [00:00<00:15, 62.30it/s]"
     ]
    },
    {
     "name": "stdout",
     "output_type": "stream",
     "text": [
      "Epoch 2: train_acc_0.8679_train_loss_0.3699_val_acc_0.8708_val_loss_0.3654 epoch time 17.8049 seconds\n"
     ]
    },
    {
     "name": "stderr",
     "output_type": "stream",
     "text": [
      "loss: 0.3420, accuracy: 0.8500: 100%|██████████| 1000/1000 [00:16<00:00, 61.11it/s]\n",
      "loss: 0.3602, accuracy: 0.8500: 100%|██████████| 158/158 [00:01<00:00, 127.07it/s]\n",
      "loss: 0.2399, accuracy: 0.9200:   1%|          | 12/1000 [00:00<00:15, 64.50it/s]"
     ]
    },
    {
     "name": "stdout",
     "output_type": "stream",
     "text": [
      "Epoch 3: train_acc_0.8770_train_loss_0.3342_val_acc_0.8716_val_loss_0.3594 epoch time 17.7120 seconds\n"
     ]
    },
    {
     "name": "stderr",
     "output_type": "stream",
     "text": [
      "loss: 0.4097, accuracy: 0.8600: 100%|██████████| 1000/1000 [00:16<00:00, 60.92it/s]\n",
      "loss: 0.4455, accuracy: 0.8500: 100%|██████████| 158/158 [00:01<00:00, 126.99it/s]\n",
      "loss: 0.4092, accuracy: 0.8600:   1%|          | 12/1000 [00:00<00:15, 65.07it/s]"
     ]
    },
    {
     "name": "stdout",
     "output_type": "stream",
     "text": [
      "Epoch 4: train_acc_0.8854_train_loss_0.3083_val_acc_0.8732_val_loss_0.3646 epoch time 17.7619 seconds\n"
     ]
    },
    {
     "name": "stderr",
     "output_type": "stream",
     "text": [
      "loss: 0.3182, accuracy: 0.8900: 100%|██████████| 1000/1000 [00:16<00:00, 61.46it/s]\n",
      "loss: 0.5409, accuracy: 0.8100: 100%|██████████| 158/158 [00:01<00:00, 129.04it/s]\n",
      "loss: 0.3284, accuracy: 0.8500:   1%|          | 12/1000 [00:00<00:15, 64.34it/s]"
     ]
    },
    {
     "name": "stdout",
     "output_type": "stream",
     "text": [
      "Epoch 5: train_acc_0.8913_train_loss_0.2866_val_acc_0.8735_val_loss_0.3497 epoch time 17.7668 seconds\n"
     ]
    },
    {
     "name": "stderr",
     "output_type": "stream",
     "text": [
      "loss: 0.3655, accuracy: 0.8700: 100%|██████████| 1000/1000 [00:16<00:00, 60.79it/s]\n",
      "loss: 0.3467, accuracy: 0.8500: 100%|██████████| 158/158 [00:01<00:00, 127.95it/s]\n",
      "loss: 0.0858, accuracy: 0.9800:   1%|          | 12/1000 [00:00<00:15, 63.74it/s]"
     ]
    },
    {
     "name": "stdout",
     "output_type": "stream",
     "text": [
      "Epoch 6: train_acc_0.8950_train_loss_0.2696_val_acc_0.8796_val_loss_0.3398 epoch time 17.7879 seconds\n"
     ]
    },
    {
     "name": "stderr",
     "output_type": "stream",
     "text": [
      "loss: 0.3299, accuracy: 0.8700: 100%|██████████| 1000/1000 [00:16<00:00, 61.20it/s]\n",
      "loss: 0.4901, accuracy: 0.8600: 100%|██████████| 158/158 [00:01<00:00, 130.67it/s]\n",
      "loss: 0.2355, accuracy: 0.8800:   1%|          | 12/1000 [00:00<00:15, 64.26it/s]"
     ]
    },
    {
     "name": "stdout",
     "output_type": "stream",
     "text": [
      "Epoch 7: train_acc_0.9022_train_loss_0.2517_val_acc_0.8794_val_loss_0.3401 epoch time 17.7584 seconds\n"
     ]
    },
    {
     "name": "stderr",
     "output_type": "stream",
     "text": [
      "loss: 0.2230, accuracy: 0.9300: 100%|██████████| 1000/1000 [00:16<00:00, 60.93it/s]\n",
      "loss: 0.1515, accuracy: 0.9500: 100%|██████████| 158/158 [00:01<00:00, 127.64it/s]\n",
      "loss: 0.2713, accuracy: 0.9100:   1%|          | 12/1000 [00:00<00:15, 63.35it/s]"
     ]
    },
    {
     "name": "stdout",
     "output_type": "stream",
     "text": [
      "Epoch 8: train_acc_0.9050_train_loss_0.2390_val_acc_0.8794_val_loss_0.3501 epoch time 17.7547 seconds\n"
     ]
    },
    {
     "name": "stderr",
     "output_type": "stream",
     "text": [
      "loss: 0.1105, accuracy: 0.9800: 100%|██████████| 1000/1000 [00:16<00:00, 60.93it/s]\n",
      "loss: 0.2055, accuracy: 0.9200: 100%|██████████| 158/158 [00:01<00:00, 127.03it/s]\n",
      "loss: 0.1188, accuracy: 0.9600:   1%|          | 12/1000 [00:00<00:15, 62.31it/s]"
     ]
    },
    {
     "name": "stdout",
     "output_type": "stream",
     "text": [
      "Epoch 9: train_acc_0.9096_train_loss_0.2234_val_acc_0.8775_val_loss_0.3607 epoch time 17.7603 seconds\n"
     ]
    },
    {
     "name": "stderr",
     "output_type": "stream",
     "text": [
      "loss: 0.2376, accuracy: 0.8600: 100%|██████████| 1000/1000 [00:16<00:00, 61.44it/s]\n",
      "loss: 0.3317, accuracy: 0.9000: 100%|██████████| 158/158 [00:01<00:00, 127.42it/s]\n",
      "loss: 0.1249, accuracy: 0.9500:   1%|          | 12/1000 [00:00<00:15, 64.22it/s]"
     ]
    },
    {
     "name": "stdout",
     "output_type": "stream",
     "text": [
      "Epoch 10: train_acc_0.9137_train_loss_0.2125_val_acc_0.8775_val_loss_0.3672 epoch time 17.7635 seconds\n"
     ]
    },
    {
     "name": "stderr",
     "output_type": "stream",
     "text": [
      "loss: 0.1099, accuracy: 0.9700: 100%|██████████| 1000/1000 [00:16<00:00, 61.92it/s]\n",
      "loss: 0.3150, accuracy: 0.8900: 100%|██████████| 158/158 [00:01<00:00, 126.40it/s]\n",
      "loss: 0.1262, accuracy: 0.9500:   1%|          | 12/1000 [00:00<00:15, 63.27it/s]"
     ]
    },
    {
     "name": "stdout",
     "output_type": "stream",
     "text": [
      "Epoch 11: train_acc_0.9175_train_loss_0.2000_val_acc_0.8795_val_loss_0.3769 epoch time 17.5075 seconds\n"
     ]
    },
    {
     "name": "stderr",
     "output_type": "stream",
     "text": [
      "loss: 0.0915, accuracy: 0.9700: 100%|██████████| 1000/1000 [00:16<00:00, 61.76it/s]\n",
      "loss: 0.2935, accuracy: 0.8600: 100%|██████████| 158/158 [00:01<00:00, 126.07it/s]\n",
      "loss: 0.2133, accuracy: 0.8900:   1%|          | 11/1000 [00:00<00:15, 62.42it/s]"
     ]
    },
    {
     "name": "stdout",
     "output_type": "stream",
     "text": [
      "Epoch 12: train_acc_0.9200_train_loss_0.1917_val_acc_0.8762_val_loss_0.3789 epoch time 17.5489 seconds\n"
     ]
    },
    {
     "name": "stderr",
     "output_type": "stream",
     "text": [
      "loss: 0.1394, accuracy: 0.9500: 100%|██████████| 1000/1000 [00:16<00:00, 61.06it/s]\n",
      "loss: 0.2381, accuracy: 0.8900: 100%|██████████| 158/158 [00:01<00:00, 127.12it/s]\n",
      "loss: 0.1050, accuracy: 0.9600:   1%|          | 11/1000 [00:00<00:15, 63.03it/s]"
     ]
    },
    {
     "name": "stdout",
     "output_type": "stream",
     "text": [
      "Epoch 13: train_acc_0.9241_train_loss_0.1824_val_acc_0.8787_val_loss_0.4039 epoch time 17.7259 seconds\n"
     ]
    },
    {
     "name": "stderr",
     "output_type": "stream",
     "text": [
      "loss: 0.2046, accuracy: 0.9300: 100%|██████████| 1000/1000 [00:16<00:00, 61.42it/s]\n",
      "loss: 0.5594, accuracy: 0.9000: 100%|██████████| 158/158 [00:01<00:00, 126.89it/s]\n",
      "loss: 0.1121, accuracy: 0.9500:   1%|          | 12/1000 [00:00<00:15, 63.07it/s]"
     ]
    },
    {
     "name": "stdout",
     "output_type": "stream",
     "text": [
      "Epoch 14: train_acc_0.9269_train_loss_0.1741_val_acc_0.8768_val_loss_0.4202 epoch time 17.7504 seconds\n"
     ]
    },
    {
     "name": "stderr",
     "output_type": "stream",
     "text": [
      "loss: 0.0976, accuracy: 0.9600: 100%|██████████| 1000/1000 [00:16<00:00, 62.05it/s]\n",
      "loss: 0.5622, accuracy: 0.8700: 100%|██████████| 158/158 [00:01<00:00, 126.19it/s]\n",
      "loss: 0.1415, accuracy: 0.9400:   1%|          | 12/1000 [00:00<00:15, 65.06it/s]"
     ]
    },
    {
     "name": "stdout",
     "output_type": "stream",
     "text": [
      "Epoch 15: train_acc_0.9304_train_loss_0.1653_val_acc_0.8731_val_loss_0.4461 epoch time 17.7424 seconds\n"
     ]
    },
    {
     "name": "stderr",
     "output_type": "stream",
     "text": [
      "loss: 0.1636, accuracy: 0.9200: 100%|██████████| 1000/1000 [00:16<00:00, 61.17it/s]\n",
      "loss: 0.5320, accuracy: 0.8200: 100%|██████████| 158/158 [00:01<00:00, 130.53it/s]\n",
      "loss: 0.1169, accuracy: 0.9500:   1%|          | 12/1000 [00:00<00:16, 61.75it/s]"
     ]
    },
    {
     "name": "stdout",
     "output_type": "stream",
     "text": [
      "Epoch 16: train_acc_0.9325_train_loss_0.1592_val_acc_0.8753_val_loss_0.4355 epoch time 17.6645 seconds\n"
     ]
    },
    {
     "name": "stderr",
     "output_type": "stream",
     "text": [
      "loss: 0.1782, accuracy: 0.9100: 100%|██████████| 1000/1000 [00:16<00:00, 61.81it/s]\n",
      "loss: 0.3838, accuracy: 0.8700: 100%|██████████| 158/158 [00:01<00:00, 128.70it/s]\n",
      "loss: 0.1401, accuracy: 0.9400:   1%|          | 12/1000 [00:00<00:15, 62.41it/s]"
     ]
    },
    {
     "name": "stdout",
     "output_type": "stream",
     "text": [
      "Epoch 17: train_acc_0.9362_train_loss_0.1517_val_acc_0.8728_val_loss_0.4369 epoch time 17.5120 seconds\n"
     ]
    },
    {
     "name": "stderr",
     "output_type": "stream",
     "text": [
      "loss: 0.1056, accuracy: 0.9500: 100%|██████████| 1000/1000 [00:16<00:00, 60.88it/s]\n",
      "loss: 0.7701, accuracy: 0.8100: 100%|██████████| 158/158 [00:01<00:00, 128.11it/s]\n",
      "loss: 0.1447, accuracy: 0.9400:   1%|          | 12/1000 [00:00<00:15, 64.20it/s]"
     ]
    },
    {
     "name": "stdout",
     "output_type": "stream",
     "text": [
      "Epoch 18: train_acc_0.9385_train_loss_0.1463_val_acc_0.8759_val_loss_0.4651 epoch time 17.7620 seconds\n"
     ]
    },
    {
     "name": "stderr",
     "output_type": "stream",
     "text": [
      "loss: 0.1343, accuracy: 0.9400: 100%|██████████| 1000/1000 [00:16<00:00, 61.67it/s]\n",
      "loss: 0.4510, accuracy: 0.8900: 100%|██████████| 158/158 [00:01<00:00, 128.08it/s]\n",
      "loss: 0.2186, accuracy: 0.9200:   1%|          | 12/1000 [00:00<00:15, 61.92it/s]"
     ]
    },
    {
     "name": "stdout",
     "output_type": "stream",
     "text": [
      "Epoch 19: train_acc_0.9407_train_loss_0.1389_val_acc_0.8692_val_loss_0.4846 epoch time 17.7195 seconds\n"
     ]
    },
    {
     "name": "stderr",
     "output_type": "stream",
     "text": [
      "loss: 0.1772, accuracy: 0.9100: 100%|██████████| 1000/1000 [00:16<00:00, 60.92it/s]\n",
      "loss: 0.4376, accuracy: 0.8700: 100%|██████████| 158/158 [00:01<00:00, 129.25it/s]\n",
      "loss: 0.0814, accuracy: 0.9700:   1%|          | 12/1000 [00:00<00:15, 63.50it/s]"
     ]
    },
    {
     "name": "stdout",
     "output_type": "stream",
     "text": [
      "Epoch 20: train_acc_0.9423_train_loss_0.1359_val_acc_0.8691_val_loss_0.4866 epoch time 17.7434 seconds\n"
     ]
    },
    {
     "name": "stderr",
     "output_type": "stream",
     "text": [
      "loss: 0.0751, accuracy: 0.9800: 100%|██████████| 1000/1000 [00:16<00:00, 61.81it/s]\n",
      "loss: 0.6909, accuracy: 0.8600: 100%|██████████| 158/158 [00:01<00:00, 128.84it/s]\n",
      "loss: 0.0802, accuracy: 0.9700:   1%|          | 12/1000 [00:00<00:15, 63.06it/s]"
     ]
    },
    {
     "name": "stdout",
     "output_type": "stream",
     "text": [
      "Epoch 21: train_acc_0.9453_train_loss_0.1296_val_acc_0.8710_val_loss_0.5362 epoch time 17.8051 seconds\n"
     ]
    },
    {
     "name": "stderr",
     "output_type": "stream",
     "text": [
      "loss: 0.1891, accuracy: 0.9200: 100%|██████████| 1000/1000 [00:16<00:00, 61.06it/s]\n",
      "loss: 0.4960, accuracy: 0.8800: 100%|██████████| 158/158 [00:01<00:00, 126.18it/s]\n",
      "loss: 0.1315, accuracy: 0.9400:   1%|          | 12/1000 [00:00<00:15, 63.22it/s]"
     ]
    },
    {
     "name": "stdout",
     "output_type": "stream",
     "text": [
      "Epoch 22: train_acc_0.9469_train_loss_0.1246_val_acc_0.8654_val_loss_0.5269 epoch time 17.7344 seconds\n"
     ]
    },
    {
     "name": "stderr",
     "output_type": "stream",
     "text": [
      "loss: 0.1104, accuracy: 0.9400: 100%|██████████| 1000/1000 [00:16<00:00, 61.03it/s]\n",
      "loss: 0.7333, accuracy: 0.8400: 100%|██████████| 158/158 [00:01<00:00, 126.03it/s]\n",
      "loss: 0.0850, accuracy: 0.9600:   1%|          | 12/1000 [00:00<00:15, 62.75it/s]"
     ]
    },
    {
     "name": "stdout",
     "output_type": "stream",
     "text": [
      "Epoch 23: train_acc_0.9485_train_loss_0.1225_val_acc_0.8727_val_loss_0.5373 epoch time 17.7435 seconds\n"
     ]
    },
    {
     "name": "stderr",
     "output_type": "stream",
     "text": [
      "loss: 0.1273, accuracy: 0.9300: 100%|██████████| 1000/1000 [00:16<00:00, 60.96it/s]\n",
      "loss: 0.4166, accuracy: 0.8400: 100%|██████████| 158/158 [00:01<00:00, 125.68it/s]\n",
      "loss: 0.1385, accuracy: 0.9600:   1%|          | 12/1000 [00:00<00:15, 64.19it/s]"
     ]
    },
    {
     "name": "stdout",
     "output_type": "stream",
     "text": [
      "Epoch 24: train_acc_0.9506_train_loss_0.1176_val_acc_0.8679_val_loss_0.5624 epoch time 17.7668 seconds\n"
     ]
    },
    {
     "name": "stderr",
     "output_type": "stream",
     "text": [
      "loss: 0.1351, accuracy: 0.9300: 100%|██████████| 1000/1000 [00:16<00:00, 61.06it/s]\n",
      "loss: 0.8256, accuracy: 0.8400: 100%|██████████| 158/158 [00:01<00:00, 126.12it/s]\n",
      "loss: 0.1106, accuracy: 0.9400:   1%|          | 12/1000 [00:00<00:15, 64.18it/s]"
     ]
    },
    {
     "name": "stdout",
     "output_type": "stream",
     "text": [
      "Epoch 25: train_acc_0.9516_train_loss_0.1162_val_acc_0.8688_val_loss_0.5528 epoch time 17.7322 seconds\n"
     ]
    },
    {
     "name": "stderr",
     "output_type": "stream",
     "text": [
      "loss: 0.1752, accuracy: 0.9200: 100%|██████████| 1000/1000 [00:16<00:00, 61.11it/s]\n",
      "loss: 1.0887, accuracy: 0.8500: 100%|██████████| 158/158 [00:01<00:00, 126.72it/s]\n",
      "loss: 0.0879, accuracy: 0.9600:   1%|          | 12/1000 [00:00<00:15, 63.85it/s]"
     ]
    },
    {
     "name": "stdout",
     "output_type": "stream",
     "text": [
      "Epoch 26: train_acc_0.9523_train_loss_0.1117_val_acc_0.8708_val_loss_0.5811 epoch time 17.7144 seconds\n"
     ]
    },
    {
     "name": "stderr",
     "output_type": "stream",
     "text": [
      "loss: 0.1193, accuracy: 0.9500: 100%|██████████| 1000/1000 [00:16<00:00, 61.07it/s]\n",
      "loss: 0.9923, accuracy: 0.8000: 100%|██████████| 158/158 [00:01<00:00, 128.21it/s]\n",
      "loss: 0.0716, accuracy: 0.9800:   1%|          | 12/1000 [00:00<00:15, 62.36it/s]"
     ]
    },
    {
     "name": "stdout",
     "output_type": "stream",
     "text": [
      "Epoch 27: train_acc_0.9549_train_loss_0.1079_val_acc_0.8718_val_loss_0.5920 epoch time 17.7151 seconds\n"
     ]
    },
    {
     "name": "stderr",
     "output_type": "stream",
     "text": [
      "loss: 0.1519, accuracy: 0.9500: 100%|██████████| 1000/1000 [00:16<00:00, 61.99it/s]\n",
      "loss: 0.3666, accuracy: 0.8800: 100%|██████████| 158/158 [00:01<00:00, 131.82it/s]\n",
      "loss: 0.1473, accuracy: 0.9400:   1%|          | 12/1000 [00:00<00:15, 62.67it/s]"
     ]
    },
    {
     "name": "stdout",
     "output_type": "stream",
     "text": [
      "Epoch 28: train_acc_0.9561_train_loss_0.1048_val_acc_0.8691_val_loss_0.5969 epoch time 17.4318 seconds\n"
     ]
    },
    {
     "name": "stderr",
     "output_type": "stream",
     "text": [
      "loss: 0.0832, accuracy: 0.9700: 100%|██████████| 1000/1000 [00:16<00:00, 61.10it/s]\n",
      "loss: 0.5074, accuracy: 0.9400: 100%|██████████| 158/158 [00:01<00:00, 126.98it/s]\n",
      "loss: 0.0571, accuracy: 0.9800:   1%|          | 12/1000 [00:00<00:15, 64.63it/s]"
     ]
    },
    {
     "name": "stdout",
     "output_type": "stream",
     "text": [
      "Epoch 29: train_acc_0.9572_train_loss_0.1027_val_acc_0.8717_val_loss_0.6061 epoch time 17.7187 seconds\n"
     ]
    },
    {
     "name": "stderr",
     "output_type": "stream",
     "text": [
      "loss: 0.1500, accuracy: 0.9500: 100%|██████████| 1000/1000 [00:16<00:00, 60.99it/s]\n",
      "loss: 0.3821, accuracy: 0.9100: 100%|██████████| 158/158 [00:01<00:00, 130.67it/s]\n",
      "loss: 0.1496, accuracy: 0.9400:   1%|          | 12/1000 [00:00<00:15, 62.37it/s]"
     ]
    },
    {
     "name": "stdout",
     "output_type": "stream",
     "text": [
      "Epoch 30: train_acc_0.9593_train_loss_0.0995_val_acc_0.8672_val_loss_0.6549 epoch time 17.7091 seconds\n"
     ]
    },
    {
     "name": "stderr",
     "output_type": "stream",
     "text": [
      "loss: 0.1032, accuracy: 0.9500: 100%|██████████| 1000/1000 [00:16<00:00, 61.23it/s]\n",
      "loss: 0.5912, accuracy: 0.8600: 100%|██████████| 158/158 [00:01<00:00, 127.52it/s]\n",
      "loss: 0.1131, accuracy: 0.9600:   1%|          | 12/1000 [00:00<00:15, 64.27it/s]"
     ]
    },
    {
     "name": "stdout",
     "output_type": "stream",
     "text": [
      "Epoch 31: train_acc_0.9589_train_loss_0.0997_val_acc_0.8669_val_loss_0.6402 epoch time 17.6752 seconds\n"
     ]
    },
    {
     "name": "stderr",
     "output_type": "stream",
     "text": [
      "loss: 0.0953, accuracy: 0.9600: 100%|██████████| 1000/1000 [00:16<00:00, 61.39it/s]\n",
      "loss: 0.7797, accuracy: 0.8900: 100%|██████████| 158/158 [00:01<00:00, 127.48it/s]\n",
      "loss: 0.0700, accuracy: 0.9900:   1%|          | 12/1000 [00:00<00:15, 63.97it/s]"
     ]
    },
    {
     "name": "stdout",
     "output_type": "stream",
     "text": [
      "Epoch 32: train_acc_0.9604_train_loss_0.0946_val_acc_0.8700_val_loss_0.6371 epoch time 17.7476 seconds\n"
     ]
    },
    {
     "name": "stderr",
     "output_type": "stream",
     "text": [
      "loss: 0.1083, accuracy: 0.9500: 100%|██████████| 1000/1000 [00:16<00:00, 61.28it/s]\n",
      "loss: 0.6625, accuracy: 0.8400: 100%|██████████| 158/158 [00:01<00:00, 126.66it/s]\n",
      "loss: 0.0297, accuracy: 0.9800:   1%|          | 12/1000 [00:00<00:15, 63.85it/s]"
     ]
    },
    {
     "name": "stdout",
     "output_type": "stream",
     "text": [
      "Epoch 33: train_acc_0.9619_train_loss_0.0924_val_acc_0.8676_val_loss_0.7034 epoch time 17.6730 seconds\n"
     ]
    },
    {
     "name": "stderr",
     "output_type": "stream",
     "text": [
      "loss: 0.0851, accuracy: 0.9700: 100%|██████████| 1000/1000 [00:16<00:00, 61.76it/s]\n",
      "loss: 0.4687, accuracy: 0.9000: 100%|██████████| 158/158 [00:01<00:00, 126.46it/s]\n",
      "loss: 0.1325, accuracy: 0.9700:   1%|          | 12/1000 [00:00<00:15, 63.71it/s]"
     ]
    },
    {
     "name": "stdout",
     "output_type": "stream",
     "text": [
      "Epoch 34: train_acc_0.9627_train_loss_0.0912_val_acc_0.8706_val_loss_0.6619 epoch time 17.5463 seconds\n"
     ]
    },
    {
     "name": "stderr",
     "output_type": "stream",
     "text": [
      "loss: 0.1828, accuracy: 0.9000: 100%|██████████| 1000/1000 [00:16<00:00, 61.69it/s]\n",
      "loss: 1.0122, accuracy: 0.9100: 100%|██████████| 158/158 [00:01<00:00, 128.32it/s]\n",
      "loss: 0.0613, accuracy: 0.9800:   1%|          | 12/1000 [00:00<00:15, 63.82it/s]"
     ]
    },
    {
     "name": "stdout",
     "output_type": "stream",
     "text": [
      "Epoch 35: train_acc_0.9642_train_loss_0.0873_val_acc_0.8651_val_loss_0.7179 epoch time 17.7654 seconds\n"
     ]
    },
    {
     "name": "stderr",
     "output_type": "stream",
     "text": [
      "loss: 0.1202, accuracy: 0.9400: 100%|██████████| 1000/1000 [00:16<00:00, 60.97it/s]\n",
      "loss: 0.7981, accuracy: 0.8600: 100%|██████████| 158/158 [00:01<00:00, 126.05it/s]\n",
      "loss: 0.0841, accuracy: 0.9600:   1%|          | 12/1000 [00:00<00:15, 62.55it/s]"
     ]
    },
    {
     "name": "stdout",
     "output_type": "stream",
     "text": [
      "Epoch 36: train_acc_0.9636_train_loss_0.0892_val_acc_0.8656_val_loss_0.6978 epoch time 17.7601 seconds\n"
     ]
    },
    {
     "name": "stderr",
     "output_type": "stream",
     "text": [
      "loss: 0.0334, accuracy: 1.0000: 100%|██████████| 1000/1000 [00:16<00:00, 61.05it/s]\n",
      "loss: 0.5702, accuracy: 0.8600: 100%|██████████| 158/158 [00:01<00:00, 129.19it/s]\n",
      "loss: 0.1046, accuracy: 0.9700:   1%|          | 12/1000 [00:00<00:15, 62.62it/s]"
     ]
    },
    {
     "name": "stdout",
     "output_type": "stream",
     "text": [
      "Epoch 37: train_acc_0.9657_train_loss_0.0844_val_acc_0.8665_val_loss_0.7006 epoch time 17.7064 seconds\n"
     ]
    },
    {
     "name": "stderr",
     "output_type": "stream",
     "text": [
      "loss: 0.1223, accuracy: 0.9400: 100%|██████████| 1000/1000 [00:16<00:00, 61.00it/s]\n",
      "loss: 0.7271, accuracy: 0.8900: 100%|██████████| 158/158 [00:01<00:00, 128.11it/s]\n",
      "loss: 0.0702, accuracy: 0.9600:   1%|          | 12/1000 [00:00<00:15, 65.25it/s]"
     ]
    },
    {
     "name": "stdout",
     "output_type": "stream",
     "text": [
      "Epoch 38: train_acc_0.9665_train_loss_0.0821_val_acc_0.8652_val_loss_0.7441 epoch time 17.7316 seconds\n"
     ]
    },
    {
     "name": "stderr",
     "output_type": "stream",
     "text": [
      "loss: 0.0767, accuracy: 0.9800: 100%|██████████| 1000/1000 [00:16<00:00, 61.29it/s]\n",
      "loss: 0.6476, accuracy: 0.8600: 100%|██████████| 158/158 [00:01<00:00, 126.21it/s]\n",
      "loss: 0.0974, accuracy: 0.9700:   1%|          | 12/1000 [00:00<00:15, 63.79it/s]"
     ]
    },
    {
     "name": "stdout",
     "output_type": "stream",
     "text": [
      "Epoch 39: train_acc_0.9664_train_loss_0.0826_val_acc_0.8680_val_loss_0.7086 epoch time 17.6702 seconds\n"
     ]
    },
    {
     "name": "stderr",
     "output_type": "stream",
     "text": [
      "loss: 0.0848, accuracy: 0.9700: 100%|██████████| 1000/1000 [00:16<00:00, 61.96it/s]\n",
      "loss: 1.0766, accuracy: 0.8100: 100%|██████████| 158/158 [00:01<00:00, 126.62it/s]\n",
      "loss: 0.0189, accuracy: 1.0000:   1%|          | 12/1000 [00:00<00:15, 65.45it/s]"
     ]
    },
    {
     "name": "stdout",
     "output_type": "stream",
     "text": [
      "Epoch 40: train_acc_0.9684_train_loss_0.0773_val_acc_0.8669_val_loss_0.6919 epoch time 17.8094 seconds\n"
     ]
    },
    {
     "name": "stderr",
     "output_type": "stream",
     "text": [
      "loss: 0.0557, accuracy: 0.9700: 100%|██████████| 1000/1000 [00:16<00:00, 61.12it/s]\n",
      "loss: 0.5642, accuracy: 0.8600: 100%|██████████| 158/158 [00:01<00:00, 127.62it/s]\n",
      "loss: 0.0412, accuracy: 0.9900:   1%|          | 12/1000 [00:00<00:15, 63.70it/s]"
     ]
    },
    {
     "name": "stdout",
     "output_type": "stream",
     "text": [
      "Epoch 41: train_acc_0.9683_train_loss_0.0775_val_acc_0.8676_val_loss_0.7676 epoch time 17.7036 seconds\n"
     ]
    },
    {
     "name": "stderr",
     "output_type": "stream",
     "text": [
      "loss: 0.0304, accuracy: 0.9900: 100%|██████████| 1000/1000 [00:16<00:00, 61.43it/s]\n",
      "loss: 0.9747, accuracy: 0.8500: 100%|██████████| 158/158 [00:01<00:00, 129.02it/s]\n",
      "loss: 0.1123, accuracy: 0.9700:   1%|          | 12/1000 [00:00<00:15, 62.66it/s]"
     ]
    },
    {
     "name": "stdout",
     "output_type": "stream",
     "text": [
      "Epoch 42: train_acc_0.9687_train_loss_0.0778_val_acc_0.8647_val_loss_0.7472 epoch time 17.7164 seconds\n"
     ]
    },
    {
     "name": "stderr",
     "output_type": "stream",
     "text": [
      "loss: 0.0348, accuracy: 0.9800: 100%|██████████| 1000/1000 [00:16<00:00, 61.13it/s]\n",
      "loss: 1.5313, accuracy: 0.8300: 100%|██████████| 158/158 [00:01<00:00, 128.69it/s]\n",
      "loss: 0.0764, accuracy: 0.9800:   1%|          | 12/1000 [00:00<00:15, 62.41it/s]"
     ]
    },
    {
     "name": "stdout",
     "output_type": "stream",
     "text": [
      "Epoch 43: train_acc_0.9703_train_loss_0.0738_val_acc_0.8661_val_loss_0.7648 epoch time 17.6899 seconds\n"
     ]
    },
    {
     "name": "stderr",
     "output_type": "stream",
     "text": [
      "loss: 0.1297, accuracy: 0.9600: 100%|██████████| 1000/1000 [00:16<00:00, 60.98it/s]\n",
      "loss: 0.4569, accuracy: 0.9400: 100%|██████████| 158/158 [00:01<00:00, 126.62it/s]\n",
      "loss: 0.1257, accuracy: 0.9500:   1%|          | 12/1000 [00:00<00:15, 63.59it/s]"
     ]
    },
    {
     "name": "stdout",
     "output_type": "stream",
     "text": [
      "Epoch 44: train_acc_0.9705_train_loss_0.0715_val_acc_0.8677_val_loss_0.7706 epoch time 17.7506 seconds\n"
     ]
    },
    {
     "name": "stderr",
     "output_type": "stream",
     "text": [
      "loss: 0.0418, accuracy: 1.0000: 100%|██████████| 1000/1000 [00:16<00:00, 61.17it/s]\n",
      "loss: 0.5896, accuracy: 0.8900: 100%|██████████| 158/158 [00:01<00:00, 126.81it/s]\n",
      "loss: 0.0647, accuracy: 0.9700:   1%|          | 12/1000 [00:00<00:15, 64.44it/s]"
     ]
    },
    {
     "name": "stdout",
     "output_type": "stream",
     "text": [
      "Epoch 45: train_acc_0.9699_train_loss_0.0755_val_acc_0.8638_val_loss_0.7840 epoch time 17.6958 seconds\n"
     ]
    },
    {
     "name": "stderr",
     "output_type": "stream",
     "text": [
      "loss: 0.0541, accuracy: 0.9800: 100%|██████████| 1000/1000 [00:16<00:00, 62.21it/s]\n",
      "loss: 0.9135, accuracy: 0.8100: 100%|██████████| 158/158 [00:01<00:00, 127.74it/s]\n",
      "loss: 0.1104, accuracy: 0.9400:   1%|          | 12/1000 [00:00<00:16, 61.49it/s]"
     ]
    },
    {
     "name": "stdout",
     "output_type": "stream",
     "text": [
      "Epoch 46: train_acc_0.9717_train_loss_0.0702_val_acc_0.8663_val_loss_0.7944 epoch time 17.4173 seconds\n"
     ]
    },
    {
     "name": "stderr",
     "output_type": "stream",
     "text": [
      "loss: 0.0804, accuracy: 0.9600: 100%|██████████| 1000/1000 [00:16<00:00, 61.25it/s]\n",
      "loss: 0.9232, accuracy: 0.8400: 100%|██████████| 158/158 [00:01<00:00, 126.35it/s]\n",
      "loss: 0.0898, accuracy: 0.9500:   1%|          | 12/1000 [00:00<00:15, 65.18it/s]"
     ]
    },
    {
     "name": "stdout",
     "output_type": "stream",
     "text": [
      "Epoch 47: train_acc_0.9724_train_loss_0.0687_val_acc_0.8632_val_loss_0.8208 epoch time 17.6830 seconds\n"
     ]
    },
    {
     "name": "stderr",
     "output_type": "stream",
     "text": [
      "loss: 0.0605, accuracy: 0.9700: 100%|██████████| 1000/1000 [00:16<00:00, 61.16it/s]\n",
      "loss: 1.1126, accuracy: 0.8500: 100%|██████████| 158/158 [00:01<00:00, 128.06it/s]\n",
      "loss: 0.0810, accuracy: 0.9600:   1%|          | 12/1000 [00:00<00:15, 63.18it/s]"
     ]
    },
    {
     "name": "stdout",
     "output_type": "stream",
     "text": [
      "Epoch 48: train_acc_0.9742_train_loss_0.0657_val_acc_0.8634_val_loss_0.8389 epoch time 17.6885 seconds\n"
     ]
    },
    {
     "name": "stderr",
     "output_type": "stream",
     "text": [
      "loss: 0.0585, accuracy: 0.9700: 100%|██████████| 1000/1000 [00:16<00:00, 61.97it/s]\n",
      "loss: 0.3153, accuracy: 0.9400: 100%|██████████| 158/158 [00:01<00:00, 127.40it/s]\n",
      "loss: 0.0815, accuracy: 0.9600:   1%|          | 12/1000 [00:00<00:15, 62.88it/s]"
     ]
    },
    {
     "name": "stdout",
     "output_type": "stream",
     "text": [
      "Epoch 49: train_acc_0.9717_train_loss_0.0717_val_acc_0.8646_val_loss_0.8293 epoch time 17.7138 seconds\n"
     ]
    },
    {
     "name": "stderr",
     "output_type": "stream",
     "text": [
      "loss: 0.0671, accuracy: 0.9600: 100%|██████████| 1000/1000 [00:16<00:00, 61.04it/s]\n",
      "loss: 0.9026, accuracy: 0.8100: 100%|██████████| 158/158 [00:01<00:00, 126.64it/s]\n",
      "loss: 0.0783, accuracy: 0.9600:   1%|          | 12/1000 [00:00<00:15, 63.12it/s]"
     ]
    },
    {
     "name": "stdout",
     "output_type": "stream",
     "text": [
      "Epoch 50: train_acc_0.9740_train_loss_0.0651_val_acc_0.8647_val_loss_0.8110 epoch time 17.7365 seconds\n"
     ]
    },
    {
     "name": "stderr",
     "output_type": "stream",
     "text": [
      "loss: 0.0650, accuracy: 0.9800: 100%|██████████| 1000/1000 [00:16<00:00, 65.40it/s]\n",
      "loss: 1.2562, accuracy: 0.8500: 100%|██████████| 158/158 [00:01<00:00, 129.49it/s]\n",
      "loss: 0.0407, accuracy: 0.9800:   1%|          | 12/1000 [00:00<00:15, 64.08it/s]"
     ]
    },
    {
     "name": "stdout",
     "output_type": "stream",
     "text": [
      "Epoch 51: train_acc_0.9752_train_loss_0.0620_val_acc_0.8611_val_loss_0.8758 epoch time 17.6415 seconds\n"
     ]
    },
    {
     "name": "stderr",
     "output_type": "stream",
     "text": [
      "loss: 0.0224, accuracy: 0.9900: 100%|██████████| 1000/1000 [00:16<00:00, 61.41it/s]\n",
      "loss: 0.3884, accuracy: 0.9200: 100%|██████████| 158/158 [00:01<00:00, 125.96it/s]\n",
      "loss: 0.0324, accuracy: 0.9900:   1%|          | 12/1000 [00:00<00:15, 63.10it/s]"
     ]
    },
    {
     "name": "stdout",
     "output_type": "stream",
     "text": [
      "Epoch 52: train_acc_0.9753_train_loss_0.0625_val_acc_0.8647_val_loss_0.8850 epoch time 17.6418 seconds\n"
     ]
    },
    {
     "name": "stderr",
     "output_type": "stream",
     "text": [
      "loss: 0.0572, accuracy: 0.9700: 100%|██████████| 1000/1000 [00:16<00:00, 61.62it/s]\n",
      "loss: 1.0529, accuracy: 0.8600: 100%|██████████| 158/158 [00:01<00:00, 128.29it/s]\n",
      "loss: 0.0444, accuracy: 0.9900:   1%|          | 12/1000 [00:00<00:15, 62.66it/s]"
     ]
    },
    {
     "name": "stdout",
     "output_type": "stream",
     "text": [
      "Epoch 53: train_acc_0.9755_train_loss_0.0618_val_acc_0.8640_val_loss_0.8762 epoch time 17.5637 seconds\n"
     ]
    },
    {
     "name": "stderr",
     "output_type": "stream",
     "text": [
      "loss: 0.0690, accuracy: 0.9700: 100%|██████████| 1000/1000 [00:16<00:00, 61.32it/s]\n",
      "loss: 1.0558, accuracy: 0.8700: 100%|██████████| 158/158 [00:01<00:00, 125.61it/s]\n",
      "loss: 0.0305, accuracy: 0.9900:   1%|          | 12/1000 [00:00<00:15, 64.35it/s]"
     ]
    },
    {
     "name": "stdout",
     "output_type": "stream",
     "text": [
      "Epoch 54: train_acc_0.9773_train_loss_0.0580_val_acc_0.8658_val_loss_0.8779 epoch time 17.6712 seconds\n"
     ]
    },
    {
     "name": "stderr",
     "output_type": "stream",
     "text": [
      "loss: 0.0552, accuracy: 0.9800: 100%|██████████| 1000/1000 [00:16<00:00, 61.91it/s]\n",
      "loss: 0.6413, accuracy: 0.8500: 100%|██████████| 158/158 [00:01<00:00, 127.79it/s]\n",
      "loss: 0.0858, accuracy: 0.9700:   1%|          | 12/1000 [00:00<00:15, 63.02it/s]"
     ]
    },
    {
     "name": "stdout",
     "output_type": "stream",
     "text": [
      "Epoch 55: train_acc_0.9755_train_loss_0.0618_val_acc_0.8654_val_loss_0.8640 epoch time 17.7406 seconds\n"
     ]
    },
    {
     "name": "stderr",
     "output_type": "stream",
     "text": [
      "loss: 0.0258, accuracy: 0.9900: 100%|██████████| 1000/1000 [00:16<00:00, 61.02it/s]\n",
      "loss: 0.8177, accuracy: 0.8800: 100%|██████████| 158/158 [00:01<00:00, 127.05it/s]\n",
      "loss: 0.0270, accuracy: 1.0000:   1%|          | 12/1000 [00:00<00:15, 62.61it/s]"
     ]
    },
    {
     "name": "stdout",
     "output_type": "stream",
     "text": [
      "Epoch 56: train_acc_0.9767_train_loss_0.0588_val_acc_0.8632_val_loss_0.8366 epoch time 17.7372 seconds\n"
     ]
    },
    {
     "name": "stderr",
     "output_type": "stream",
     "text": [
      "loss: 0.1276, accuracy: 0.9700: 100%|██████████| 1000/1000 [00:16<00:00, 61.16it/s]\n",
      "loss: 0.9002, accuracy: 0.8500: 100%|██████████| 158/158 [00:01<00:00, 125.72it/s]\n",
      "loss: 0.0548, accuracy: 0.9800:   1%|          | 12/1000 [00:00<00:15, 64.42it/s]"
     ]
    },
    {
     "name": "stdout",
     "output_type": "stream",
     "text": [
      "Epoch 57: train_acc_0.9776_train_loss_0.0570_val_acc_0.8669_val_loss_0.9182 epoch time 17.7024 seconds\n"
     ]
    },
    {
     "name": "stderr",
     "output_type": "stream",
     "text": [
      "loss: 0.0669, accuracy: 0.9600: 100%|██████████| 1000/1000 [00:16<00:00, 61.05it/s]\n",
      "loss: 0.6957, accuracy: 0.8700: 100%|██████████| 158/158 [00:01<00:00, 126.91it/s]\n",
      "loss: 0.0382, accuracy: 0.9800:   1%|          | 12/1000 [00:00<00:15, 64.80it/s]"
     ]
    },
    {
     "name": "stdout",
     "output_type": "stream",
     "text": [
      "Epoch 58: train_acc_0.9775_train_loss_0.0581_val_acc_0.8608_val_loss_0.9107 epoch time 17.7300 seconds\n"
     ]
    },
    {
     "name": "stderr",
     "output_type": "stream",
     "text": [
      "loss: 0.0831, accuracy: 0.9800: 100%|██████████| 1000/1000 [00:16<00:00, 61.30it/s]\n",
      "loss: 0.3556, accuracy: 0.9100: 100%|██████████| 158/158 [00:01<00:00, 127.81it/s]\n",
      "loss: 0.0110, accuracy: 1.0000:   1%|          | 12/1000 [00:00<00:15, 63.84it/s]"
     ]
    },
    {
     "name": "stdout",
     "output_type": "stream",
     "text": [
      "Epoch 59: train_acc_0.9787_train_loss_0.0551_val_acc_0.8613_val_loss_0.8521 epoch time 17.6553 seconds\n"
     ]
    },
    {
     "name": "stderr",
     "output_type": "stream",
     "text": [
      "loss: 0.0800, accuracy: 0.9800: 100%|██████████| 1000/1000 [00:16<00:00, 61.07it/s]\n",
      "loss: 0.7357, accuracy: 0.8700: 100%|██████████| 158/158 [00:01<00:00, 127.95it/s]\n",
      "loss: 0.0594, accuracy: 0.9900:   1%|          | 12/1000 [00:00<00:15, 62.64it/s]"
     ]
    },
    {
     "name": "stdout",
     "output_type": "stream",
     "text": [
      "Epoch 60: train_acc_0.9789_train_loss_0.0545_val_acc_0.8627_val_loss_0.9130 epoch time 17.7138 seconds\n"
     ]
    },
    {
     "name": "stderr",
     "output_type": "stream",
     "text": [
      "loss: 0.1236, accuracy: 0.9500: 100%|██████████| 1000/1000 [00:16<00:00, 62.73it/s]\n",
      "loss: 1.2352, accuracy: 0.8900: 100%|██████████| 158/158 [00:01<00:00, 125.32it/s]\n",
      "loss: 0.0544, accuracy: 0.9700:   1%|          | 12/1000 [00:00<00:15, 64.43it/s]"
     ]
    },
    {
     "name": "stdout",
     "output_type": "stream",
     "text": [
      "Epoch 61: train_acc_0.9793_train_loss_0.0536_val_acc_0.8630_val_loss_0.8989 epoch time 17.7028 seconds\n"
     ]
    },
    {
     "name": "stderr",
     "output_type": "stream",
     "text": [
      "loss: 0.0450, accuracy: 0.9900: 100%|██████████| 1000/1000 [00:16<00:00, 60.99it/s]\n",
      "loss: 0.5880, accuracy: 0.9100: 100%|██████████| 158/158 [00:01<00:00, 126.07it/s]\n",
      "loss: 0.0628, accuracy: 0.9700:   1%|          | 12/1000 [00:00<00:15, 64.88it/s]"
     ]
    },
    {
     "name": "stdout",
     "output_type": "stream",
     "text": [
      "Epoch 62: train_acc_0.9808_train_loss_0.0510_val_acc_0.8626_val_loss_0.9442 epoch time 17.7572 seconds\n"
     ]
    },
    {
     "name": "stderr",
     "output_type": "stream",
     "text": [
      "loss: 0.0683, accuracy: 0.9700: 100%|██████████| 1000/1000 [00:16<00:00, 61.62it/s]\n",
      "loss: 0.6879, accuracy: 0.9300: 100%|██████████| 158/158 [00:01<00:00, 136.05it/s]\n",
      "loss: 0.0768, accuracy: 0.9800:   1%|          | 12/1000 [00:00<00:15, 64.12it/s]"
     ]
    },
    {
     "name": "stdout",
     "output_type": "stream",
     "text": [
      "Epoch 63: train_acc_0.9800_train_loss_0.0517_val_acc_0.8678_val_loss_0.8907 epoch time 17.4918 seconds\n"
     ]
    },
    {
     "name": "stderr",
     "output_type": "stream",
     "text": [
      "loss: 0.0238, accuracy: 0.9900: 100%|██████████| 1000/1000 [00:16<00:00, 61.52it/s]\n",
      "loss: 0.5796, accuracy: 0.9200: 100%|██████████| 158/158 [00:01<00:00, 127.22it/s]\n",
      "loss: 0.0118, accuracy: 1.0000:   1%|          | 12/1000 [00:00<00:15, 63.04it/s]"
     ]
    },
    {
     "name": "stdout",
     "output_type": "stream",
     "text": [
      "Epoch 64: train_acc_0.9798_train_loss_0.0534_val_acc_0.8598_val_loss_0.9154 epoch time 17.5996 seconds\n"
     ]
    },
    {
     "name": "stderr",
     "output_type": "stream",
     "text": [
      "loss: 0.1568, accuracy: 0.9500: 100%|██████████| 1000/1000 [00:16<00:00, 61.33it/s]\n",
      "loss: 0.5038, accuracy: 0.9000: 100%|██████████| 158/158 [00:01<00:00, 127.57it/s]\n",
      "loss: 0.0225, accuracy: 1.0000:   1%|          | 12/1000 [00:00<00:15, 63.49it/s]"
     ]
    },
    {
     "name": "stdout",
     "output_type": "stream",
     "text": [
      "Epoch 65: train_acc_0.9814_train_loss_0.0506_val_acc_0.8634_val_loss_0.9594 epoch time 17.6502 seconds\n"
     ]
    },
    {
     "name": "stderr",
     "output_type": "stream",
     "text": [
      "loss: 0.0571, accuracy: 0.9700: 100%|██████████| 1000/1000 [00:16<00:00, 61.08it/s]\n",
      "loss: 0.3589, accuracy: 0.9200: 100%|██████████| 158/158 [00:01<00:00, 127.03it/s]\n",
      "loss: 0.0376, accuracy: 0.9900:   1%|          | 12/1000 [00:00<00:15, 63.78it/s]"
     ]
    },
    {
     "name": "stdout",
     "output_type": "stream",
     "text": [
      "Epoch 66: train_acc_0.9824_train_loss_0.0465_val_acc_0.8665_val_loss_0.9570 epoch time 17.7187 seconds\n"
     ]
    },
    {
     "name": "stderr",
     "output_type": "stream",
     "text": [
      "loss: 0.0658, accuracy: 0.9700: 100%|██████████| 1000/1000 [00:16<00:00, 61.08it/s]\n",
      "loss: 0.8290, accuracy: 0.8800: 100%|██████████| 158/158 [00:01<00:00, 127.10it/s]\n",
      "loss: 0.0231, accuracy: 0.9900:   1%|          | 12/1000 [00:00<00:15, 65.05it/s]"
     ]
    },
    {
     "name": "stdout",
     "output_type": "stream",
     "text": [
      "Epoch 67: train_acc_0.9827_train_loss_0.0465_val_acc_0.8639_val_loss_0.9845 epoch time 17.7209 seconds\n"
     ]
    },
    {
     "name": "stderr",
     "output_type": "stream",
     "text": [
      "loss: 0.1198, accuracy: 0.9600: 100%|██████████| 1000/1000 [00:16<00:00, 61.49it/s]\n",
      "loss: 0.8595, accuracy: 0.8700: 100%|██████████| 158/158 [00:01<00:00, 130.46it/s]\n",
      "loss: 0.0178, accuracy: 1.0000:   1%|          | 12/1000 [00:00<00:15, 64.52it/s]"
     ]
    },
    {
     "name": "stdout",
     "output_type": "stream",
     "text": [
      "Epoch 68: train_acc_0.9815_train_loss_0.0501_val_acc_0.8613_val_loss_0.9694 epoch time 17.5794 seconds\n"
     ]
    },
    {
     "name": "stderr",
     "output_type": "stream",
     "text": [
      "loss: 0.0658, accuracy: 0.9700: 100%|██████████| 1000/1000 [00:16<00:00, 61.89it/s]\n",
      "loss: 0.9866, accuracy: 0.8800: 100%|██████████| 158/158 [00:01<00:00, 130.54it/s]\n",
      "loss: 0.0449, accuracy: 0.9800:   1%|          | 12/1000 [00:00<00:15, 61.80it/s]"
     ]
    },
    {
     "name": "stdout",
     "output_type": "stream",
     "text": [
      "Epoch 69: train_acc_0.9829_train_loss_0.0455_val_acc_0.8637_val_loss_1.0125 epoch time 17.4750 seconds\n"
     ]
    },
    {
     "name": "stderr",
     "output_type": "stream",
     "text": [
      "loss: 0.0902, accuracy: 0.9800: 100%|██████████| 1000/1000 [00:16<00:00, 61.21it/s]\n",
      "loss: 1.1453, accuracy: 0.8400: 100%|██████████| 158/158 [00:01<00:00, 129.03it/s]\n",
      "loss: 0.0358, accuracy: 0.9800:   1%|          | 12/1000 [00:00<00:15, 64.30it/s]"
     ]
    },
    {
     "name": "stdout",
     "output_type": "stream",
     "text": [
      "Epoch 70: train_acc_0.9818_train_loss_0.0478_val_acc_0.8611_val_loss_1.0033 epoch time 17.6686 seconds\n"
     ]
    },
    {
     "name": "stderr",
     "output_type": "stream",
     "text": [
      "loss: 0.0180, accuracy: 0.9900: 100%|██████████| 1000/1000 [00:16<00:00, 61.13it/s]\n",
      "loss: 1.3788, accuracy: 0.8700: 100%|██████████| 158/158 [00:01<00:00, 125.76it/s]\n",
      "loss: 0.0082, accuracy: 1.0000:   1%|          | 12/1000 [00:00<00:15, 61.99it/s]"
     ]
    },
    {
     "name": "stdout",
     "output_type": "stream",
     "text": [
      "Epoch 71: train_acc_0.9827_train_loss_0.0458_val_acc_0.8630_val_loss_1.0160 epoch time 17.7203 seconds\n"
     ]
    },
    {
     "name": "stderr",
     "output_type": "stream",
     "text": [
      "loss: 0.0349, accuracy: 0.9800: 100%|██████████| 1000/1000 [00:16<00:00, 61.24it/s]\n",
      "loss: 1.1793, accuracy: 0.8400: 100%|██████████| 158/158 [00:01<00:00, 128.14it/s]\n",
      "loss: 0.0342, accuracy: 0.9800:   1%|          | 12/1000 [00:00<00:15, 64.79it/s]"
     ]
    },
    {
     "name": "stdout",
     "output_type": "stream",
     "text": [
      "Epoch 72: train_acc_0.9846_train_loss_0.0410_val_acc_0.8663_val_loss_0.9812 epoch time 17.6662 seconds\n"
     ]
    },
    {
     "name": "stderr",
     "output_type": "stream",
     "text": [
      "loss: 0.0830, accuracy: 0.9800: 100%|██████████| 1000/1000 [00:16<00:00, 61.18it/s]\n",
      "loss: 1.4149, accuracy: 0.8900: 100%|██████████| 158/158 [00:01<00:00, 128.43it/s]\n",
      "loss: 0.0363, accuracy: 0.9800:   1%|          | 12/1000 [00:00<00:15, 62.44it/s]"
     ]
    },
    {
     "name": "stdout",
     "output_type": "stream",
     "text": [
      "Epoch 73: train_acc_0.9818_train_loss_0.0482_val_acc_0.8631_val_loss_1.0226 epoch time 17.6818 seconds\n"
     ]
    },
    {
     "name": "stderr",
     "output_type": "stream",
     "text": [
      "loss: 0.0510, accuracy: 0.9900: 100%|██████████| 1000/1000 [00:16<00:00, 61.31it/s]\n",
      "loss: 0.4648, accuracy: 0.8900: 100%|██████████| 158/158 [00:01<00:00, 127.45it/s]\n",
      "loss: 0.0389, accuracy: 0.9800:   1%|          | 12/1000 [00:00<00:15, 62.53it/s]"
     ]
    },
    {
     "name": "stdout",
     "output_type": "stream",
     "text": [
      "Epoch 74: train_acc_0.9834_train_loss_0.0443_val_acc_0.8634_val_loss_0.9606 epoch time 17.6550 seconds\n"
     ]
    },
    {
     "name": "stderr",
     "output_type": "stream",
     "text": [
      "loss: 0.0383, accuracy: 0.9900: 100%|██████████| 1000/1000 [00:16<00:00, 61.70it/s]\n",
      "loss: 1.5019, accuracy: 0.8100: 100%|██████████| 158/158 [00:01<00:00, 127.44it/s]\n",
      "loss: 0.0590, accuracy: 0.9600:   1%|          | 11/1000 [00:00<00:15, 61.94it/s]"
     ]
    },
    {
     "name": "stdout",
     "output_type": "stream",
     "text": [
      "Epoch 75: train_acc_0.9852_train_loss_0.0408_val_acc_0.8639_val_loss_1.0147 epoch time 17.7350 seconds\n"
     ]
    },
    {
     "name": "stderr",
     "output_type": "stream",
     "text": [
      "loss: 0.0652, accuracy: 0.9700: 100%|██████████| 1000/1000 [00:16<00:00, 61.73it/s]\n",
      "loss: 0.9482, accuracy: 0.8600: 100%|██████████| 158/158 [00:01<00:00, 128.91it/s]\n",
      "loss: 0.0320, accuracy: 0.9900:   1%|          | 12/1000 [00:00<00:15, 62.29it/s]"
     ]
    },
    {
     "name": "stdout",
     "output_type": "stream",
     "text": [
      "Epoch 76: train_acc_0.9835_train_loss_0.0444_val_acc_0.8641_val_loss_0.9075 epoch time 17.7156 seconds\n"
     ]
    },
    {
     "name": "stderr",
     "output_type": "stream",
     "text": [
      "loss: 0.0379, accuracy: 0.9800: 100%|██████████| 1000/1000 [00:16<00:00, 61.31it/s]\n",
      "loss: 0.7446, accuracy: 0.8900: 100%|██████████| 158/158 [00:01<00:00, 127.34it/s]\n",
      "loss: 0.0431, accuracy: 0.9700:   1%|          | 12/1000 [00:00<00:16, 61.11it/s]"
     ]
    },
    {
     "name": "stdout",
     "output_type": "stream",
     "text": [
      "Epoch 77: train_acc_0.9854_train_loss_0.0415_val_acc_0.8637_val_loss_1.0181 epoch time 17.6576 seconds\n"
     ]
    },
    {
     "name": "stderr",
     "output_type": "stream",
     "text": [
      "loss: 0.0275, accuracy: 0.9800: 100%|██████████| 1000/1000 [00:16<00:00, 61.19it/s]\n",
      "loss: 1.0067, accuracy: 0.8300: 100%|██████████| 158/158 [00:01<00:00, 126.89it/s]\n",
      "loss: 0.0207, accuracy: 1.0000:   1%|          | 12/1000 [00:00<00:15, 63.03it/s]"
     ]
    },
    {
     "name": "stdout",
     "output_type": "stream",
     "text": [
      "Epoch 78: train_acc_0.9845_train_loss_0.0421_val_acc_0.8634_val_loss_1.0287 epoch time 17.6918 seconds\n"
     ]
    },
    {
     "name": "stderr",
     "output_type": "stream",
     "text": [
      "loss: 0.1115, accuracy: 0.9500: 100%|██████████| 1000/1000 [00:16<00:00, 61.06it/s]\n",
      "loss: 0.5847, accuracy: 0.8700: 100%|██████████| 158/158 [00:01<00:00, 126.98it/s]\n",
      "loss: 0.0210, accuracy: 0.9900:   1%|          | 12/1000 [00:00<00:15, 63.96it/s]"
     ]
    },
    {
     "name": "stdout",
     "output_type": "stream",
     "text": [
      "Epoch 79: train_acc_0.9853_train_loss_0.0391_val_acc_0.8632_val_loss_0.9816 epoch time 17.7277 seconds\n"
     ]
    },
    {
     "name": "stderr",
     "output_type": "stream",
     "text": [
      "loss: 0.0871, accuracy: 0.9900: 100%|██████████| 1000/1000 [00:16<00:00, 61.07it/s]\n",
      "loss: 1.5634, accuracy: 0.8100: 100%|██████████| 158/158 [00:01<00:00, 127.03it/s]\n",
      "loss: 0.0745, accuracy: 0.9700:   1%|          | 11/1000 [00:00<00:15, 62.42it/s]"
     ]
    },
    {
     "name": "stdout",
     "output_type": "stream",
     "text": [
      "Epoch 80: train_acc_0.9853_train_loss_0.0406_val_acc_0.8634_val_loss_1.0111 epoch time 17.7224 seconds\n"
     ]
    },
    {
     "name": "stderr",
     "output_type": "stream",
     "text": [
      "loss: 0.0171, accuracy: 1.0000: 100%|██████████| 1000/1000 [00:16<00:00, 61.91it/s]\n",
      "loss: 0.9674, accuracy: 0.8500: 100%|██████████| 158/158 [00:01<00:00, 128.40it/s]\n",
      "loss: 0.0308, accuracy: 0.9900:   1%|          | 12/1000 [00:00<00:15, 65.17it/s]"
     ]
    },
    {
     "name": "stdout",
     "output_type": "stream",
     "text": [
      "Epoch 81: train_acc_0.9859_train_loss_0.0394_val_acc_0.8609_val_loss_1.0199 epoch time 17.4873 seconds\n"
     ]
    },
    {
     "name": "stderr",
     "output_type": "stream",
     "text": [
      "loss: 0.0805, accuracy: 0.9700: 100%|██████████| 1000/1000 [00:16<00:00, 60.78it/s]\n",
      "loss: 0.8263, accuracy: 0.8700: 100%|██████████| 158/158 [00:01<00:00, 127.87it/s]\n",
      "loss: 0.0155, accuracy: 1.0000:   1%|          | 12/1000 [00:00<00:15, 64.55it/s]"
     ]
    },
    {
     "name": "stdout",
     "output_type": "stream",
     "text": [
      "Epoch 82: train_acc_0.9860_train_loss_0.0386_val_acc_0.8615_val_loss_1.0283 epoch time 17.7935 seconds\n"
     ]
    },
    {
     "name": "stderr",
     "output_type": "stream",
     "text": [
      "loss: 0.0526, accuracy: 0.9800: 100%|██████████| 1000/1000 [00:16<00:00, 61.11it/s]\n",
      "loss: 0.4984, accuracy: 0.9000: 100%|██████████| 158/158 [00:01<00:00, 124.43it/s]\n",
      "loss: 0.0149, accuracy: 0.9900:   1%|          | 11/1000 [00:00<00:15, 61.86it/s]"
     ]
    },
    {
     "name": "stdout",
     "output_type": "stream",
     "text": [
      "Epoch 83: train_acc_0.9869_train_loss_0.0353_val_acc_0.8616_val_loss_1.0917 epoch time 17.7408 seconds\n"
     ]
    },
    {
     "name": "stderr",
     "output_type": "stream",
     "text": [
      "loss: 0.0574, accuracy: 0.9700: 100%|██████████| 1000/1000 [00:16<00:00, 61.25it/s]\n",
      "loss: 1.3790, accuracy: 0.8400: 100%|██████████| 158/158 [00:01<00:00, 125.38it/s]\n",
      "loss: 0.0368, accuracy: 0.9900:   1%|          | 12/1000 [00:00<00:15, 64.10it/s]"
     ]
    },
    {
     "name": "stdout",
     "output_type": "stream",
     "text": [
      "Epoch 84: train_acc_0.9848_train_loss_0.0414_val_acc_0.8640_val_loss_1.0490 epoch time 17.6931 seconds\n"
     ]
    },
    {
     "name": "stderr",
     "output_type": "stream",
     "text": [
      "loss: 0.0112, accuracy: 1.0000: 100%|██████████| 1000/1000 [00:16<00:00, 61.37it/s]\n",
      "loss: 1.2861, accuracy: 0.8800: 100%|██████████| 158/158 [00:01<00:00, 126.98it/s]\n",
      "loss: 0.0495, accuracy: 0.9900:   1%|          | 12/1000 [00:00<00:15, 62.84it/s]"
     ]
    },
    {
     "name": "stdout",
     "output_type": "stream",
     "text": [
      "Epoch 85: train_acc_0.9875_train_loss_0.0351_val_acc_0.8632_val_loss_1.1019 epoch time 17.6414 seconds\n"
     ]
    },
    {
     "name": "stderr",
     "output_type": "stream",
     "text": [
      "loss: 0.0592, accuracy: 0.9800: 100%|██████████| 1000/1000 [00:16<00:00, 61.69it/s]\n",
      "loss: 0.6529, accuracy: 0.8900: 100%|██████████| 158/158 [00:01<00:00, 129.86it/s]\n",
      "loss: 0.0472, accuracy: 0.9900:   1%|          | 12/1000 [00:00<00:15, 63.04it/s]"
     ]
    },
    {
     "name": "stdout",
     "output_type": "stream",
     "text": [
      "Epoch 86: train_acc_0.9852_train_loss_0.0423_val_acc_0.8588_val_loss_1.0170 epoch time 17.5343 seconds\n"
     ]
    },
    {
     "name": "stderr",
     "output_type": "stream",
     "text": [
      "loss: 0.0180, accuracy: 0.9900: 100%|██████████| 1000/1000 [00:16<00:00, 60.92it/s]\n",
      "loss: 0.9832, accuracy: 0.8400: 100%|██████████| 158/158 [00:01<00:00, 128.49it/s]\n",
      "loss: 0.0448, accuracy: 0.9700:   1%|          | 12/1000 [00:00<00:15, 64.13it/s]"
     ]
    },
    {
     "name": "stdout",
     "output_type": "stream",
     "text": [
      "Epoch 87: train_acc_0.9881_train_loss_0.0339_val_acc_0.8634_val_loss_1.1023 epoch time 17.7473 seconds\n"
     ]
    },
    {
     "name": "stderr",
     "output_type": "stream",
     "text": [
      "loss: 0.0275, accuracy: 0.9900: 100%|██████████| 1000/1000 [00:16<00:00, 61.11it/s]\n",
      "loss: 0.6644, accuracy: 0.9100: 100%|██████████| 158/158 [00:01<00:00, 126.25it/s]\n",
      "loss: 0.0190, accuracy: 0.9900:   1%|          | 12/1000 [00:00<00:15, 63.90it/s]"
     ]
    },
    {
     "name": "stdout",
     "output_type": "stream",
     "text": [
      "Epoch 88: train_acc_0.9873_train_loss_0.0342_val_acc_0.8589_val_loss_1.0876 epoch time 17.7195 seconds\n"
     ]
    },
    {
     "name": "stderr",
     "output_type": "stream",
     "text": [
      "loss: 0.0604, accuracy: 0.9800: 100%|██████████| 1000/1000 [00:16<00:00, 61.05it/s]\n",
      "loss: 1.1206, accuracy: 0.8400: 100%|██████████| 158/158 [00:01<00:00, 128.93it/s]\n",
      "loss: 0.0104, accuracy: 1.0000:   1%|          | 12/1000 [00:00<00:15, 64.53it/s]"
     ]
    },
    {
     "name": "stdout",
     "output_type": "stream",
     "text": [
      "Epoch 89: train_acc_0.9864_train_loss_0.0379_val_acc_0.8625_val_loss_1.0864 epoch time 17.7111 seconds\n"
     ]
    },
    {
     "name": "stderr",
     "output_type": "stream",
     "text": [
      "loss: 0.0241, accuracy: 0.9900: 100%|██████████| 1000/1000 [00:16<00:00, 60.94it/s]\n",
      "loss: 0.6842, accuracy: 0.8900: 100%|██████████| 158/158 [00:01<00:00, 126.89it/s]\n",
      "loss: 0.0011, accuracy: 1.0000:   1%|          | 12/1000 [00:00<00:15, 64.48it/s]"
     ]
    },
    {
     "name": "stdout",
     "output_type": "stream",
     "text": [
      "Epoch 90: train_acc_0.9874_train_loss_0.0356_val_acc_0.8661_val_loss_1.0882 epoch time 17.7588 seconds\n"
     ]
    },
    {
     "name": "stderr",
     "output_type": "stream",
     "text": [
      "loss: 0.0197, accuracy: 0.9900: 100%|██████████| 1000/1000 [00:16<00:00, 62.95it/s]\n",
      "loss: 0.8640, accuracy: 0.8900: 100%|██████████| 158/158 [00:01<00:00, 127.48it/s]\n",
      "loss: 0.0799, accuracy: 0.9800:   1%|          | 11/1000 [00:00<00:15, 62.47it/s]"
     ]
    },
    {
     "name": "stdout",
     "output_type": "stream",
     "text": [
      "Epoch 91: train_acc_0.9875_train_loss_0.0356_val_acc_0.8585_val_loss_1.1411 epoch time 17.7303 seconds\n"
     ]
    },
    {
     "name": "stderr",
     "output_type": "stream",
     "text": [
      "loss: 0.0330, accuracy: 0.9900: 100%|██████████| 1000/1000 [00:16<00:00, 61.37it/s]\n",
      "loss: 1.5841, accuracy: 0.8500: 100%|██████████| 158/158 [00:01<00:00, 126.25it/s]\n",
      "loss: 0.0145, accuracy: 0.9900:   1%|          | 12/1000 [00:00<00:15, 62.79it/s]"
     ]
    },
    {
     "name": "stdout",
     "output_type": "stream",
     "text": [
      "Epoch 92: train_acc_0.9873_train_loss_0.0370_val_acc_0.8644_val_loss_1.1489 epoch time 17.7827 seconds\n"
     ]
    },
    {
     "name": "stderr",
     "output_type": "stream",
     "text": [
      "loss: 0.0337, accuracy: 0.9900: 100%|██████████| 1000/1000 [00:16<00:00, 61.09it/s]\n",
      "loss: 1.2512, accuracy: 0.8600: 100%|██████████| 158/158 [00:01<00:00, 125.76it/s]\n",
      "loss: 0.0107, accuracy: 1.0000:   1%|          | 12/1000 [00:00<00:15, 63.25it/s]"
     ]
    },
    {
     "name": "stdout",
     "output_type": "stream",
     "text": [
      "Epoch 93: train_acc_0.9884_train_loss_0.0320_val_acc_0.8596_val_loss_1.0941 epoch time 17.7288 seconds\n"
     ]
    },
    {
     "name": "stderr",
     "output_type": "stream",
     "text": [
      "loss: 0.0317, accuracy: 0.9800: 100%|██████████| 1000/1000 [00:16<00:00, 61.52it/s]\n",
      "loss: 1.5720, accuracy: 0.7700: 100%|██████████| 158/158 [00:01<00:00, 129.78it/s]\n",
      "loss: 0.0204, accuracy: 0.9900:   1%|          | 12/1000 [00:00<00:15, 62.58it/s]"
     ]
    },
    {
     "name": "stdout",
     "output_type": "stream",
     "text": [
      "Epoch 94: train_acc_0.9864_train_loss_0.0369_val_acc_0.8609_val_loss_1.0494 epoch time 17.7368 seconds\n"
     ]
    },
    {
     "name": "stderr",
     "output_type": "stream",
     "text": [
      "loss: 0.0258, accuracy: 0.9900: 100%|██████████| 1000/1000 [00:16<00:00, 61.10it/s]\n",
      "loss: 1.3508, accuracy: 0.8300: 100%|██████████| 158/158 [00:01<00:00, 127.74it/s]\n",
      "loss: 0.0148, accuracy: 0.9900:   1%|          | 12/1000 [00:00<00:15, 63.01it/s]"
     ]
    },
    {
     "name": "stdout",
     "output_type": "stream",
     "text": [
      "Epoch 95: train_acc_0.9870_train_loss_0.0364_val_acc_0.8639_val_loss_1.1690 epoch time 17.7102 seconds\n"
     ]
    },
    {
     "name": "stderr",
     "output_type": "stream",
     "text": [
      "loss: 0.0610, accuracy: 0.9700: 100%|██████████| 1000/1000 [00:16<00:00, 61.01it/s]\n",
      "loss: 0.6991, accuracy: 0.9000: 100%|██████████| 158/158 [00:01<00:00, 124.75it/s]\n",
      "loss: 0.0011, accuracy: 1.0000:   1%|          | 12/1000 [00:00<00:15, 63.02it/s]"
     ]
    },
    {
     "name": "stdout",
     "output_type": "stream",
     "text": [
      "Epoch 96: train_acc_0.9876_train_loss_0.0352_val_acc_0.8629_val_loss_1.1053 epoch time 17.7623 seconds\n"
     ]
    },
    {
     "name": "stderr",
     "output_type": "stream",
     "text": [
      "loss: 0.0312, accuracy: 0.9900: 100%|██████████| 1000/1000 [00:16<00:00, 61.06it/s]\n",
      "loss: 1.6231, accuracy: 0.7900: 100%|██████████| 158/158 [00:01<00:00, 127.05it/s]\n",
      "loss: 0.0104, accuracy: 0.9900:   1%|          | 12/1000 [00:00<00:15, 65.32it/s]"
     ]
    },
    {
     "name": "stdout",
     "output_type": "stream",
     "text": [
      "Epoch 97: train_acc_0.9887_train_loss_0.0321_val_acc_0.8639_val_loss_1.1122 epoch time 17.7235 seconds\n"
     ]
    },
    {
     "name": "stderr",
     "output_type": "stream",
     "text": [
      "loss: 0.0177, accuracy: 1.0000: 100%|██████████| 1000/1000 [00:16<00:00, 62.37it/s]\n",
      "loss: 1.2709, accuracy: 0.8600: 100%|██████████| 158/158 [00:01<00:00, 128.05it/s]\n",
      "loss: 0.0176, accuracy: 0.9900:   1%|          | 12/1000 [00:00<00:15, 64.89it/s]"
     ]
    },
    {
     "name": "stdout",
     "output_type": "stream",
     "text": [
      "Epoch 98: train_acc_0.9879_train_loss_0.0339_val_acc_0.8596_val_loss_1.0281 epoch time 17.6703 seconds\n"
     ]
    },
    {
     "name": "stderr",
     "output_type": "stream",
     "text": [
      "loss: 0.0038, accuracy: 1.0000: 100%|██████████| 1000/1000 [00:16<00:00, 61.68it/s]\n",
      "loss: 1.1326, accuracy: 0.8800: 100%|██████████| 158/158 [00:01<00:00, 126.28it/s]\n",
      "loss: 0.4462, accuracy: 0.8400:  16%|█▋        | 26/158 [00:00<00:00, 139.67it/s]"
     ]
    },
    {
     "name": "stdout",
     "output_type": "stream",
     "text": [
      "Epoch 99: train_acc_0.9882_train_loss_0.0333_val_acc_0.8630_val_loss_1.0876 epoch time 17.5695 seconds\n",
      "Generating test set evaluation metrics\n"
     ]
    },
    {
     "name": "stderr",
     "output_type": "stream",
     "text": [
      "loss: 0.4582, accuracy: 0.8500: 100%|██████████| 158/158 [00:01<00:00, 124.48it/s]\n"
     ]
    }
   ],
   "source": [
    "batch_size = 100\n",
    "image_num_channels = 1\n",
    "image_height = 28\n",
    "image_width = 28\n",
    "dim_reduction_type = ['strided_convolution', 'dilated_convolution', 'max_pooling', 'avg_pooling']\n",
    "\n",
    "num_filters = 64\n",
    "num_layers = 3\n",
    "dim_reduction_idx = 0\n",
    "\n",
    "experiment_name = 'stride3_filter64_layer3_type0'\n",
    "num_epochs = 100\n",
    "weight_decay_coefficient = 1e-05\n",
    "seed = 9112018\n",
    "use_gpu = True\n",
    "\n",
    "rng = np.random.RandomState(seed=seed)\n",
    "train_data = data_providers.EMNISTDataProvider('train', batch_size=batch_size, rng=rng)\n",
    "val_data = data_providers.EMNISTDataProvider('valid', batch_size=batch_size, rng=rng)\n",
    "test_data = data_providers.EMNISTDataProvider('test', batch_size=batch_size, rng=rng)\n",
    "\n",
    "\n",
    "custom_conv_net = ConvolutionalNetwork(\n",
    "    input_shape=(batch_size, image_num_channels, image_height, image_width),\n",
    "    dim_reduction_type=dim_reduction_type[dim_reduction_idx],\n",
    "    num_output_classes=47, num_filters=num_filters, num_layers=num_layers, use_bias=False)\n",
    "\n",
    "conv_experiment = ExperimentBuilder(network_model=custom_conv_net,\n",
    "                                    experiment_name=experiment_name,\n",
    "                                    num_epochs=num_epochs,\n",
    "                                    weight_decay_coefficient=weight_decay_coefficient,\n",
    "                                    use_gpu=use_gpu,\n",
    "                                    train_data=train_data, val_data=val_data, test_data=test_data)\n",
    "total_losses, _ = conv_experiment.run_experiment()"
   ]
  },
  {
   "cell_type": "code",
   "execution_count": 6,
   "metadata": {},
   "outputs": [
    {
     "data": {
      "image/png": "[encoded data removed]",
      "text/plain": [
       "<Figure size 576x288 with 1 Axes>"
      ]
     },
     "metadata": {
      "needs_background": "light"
     },
     "output_type": "display_data"
    },
    {
     "data": {
      "image/png": "[encoded data removed]",
      "text/plain": [
       "<Figure size 576x288 with 1 Axes>"
      ]
     },
     "metadata": {
      "needs_background": "light"
     },
     "output_type": "display_data"
    }
   ],
   "source": [
    "plot_stats_in_graph(total_losses)"
   ]
  },
  {
   "cell_type": "code",
   "execution_count": 7,
   "metadata": {
    "scrolled": true
   },
   "outputs": [
    {
     "name": "stdout",
     "output_type": "stream",
     "text": [
      "KeysView(<numpy.lib.npyio.NpzFile object at 0x7f56e3f18470>)\n",
      "KeysView(<numpy.lib.npyio.NpzFile object at 0x7f56e3f18470>)\n",
      "KeysView(<numpy.lib.npyio.NpzFile object at 0x7f56e3f186d8>)\n",
      "Building basic block of ConvolutionalNetwork using input shape (100, 1, 28, 28)\n",
      "torch.Size([100, 64, 28, 28])\n",
      "torch.Size([100, 64, 9, 9])\n",
      "torch.Size([100, 64, 9, 9])\n",
      "torch.Size([100, 64, 2, 2])\n",
      "torch.Size([100, 64, 2, 2])\n"
     ]
    },
    {
     "ename": "RuntimeError",
     "evalue": "Given input size per channel: (2 x 2). Calculated output size per channel: (0 x 0). Output size is too small at /opt/conda/conda-bld/pytorch_1532582123400/work/aten/src/THNN/generic/SpatialDilatedConvolution.c:52",
     "output_type": "error",
     "traceback": [
      "\u001b[0;31m---------------------------------------------------------------------------\u001b[0m",
      "\u001b[0;31mRuntimeError\u001b[0m                              Traceback (most recent call last)",
      "\u001b[0;32m<ipython-input-7-2591bfb04bdd>\u001b[0m in \u001b[0;36m<module>\u001b[0;34m\u001b[0m\n\u001b[1;32m     24\u001b[0m     \u001b[0minput_shape\u001b[0m\u001b[0;34m=\u001b[0m\u001b[0;34m(\u001b[0m\u001b[0mbatch_size\u001b[0m\u001b[0;34m,\u001b[0m \u001b[0mimage_num_channels\u001b[0m\u001b[0;34m,\u001b[0m \u001b[0mimage_height\u001b[0m\u001b[0;34m,\u001b[0m \u001b[0mimage_width\u001b[0m\u001b[0;34m)\u001b[0m\u001b[0;34m,\u001b[0m\u001b[0;34m\u001b[0m\u001b[0m\n\u001b[1;32m     25\u001b[0m     \u001b[0mdim_reduction_type\u001b[0m\u001b[0;34m=\u001b[0m\u001b[0mdim_reduction_type\u001b[0m\u001b[0;34m[\u001b[0m\u001b[0mdim_reduction_idx\u001b[0m\u001b[0;34m]\u001b[0m\u001b[0;34m,\u001b[0m\u001b[0;34m\u001b[0m\u001b[0m\n\u001b[0;32m---> 26\u001b[0;31m     num_output_classes=47, num_filters=num_filters, num_layers=num_layers, use_bias=False)\n\u001b[0m\u001b[1;32m     27\u001b[0m \u001b[0;34m\u001b[0m\u001b[0m\n\u001b[1;32m     28\u001b[0m conv_experiment = ExperimentBuilder(network_model=custom_conv_net,\n",
      "\u001b[0;32m<ipython-input-3-7f0ccf0ded55>\u001b[0m in \u001b[0;36m__init__\u001b[0;34m(self, input_shape, dim_reduction_type, num_output_classes, num_filters, num_layers, use_bias)\u001b[0m\n\u001b[1;32m     21\u001b[0m         \u001b[0mself\u001b[0m\u001b[0;34m.\u001b[0m\u001b[0mlayer_dict\u001b[0m \u001b[0;34m=\u001b[0m \u001b[0mnn\u001b[0m\u001b[0;34m.\u001b[0m\u001b[0mModuleDict\u001b[0m\u001b[0;34m(\u001b[0m\u001b[0;34m)\u001b[0m\u001b[0;34m\u001b[0m\u001b[0m\n\u001b[1;32m     22\u001b[0m         \u001b[0;31m# build the network\u001b[0m\u001b[0;34m\u001b[0m\u001b[0;34m\u001b[0m\u001b[0m\n\u001b[0;32m---> 23\u001b[0;31m         \u001b[0mself\u001b[0m\u001b[0;34m.\u001b[0m\u001b[0mbuild_module\u001b[0m\u001b[0;34m(\u001b[0m\u001b[0;34m)\u001b[0m\u001b[0;34m\u001b[0m\u001b[0m\n\u001b[0m\u001b[1;32m     24\u001b[0m \u001b[0;34m\u001b[0m\u001b[0m\n\u001b[1;32m     25\u001b[0m     \u001b[0;32mdef\u001b[0m \u001b[0mbuild_module\u001b[0m\u001b[0;34m(\u001b[0m\u001b[0mself\u001b[0m\u001b[0;34m)\u001b[0m\u001b[0;34m:\u001b[0m\u001b[0;34m\u001b[0m\u001b[0m\n",
      "\u001b[0;32m<ipython-input-3-7f0ccf0ded55>\u001b[0m in \u001b[0;36mbuild_module\u001b[0;34m(self)\u001b[0m\n\u001b[1;32m     58\u001b[0m                                                                                        \u001b[0mbias\u001b[0m\u001b[0;34m=\u001b[0m\u001b[0mself\u001b[0m\u001b[0;34m.\u001b[0m\u001b[0muse_bias\u001b[0m\u001b[0;34m,\u001b[0m \u001b[0mstride\u001b[0m\u001b[0;34m=\u001b[0m\u001b[0;36m3\u001b[0m\u001b[0;34m,\u001b[0m\u001b[0;34m\u001b[0m\u001b[0m\n\u001b[1;32m     59\u001b[0m                                                                                        dilation=i + 2)\n\u001b[0;32m---> 60\u001b[0;31m                 \u001b[0mout\u001b[0m \u001b[0;34m=\u001b[0m \u001b[0mself\u001b[0m\u001b[0;34m.\u001b[0m\u001b[0mlayer_dict\u001b[0m\u001b[0;34m[\u001b[0m\u001b[0;34m'dim_reduction_dilated_conv_{}'\u001b[0m\u001b[0;34m.\u001b[0m\u001b[0mformat\u001b[0m\u001b[0;34m(\u001b[0m\u001b[0mi\u001b[0m\u001b[0;34m)\u001b[0m\u001b[0;34m]\u001b[0m\u001b[0;34m(\u001b[0m\u001b[0mout\u001b[0m\u001b[0;34m)\u001b[0m \u001b[0;31m# run dilated conv on input to get output\u001b[0m\u001b[0;34m\u001b[0m\u001b[0m\n\u001b[0m\u001b[1;32m     61\u001b[0m                 \u001b[0mout\u001b[0m \u001b[0;34m=\u001b[0m \u001b[0mF\u001b[0m\u001b[0;34m.\u001b[0m\u001b[0mrelu\u001b[0m\u001b[0;34m(\u001b[0m\u001b[0mout\u001b[0m\u001b[0;34m)\u001b[0m \u001b[0;31m# apply relu on output\u001b[0m\u001b[0;34m\u001b[0m\u001b[0m\n\u001b[1;32m     62\u001b[0m \u001b[0;34m\u001b[0m\u001b[0m\n",
      "\u001b[0;32m/opt/miniconda3/envs/mlp/lib/python3.7/site-packages/torch/nn/modules/module.py\u001b[0m in \u001b[0;36m__call__\u001b[0;34m(self, *input, **kwargs)\u001b[0m\n\u001b[1;32m    475\u001b[0m             \u001b[0mresult\u001b[0m \u001b[0;34m=\u001b[0m \u001b[0mself\u001b[0m\u001b[0;34m.\u001b[0m\u001b[0m_slow_forward\u001b[0m\u001b[0;34m(\u001b[0m\u001b[0;34m*\u001b[0m\u001b[0minput\u001b[0m\u001b[0;34m,\u001b[0m \u001b[0;34m**\u001b[0m\u001b[0mkwargs\u001b[0m\u001b[0;34m)\u001b[0m\u001b[0;34m\u001b[0m\u001b[0m\n\u001b[1;32m    476\u001b[0m         \u001b[0;32melse\u001b[0m\u001b[0;34m:\u001b[0m\u001b[0;34m\u001b[0m\u001b[0m\n\u001b[0;32m--> 477\u001b[0;31m             \u001b[0mresult\u001b[0m \u001b[0;34m=\u001b[0m \u001b[0mself\u001b[0m\u001b[0;34m.\u001b[0m\u001b[0mforward\u001b[0m\u001b[0;34m(\u001b[0m\u001b[0;34m*\u001b[0m\u001b[0minput\u001b[0m\u001b[0;34m,\u001b[0m \u001b[0;34m**\u001b[0m\u001b[0mkwargs\u001b[0m\u001b[0;34m)\u001b[0m\u001b[0;34m\u001b[0m\u001b[0m\n\u001b[0m\u001b[1;32m    478\u001b[0m         \u001b[0;32mfor\u001b[0m \u001b[0mhook\u001b[0m \u001b[0;32min\u001b[0m \u001b[0mself\u001b[0m\u001b[0;34m.\u001b[0m\u001b[0m_forward_hooks\u001b[0m\u001b[0;34m.\u001b[0m\u001b[0mvalues\u001b[0m\u001b[0;34m(\u001b[0m\u001b[0;34m)\u001b[0m\u001b[0;34m:\u001b[0m\u001b[0;34m\u001b[0m\u001b[0m\n\u001b[1;32m    479\u001b[0m             \u001b[0mhook_result\u001b[0m \u001b[0;34m=\u001b[0m \u001b[0mhook\u001b[0m\u001b[0;34m(\u001b[0m\u001b[0mself\u001b[0m\u001b[0;34m,\u001b[0m \u001b[0minput\u001b[0m\u001b[0;34m,\u001b[0m \u001b[0mresult\u001b[0m\u001b[0;34m)\u001b[0m\u001b[0;34m\u001b[0m\u001b[0m\n",
      "\u001b[0;32m/opt/miniconda3/envs/mlp/lib/python3.7/site-packages/torch/nn/modules/conv.py\u001b[0m in \u001b[0;36mforward\u001b[0;34m(self, input)\u001b[0m\n\u001b[1;32m    299\u001b[0m     \u001b[0;32mdef\u001b[0m \u001b[0mforward\u001b[0m\u001b[0;34m(\u001b[0m\u001b[0mself\u001b[0m\u001b[0;34m,\u001b[0m \u001b[0minput\u001b[0m\u001b[0;34m)\u001b[0m\u001b[0;34m:\u001b[0m\u001b[0;34m\u001b[0m\u001b[0m\n\u001b[1;32m    300\u001b[0m         return F.conv2d(input, self.weight, self.bias, self.stride,\n\u001b[0;32m--> 301\u001b[0;31m                         self.padding, self.dilation, self.groups)\n\u001b[0m\u001b[1;32m    302\u001b[0m \u001b[0;34m\u001b[0m\u001b[0m\n\u001b[1;32m    303\u001b[0m \u001b[0;34m\u001b[0m\u001b[0m\n",
      "\u001b[0;31mRuntimeError\u001b[0m: Given input size per channel: (2 x 2). Calculated output size per channel: (0 x 0). Output size is too small at /opt/conda/conda-bld/pytorch_1532582123400/work/aten/src/THNN/generic/SpatialDilatedConvolution.c:52"
     ]
    }
   ],
   "source": [
    "batch_size = 100\n",
    "image_num_channels = 1\n",
    "image_height = 28\n",
    "image_width = 28\n",
    "dim_reduction_type = ['strided_convolution', 'dilated_convolution', 'max_pooling', 'avg_pooling']\n",
    "\n",
    "num_filters = 64\n",
    "num_layers = 3\n",
    "dim_reduction_idx = 1\n",
    "\n",
    "experiment_name = 'stride3_filter64_layer3_type1'\n",
    "num_epochs = 100\n",
    "weight_decay_coefficient = 1e-05\n",
    "seed = 9112018\n",
    "use_gpu = True\n",
    "\n",
    "rng = np.random.RandomState(seed=seed)\n",
    "train_data = data_providers.EMNISTDataProvider('train', batch_size=batch_size, rng=rng)\n",
    "val_data = data_providers.EMNISTDataProvider('valid', batch_size=batch_size, rng=rng)\n",
    "test_data = data_providers.EMNISTDataProvider('test', batch_size=batch_size, rng=rng)\n",
    "\n",
    "\n",
    "custom_conv_net = ConvolutionalNetwork(\n",
    "    input_shape=(batch_size, image_num_channels, image_height, image_width),\n",
    "    dim_reduction_type=dim_reduction_type[dim_reduction_idx],\n",
    "    num_output_classes=47, num_filters=num_filters, num_layers=num_layers, use_bias=False)\n",
    "\n",
    "conv_experiment = ExperimentBuilder(network_model=custom_conv_net,\n",
    "                                    experiment_name=experiment_name,\n",
    "                                    num_epochs=num_epochs,\n",
    "                                    weight_decay_coefficient=weight_decay_coefficient,\n",
    "                                    use_gpu=use_gpu,\n",
    "                                    train_data=train_data, val_data=val_data, test_data=test_data)\n",
    "total_losses, _ = conv_experiment.run_experiment()"
   ]
  },
  {
   "cell_type": "code",
   "execution_count": null,
   "metadata": {},
   "outputs": [],
   "source": [
    "plot_stats_in_graph(total_losses)"
   ]
  },
  {
   "cell_type": "code",
   "execution_count": 8,
   "metadata": {},
   "outputs": [
    {
     "name": "stdout",
     "output_type": "stream",
     "text": [
      "KeysView(<numpy.lib.npyio.NpzFile object at 0x7f56e3ec9550>)\n",
      "KeysView(<numpy.lib.npyio.NpzFile object at 0x7f56e3ec9550>)\n",
      "KeysView(<numpy.lib.npyio.NpzFile object at 0x7f56e3ec95c0>)\n"
     ]
    },
    {
     "name": "stderr",
     "output_type": "stream",
     "text": [
      "loss: 3.8251, accuracy: 0.0500:   0%|          | 5/1000 [00:00<00:14, 67.74it/s]"
     ]
    },
    {
     "name": "stdout",
     "output_type": "stream",
     "text": [
      "Building basic block of ConvolutionalNetwork using input shape (100, 1, 28, 28)\n",
      "torch.Size([100, 64, 28, 28])\n",
      "torch.Size([100, 64, 10, 10])\n",
      "torch.Size([100, 64, 10, 10])\n",
      "torch.Size([100, 64, 4, 4])\n",
      "torch.Size([100, 64, 4, 4])\n",
      "torch.Size([100, 64, 2, 2])\n",
      "torch.Size([100, 64, 2, 2])\n",
      "Block is built, output volume is torch.Size([100, 47])\n",
      "use GPU\n"
     ]
    },
    {
     "name": "stderr",
     "output_type": "stream",
     "text": [
      "loss: 0.5456, accuracy: 0.8500: 100%|██████████| 1000/1000 [00:12<00:00, 80.13it/s]\n",
      "loss: 0.5410, accuracy: 0.8300: 100%|██████████| 158/158 [00:01<00:00, 140.90it/s]\n",
      "loss: 0.4144, accuracy: 0.8600:   2%|▏         | 16/1000 [00:00<00:12, 81.77it/s]"
     ]
    },
    {
     "name": "stdout",
     "output_type": "stream",
     "text": [
      "Epoch 0: train_acc_0.7342_train_loss_0.8722_val_acc_0.8365_val_loss_0.4919 epoch time 13.7055 seconds\n"
     ]
    },
    {
     "name": "stderr",
     "output_type": "stream",
     "text": [
      "loss: 0.2636, accuracy: 0.9300: 100%|██████████| 1000/1000 [00:12<00:00, 79.52it/s]\n",
      "loss: 0.3765, accuracy: 0.8600: 100%|██████████| 158/158 [00:01<00:00, 138.83it/s]\n",
      "loss: 0.3164, accuracy: 0.9000:   2%|▏         | 16/1000 [00:00<00:11, 82.62it/s]"
     ]
    },
    {
     "name": "stdout",
     "output_type": "stream",
     "text": [
      "Epoch 1: train_acc_0.8434_train_loss_0.4557_val_acc_0.8592_val_loss_0.4092 epoch time 13.8195 seconds\n"
     ]
    },
    {
     "name": "stderr",
     "output_type": "stream",
     "text": [
      "loss: 0.4113, accuracy: 0.8300: 100%|██████████| 1000/1000 [00:12<00:00, 79.85it/s]\n",
      "loss: 0.3228, accuracy: 0.8900: 100%|██████████| 158/158 [00:01<00:00, 139.38it/s]\n",
      "loss: 0.4197, accuracy: 0.8300:   2%|▏         | 15/1000 [00:00<00:12, 80.57it/s]"
     ]
    },
    {
     "name": "stdout",
     "output_type": "stream",
     "text": [
      "Epoch 2: train_acc_0.8610_train_loss_0.3958_val_acc_0.8683_val_loss_0.3715 epoch time 13.7627 seconds\n"
     ]
    },
    {
     "name": "stderr",
     "output_type": "stream",
     "text": [
      "loss: 0.3029, accuracy: 0.8700: 100%|██████████| 1000/1000 [00:12<00:00, 79.20it/s]\n",
      "loss: 0.3456, accuracy: 0.8500: 100%|██████████| 158/158 [00:01<00:00, 141.58it/s]\n",
      "loss: 0.3452, accuracy: 0.9000:   2%|▏         | 16/1000 [00:00<00:11, 84.13it/s]"
     ]
    },
    {
     "name": "stdout",
     "output_type": "stream",
     "text": [
      "Epoch 3: train_acc_0.8708_train_loss_0.3623_val_acc_0.8749_val_loss_0.3526 epoch time 13.8469 seconds\n"
     ]
    },
    {
     "name": "stderr",
     "output_type": "stream",
     "text": [
      "loss: 0.3215, accuracy: 0.8900: 100%|██████████| 1000/1000 [00:12<00:00, 79.82it/s]\n",
      "loss: 0.3951, accuracy: 0.8700: 100%|██████████| 158/158 [00:01<00:00, 140.73it/s]\n",
      "loss: 0.3849, accuracy: 0.8800:   2%|▏         | 16/1000 [00:00<00:11, 84.29it/s]"
     ]
    },
    {
     "name": "stdout",
     "output_type": "stream",
     "text": [
      "Epoch 4: train_acc_0.8787_train_loss_0.3389_val_acc_0.8758_val_loss_0.3548 epoch time 13.7565 seconds\n"
     ]
    },
    {
     "name": "stderr",
     "output_type": "stream",
     "text": [
      "loss: 0.2951, accuracy: 0.9100: 100%|██████████| 1000/1000 [00:12<00:00, 79.76it/s]\n",
      "loss: 0.4563, accuracy: 0.8500: 100%|██████████| 158/158 [00:01<00:00, 140.51it/s]\n",
      "loss: 0.2269, accuracy: 0.8600:   2%|▏         | 16/1000 [00:00<00:12, 80.93it/s]"
     ]
    },
    {
     "name": "stdout",
     "output_type": "stream",
     "text": [
      "Epoch 5: train_acc_0.8831_train_loss_0.3198_val_acc_0.8775_val_loss_0.3468 epoch time 13.7691 seconds\n"
     ]
    },
    {
     "name": "stderr",
     "output_type": "stream",
     "text": [
      "loss: 0.4628, accuracy: 0.8400: 100%|██████████| 1000/1000 [00:12<00:00, 79.61it/s]\n",
      "loss: 0.3205, accuracy: 0.8500: 100%|██████████| 158/158 [00:01<00:00, 139.27it/s]\n",
      "loss: 0.2137, accuracy: 0.9300:   2%|▏         | 15/1000 [00:00<00:12, 79.49it/s]"
     ]
    },
    {
     "name": "stdout",
     "output_type": "stream",
     "text": [
      "Epoch 6: train_acc_0.8872_train_loss_0.3066_val_acc_0.8820_val_loss_0.3339 epoch time 13.8025 seconds\n"
     ]
    },
    {
     "name": "stderr",
     "output_type": "stream",
     "text": [
      "loss: 0.3115, accuracy: 0.8900: 100%|██████████| 1000/1000 [00:12<00:00, 79.19it/s]\n",
      "loss: 0.4474, accuracy: 0.8700: 100%|██████████| 158/158 [00:01<00:00, 139.21it/s]\n",
      "loss: 0.1967, accuracy: 0.9700:   2%|▏         | 16/1000 [00:00<00:12, 81.03it/s]"
     ]
    },
    {
     "name": "stdout",
     "output_type": "stream",
     "text": [
      "Epoch 7: train_acc_0.8904_train_loss_0.2945_val_acc_0.8815_val_loss_0.3321 epoch time 13.8678 seconds\n"
     ]
    },
    {
     "name": "stderr",
     "output_type": "stream",
     "text": [
      "loss: 0.2316, accuracy: 0.8900: 100%|██████████| 1000/1000 [00:12<00:00, 78.78it/s]\n",
      "loss: 0.2209, accuracy: 0.9000: 100%|██████████| 158/158 [00:01<00:00, 138.25it/s]\n",
      "loss: 0.3105, accuracy: 0.8800:   2%|▏         | 16/1000 [00:00<00:11, 83.74it/s]"
     ]
    },
    {
     "name": "stdout",
     "output_type": "stream",
     "text": [
      "Epoch 8: train_acc_0.8941_train_loss_0.2811_val_acc_0.8766_val_loss_0.3395 epoch time 13.9435 seconds\n"
     ]
    },
    {
     "name": "stderr",
     "output_type": "stream",
     "text": [
      "loss: 0.1426, accuracy: 0.9200: 100%|██████████| 1000/1000 [00:12<00:00, 78.73it/s]\n",
      "loss: 0.1955, accuracy: 0.9200: 100%|██████████| 158/158 [00:01<00:00, 137.93it/s]\n",
      "loss: 0.3037, accuracy: 0.9100:   2%|▏         | 16/1000 [00:00<00:11, 84.38it/s]"
     ]
    },
    {
     "name": "stdout",
     "output_type": "stream",
     "text": [
      "Epoch 9: train_acc_0.8976_train_loss_0.2711_val_acc_0.8801_val_loss_0.3400 epoch time 13.9525 seconds\n"
     ]
    },
    {
     "name": "stderr",
     "output_type": "stream",
     "text": [
      "loss: 0.2666, accuracy: 0.8800: 100%|██████████| 1000/1000 [00:12<00:00, 78.80it/s]\n",
      "loss: 0.2304, accuracy: 0.9400: 100%|██████████| 158/158 [00:01<00:00, 139.96it/s]\n",
      "loss: 0.2953, accuracy: 0.8900:   2%|▏         | 15/1000 [00:00<00:12, 79.21it/s]"
     ]
    },
    {
     "name": "stdout",
     "output_type": "stream",
     "text": [
      "Epoch 10: train_acc_0.9003_train_loss_0.2607_val_acc_0.8837_val_loss_0.3352 epoch time 13.9283 seconds\n"
     ]
    },
    {
     "name": "stderr",
     "output_type": "stream",
     "text": [
      "loss: 0.2336, accuracy: 0.9100: 100%|██████████| 1000/1000 [00:12<00:00, 79.24it/s]\n",
      "loss: 0.3102, accuracy: 0.9000: 100%|██████████| 158/158 [00:01<00:00, 140.04it/s]\n",
      "loss: 0.3788, accuracy: 0.9400:   2%|▏         | 16/1000 [00:00<00:11, 83.94it/s]"
     ]
    },
    {
     "name": "stdout",
     "output_type": "stream",
     "text": [
      "Epoch 11: train_acc_0.9033_train_loss_0.2515_val_acc_0.8797_val_loss_0.3405 epoch time 13.8569 seconds\n"
     ]
    },
    {
     "name": "stderr",
     "output_type": "stream",
     "text": [
      "loss: 0.1503, accuracy: 0.9300: 100%|██████████| 1000/1000 [00:12<00:00, 79.22it/s]\n",
      "loss: 0.2353, accuracy: 0.8700: 100%|██████████| 158/158 [00:01<00:00, 137.65it/s]\n",
      "loss: 0.1814, accuracy: 0.9400:   2%|▏         | 16/1000 [00:00<00:11, 82.94it/s]"
     ]
    },
    {
     "name": "stdout",
     "output_type": "stream",
     "text": [
      "Epoch 12: train_acc_0.9063_train_loss_0.2434_val_acc_0.8801_val_loss_0.3379 epoch time 13.8763 seconds\n"
     ]
    },
    {
     "name": "stderr",
     "output_type": "stream",
     "text": [
      "loss: 0.2080, accuracy: 0.9000: 100%|██████████| 1000/1000 [00:12<00:00, 81.86it/s]\n",
      "loss: 0.2581, accuracy: 0.9000: 100%|██████████| 158/158 [00:01<00:00, 138.55it/s]\n",
      "loss: 0.3103, accuracy: 0.8800:   2%|▏         | 15/1000 [00:00<00:11, 82.38it/s]"
     ]
    },
    {
     "name": "stdout",
     "output_type": "stream",
     "text": [
      "Epoch 13: train_acc_0.9088_train_loss_0.2349_val_acc_0.8809_val_loss_0.3450 epoch time 13.8413 seconds\n"
     ]
    },
    {
     "name": "stderr",
     "output_type": "stream",
     "text": [
      "loss: 0.2282, accuracy: 0.8800: 100%|██████████| 1000/1000 [00:12<00:00, 79.35it/s]\n",
      "loss: 0.3406, accuracy: 0.9100: 100%|██████████| 158/158 [00:01<00:00, 138.33it/s]\n",
      "loss: 0.1753, accuracy: 0.9300:   2%|▏         | 15/1000 [00:00<00:11, 83.47it/s]"
     ]
    },
    {
     "name": "stdout",
     "output_type": "stream",
     "text": [
      "Epoch 14: train_acc_0.9106_train_loss_0.2279_val_acc_0.8824_val_loss_0.3533 epoch time 13.8483 seconds\n"
     ]
    },
    {
     "name": "stderr",
     "output_type": "stream",
     "text": [
      "loss: 0.1524, accuracy: 0.9400: 100%|██████████| 1000/1000 [00:12<00:00, 79.08it/s]\n",
      "loss: 0.3534, accuracy: 0.8700: 100%|██████████| 158/158 [00:01<00:00, 138.60it/s]\n",
      "loss: 0.2297, accuracy: 0.9300:   2%|▏         | 15/1000 [00:00<00:12, 79.70it/s]"
     ]
    },
    {
     "name": "stdout",
     "output_type": "stream",
     "text": [
      "Epoch 15: train_acc_0.9132_train_loss_0.2195_val_acc_0.8794_val_loss_0.3551 epoch time 13.8929 seconds\n"
     ]
    },
    {
     "name": "stderr",
     "output_type": "stream",
     "text": [
      "loss: 0.3344, accuracy: 0.8900: 100%|██████████| 1000/1000 [00:12<00:00, 79.02it/s]\n",
      "loss: 0.4635, accuracy: 0.8300: 100%|██████████| 158/158 [00:01<00:00, 137.08it/s]\n",
      "loss: 0.2499, accuracy: 0.9300:   2%|▏         | 16/1000 [00:00<00:11, 85.55it/s]"
     ]
    },
    {
     "name": "stdout",
     "output_type": "stream",
     "text": [
      "Epoch 16: train_acc_0.9153_train_loss_0.2141_val_acc_0.8803_val_loss_0.3701 epoch time 13.9140 seconds\n"
     ]
    },
    {
     "name": "stderr",
     "output_type": "stream",
     "text": [
      "loss: 0.2781, accuracy: 0.8800: 100%|██████████| 1000/1000 [00:12<00:00, 81.75it/s]\n",
      "loss: 0.3931, accuracy: 0.8400: 100%|██████████| 158/158 [00:01<00:00, 143.98it/s]\n",
      "loss: 0.1600, accuracy: 0.9400:   2%|▏         | 16/1000 [00:00<00:12, 79.79it/s]"
     ]
    },
    {
     "name": "stdout",
     "output_type": "stream",
     "text": [
      "Epoch 17: train_acc_0.9183_train_loss_0.2076_val_acc_0.8762_val_loss_0.3698 epoch time 13.7965 seconds\n"
     ]
    },
    {
     "name": "stderr",
     "output_type": "stream",
     "text": [
      "loss: 0.1607, accuracy: 0.9600: 100%|██████████| 1000/1000 [00:12<00:00, 79.14it/s]\n",
      "loss: 0.4233, accuracy: 0.8500: 100%|██████████| 158/158 [00:01<00:00, 138.58it/s]\n",
      "loss: 0.2223, accuracy: 0.9100:   2%|▏         | 15/1000 [00:00<00:12, 79.11it/s]"
     ]
    },
    {
     "name": "stdout",
     "output_type": "stream",
     "text": [
      "Epoch 18: train_acc_0.9192_train_loss_0.2008_val_acc_0.8794_val_loss_0.3678 epoch time 13.8805 seconds\n"
     ]
    },
    {
     "name": "stderr",
     "output_type": "stream",
     "text": [
      "loss: 0.1954, accuracy: 0.9300: 100%|██████████| 1000/1000 [00:12<00:00, 79.29it/s]\n",
      "loss: 0.3739, accuracy: 0.8800: 100%|██████████| 158/158 [00:01<00:00, 140.32it/s]\n",
      "loss: 0.1380, accuracy: 0.9400:   2%|▏         | 15/1000 [00:00<00:12, 79.74it/s]"
     ]
    },
    {
     "name": "stdout",
     "output_type": "stream",
     "text": [
      "Epoch 19: train_acc_0.9211_train_loss_0.1946_val_acc_0.8764_val_loss_0.3774 epoch time 13.8446 seconds\n"
     ]
    },
    {
     "name": "stderr",
     "output_type": "stream",
     "text": [
      "loss: 0.1885, accuracy: 0.9200: 100%|██████████| 1000/1000 [00:12<00:00, 79.12it/s]\n",
      "loss: 0.3439, accuracy: 0.8800: 100%|██████████| 158/158 [00:01<00:00, 138.26it/s]\n",
      "loss: 0.1079, accuracy: 0.9500:   2%|▏         | 16/1000 [00:00<00:12, 81.17it/s]"
     ]
    },
    {
     "name": "stdout",
     "output_type": "stream",
     "text": [
      "Epoch 20: train_acc_0.9241_train_loss_0.1887_val_acc_0.8786_val_loss_0.3800 epoch time 13.8920 seconds\n"
     ]
    },
    {
     "name": "stderr",
     "output_type": "stream",
     "text": [
      "loss: 0.0945, accuracy: 0.9700: 100%|██████████| 1000/1000 [00:12<00:00, 79.46it/s]\n",
      "loss: 0.3424, accuracy: 0.8700: 100%|██████████| 158/158 [00:01<00:00, 139.15it/s]\n",
      "loss: 0.1376, accuracy: 0.9600:   2%|▏         | 15/1000 [00:00<00:12, 79.83it/s]"
     ]
    },
    {
     "name": "stdout",
     "output_type": "stream",
     "text": [
      "Epoch 21: train_acc_0.9258_train_loss_0.1830_val_acc_0.8759_val_loss_0.3973 epoch time 13.8280 seconds\n"
     ]
    },
    {
     "name": "stderr",
     "output_type": "stream",
     "text": [
      "loss: 0.2793, accuracy: 0.8800: 100%|██████████| 1000/1000 [00:12<00:00, 79.78it/s]\n",
      "loss: 0.3090, accuracy: 0.9300: 100%|██████████| 158/158 [00:01<00:00, 140.31it/s]\n",
      "loss: 0.2072, accuracy: 0.9400:   2%|▏         | 15/1000 [00:00<00:11, 82.67it/s]"
     ]
    },
    {
     "name": "stdout",
     "output_type": "stream",
     "text": [
      "Epoch 22: train_acc_0.9262_train_loss_0.1794_val_acc_0.8744_val_loss_0.4070 epoch time 13.7645 seconds\n"
     ]
    },
    {
     "name": "stderr",
     "output_type": "stream",
     "text": [
      "loss: 0.2551, accuracy: 0.8800: 100%|██████████| 1000/1000 [00:12<00:00, 79.18it/s]\n",
      "loss: 0.5178, accuracy: 0.8900: 100%|██████████| 158/158 [00:01<00:00, 139.47it/s]\n",
      "loss: 0.1814, accuracy: 0.9300:   2%|▏         | 15/1000 [00:00<00:11, 83.17it/s]"
     ]
    },
    {
     "name": "stdout",
     "output_type": "stream",
     "text": [
      "Epoch 23: train_acc_0.9280_train_loss_0.1745_val_acc_0.8770_val_loss_0.3967 epoch time 13.8884 seconds\n"
     ]
    },
    {
     "name": "stderr",
     "output_type": "stream",
     "text": [
      "loss: 0.1798, accuracy: 0.9300: 100%|██████████| 1000/1000 [00:12<00:00, 79.47it/s]\n",
      "loss: 0.2733, accuracy: 0.8700: 100%|██████████| 158/158 [00:01<00:00, 137.57it/s]\n",
      "loss: 0.1044, accuracy: 0.9600:   2%|▏         | 15/1000 [00:00<00:12, 80.11it/s]"
     ]
    },
    {
     "name": "stdout",
     "output_type": "stream",
     "text": [
      "Epoch 24: train_acc_0.9295_train_loss_0.1696_val_acc_0.8733_val_loss_0.4314 epoch time 13.8408 seconds\n"
     ]
    },
    {
     "name": "stderr",
     "output_type": "stream",
     "text": [
      "loss: 0.1149, accuracy: 0.9600: 100%|██████████| 1000/1000 [00:12<00:00, 79.39it/s]\n",
      "loss: 0.7948, accuracy: 0.8400: 100%|██████████| 158/158 [00:01<00:00, 138.74it/s]\n",
      "loss: 0.1535, accuracy: 0.9500:   2%|▏         | 15/1000 [00:00<00:12, 79.76it/s]"
     ]
    },
    {
     "name": "stdout",
     "output_type": "stream",
     "text": [
      "Epoch 25: train_acc_0.9315_train_loss_0.1654_val_acc_0.8781_val_loss_0.4205 epoch time 13.8413 seconds\n"
     ]
    },
    {
     "name": "stderr",
     "output_type": "stream",
     "text": [
      "loss: 0.1820, accuracy: 0.9100: 100%|██████████| 1000/1000 [00:12<00:00, 79.60it/s]\n",
      "loss: 0.5447, accuracy: 0.8400: 100%|██████████| 158/158 [00:01<00:00, 138.74it/s]\n",
      "loss: 0.1684, accuracy: 0.9100:   2%|▏         | 16/1000 [00:00<00:12, 79.62it/s]"
     ]
    },
    {
     "name": "stdout",
     "output_type": "stream",
     "text": [
      "Epoch 26: train_acc_0.9331_train_loss_0.1599_val_acc_0.8665_val_loss_0.4345 epoch time 13.8058 seconds\n"
     ]
    },
    {
     "name": "stderr",
     "output_type": "stream",
     "text": [
      "loss: 0.1743, accuracy: 0.9100: 100%|██████████| 1000/1000 [00:12<00:00, 79.84it/s]\n",
      "loss: 0.8299, accuracy: 0.7900: 100%|██████████| 158/158 [00:01<00:00, 138.17it/s]\n",
      "loss: 0.1437, accuracy: 0.9300:   2%|▏         | 16/1000 [00:00<00:11, 82.86it/s]"
     ]
    },
    {
     "name": "stdout",
     "output_type": "stream",
     "text": [
      "Epoch 27: train_acc_0.9340_train_loss_0.1561_val_acc_0.8685_val_loss_0.4497 epoch time 13.7734 seconds\n"
     ]
    },
    {
     "name": "stderr",
     "output_type": "stream",
     "text": [
      "loss: 0.2426, accuracy: 0.9100: 100%|██████████| 1000/1000 [00:12<00:00, 79.57it/s]\n",
      "loss: 0.1665, accuracy: 0.9400: 100%|██████████| 158/158 [00:01<00:00, 139.53it/s]\n",
      "loss: 0.1114, accuracy: 0.9600:   2%|▏         | 15/1000 [00:00<00:12, 79.63it/s]"
     ]
    },
    {
     "name": "stdout",
     "output_type": "stream",
     "text": [
      "Epoch 28: train_acc_0.9361_train_loss_0.1518_val_acc_0.8663_val_loss_0.4664 epoch time 13.8048 seconds\n"
     ]
    },
    {
     "name": "stderr",
     "output_type": "stream",
     "text": [
      "loss: 0.1387, accuracy: 0.9500: 100%|██████████| 1000/1000 [00:12<00:00, 79.32it/s]\n",
      "loss: 0.5403, accuracy: 0.8800: 100%|██████████| 158/158 [00:01<00:00, 141.79it/s]\n",
      "loss: 0.0804, accuracy: 0.9700:   2%|▏         | 15/1000 [00:00<00:12, 80.72it/s]"
     ]
    },
    {
     "name": "stdout",
     "output_type": "stream",
     "text": [
      "Epoch 29: train_acc_0.9385_train_loss_0.1467_val_acc_0.8720_val_loss_0.4626 epoch time 13.8275 seconds\n"
     ]
    },
    {
     "name": "stderr",
     "output_type": "stream",
     "text": [
      "loss: 0.1395, accuracy: 0.9300: 100%|██████████| 1000/1000 [00:12<00:00, 79.27it/s]\n",
      "loss: 0.3549, accuracy: 0.9100: 100%|██████████| 158/158 [00:01<00:00, 140.68it/s]\n",
      "loss: 0.1644, accuracy: 0.9600:   2%|▏         | 16/1000 [00:00<00:12, 81.13it/s]"
     ]
    },
    {
     "name": "stdout",
     "output_type": "stream",
     "text": [
      "Epoch 30: train_acc_0.9389_train_loss_0.1468_val_acc_0.8725_val_loss_0.4844 epoch time 13.8432 seconds\n"
     ]
    },
    {
     "name": "stderr",
     "output_type": "stream",
     "text": [
      "loss: 0.1747, accuracy: 0.9200: 100%|██████████| 1000/1000 [00:12<00:00, 79.37it/s]\n",
      "loss: 0.3379, accuracy: 0.8800: 100%|██████████| 158/158 [00:01<00:00, 138.69it/s]\n",
      "loss: 0.0988, accuracy: 0.9700:   2%|▏         | 15/1000 [00:00<00:12, 82.05it/s]"
     ]
    },
    {
     "name": "stdout",
     "output_type": "stream",
     "text": [
      "Epoch 31: train_acc_0.9406_train_loss_0.1403_val_acc_0.8711_val_loss_0.4716 epoch time 13.8435 seconds\n"
     ]
    },
    {
     "name": "stderr",
     "output_type": "stream",
     "text": [
      "loss: 0.1405, accuracy: 0.9400: 100%|██████████| 1000/1000 [00:12<00:00, 79.45it/s]\n",
      "loss: 0.4697, accuracy: 0.9200: 100%|██████████| 158/158 [00:01<00:00, 138.17it/s]\n",
      "loss: 0.0745, accuracy: 0.9600:   2%|▏         | 15/1000 [00:00<00:12, 79.83it/s]"
     ]
    },
    {
     "name": "stdout",
     "output_type": "stream",
     "text": [
      "Epoch 32: train_acc_0.9426_train_loss_0.1362_val_acc_0.8755_val_loss_0.4808 epoch time 13.8343 seconds\n"
     ]
    },
    {
     "name": "stderr",
     "output_type": "stream",
     "text": [
      "loss: 0.1848, accuracy: 0.9300: 100%|██████████| 1000/1000 [00:12<00:00, 79.36it/s]\n",
      "loss: 0.4817, accuracy: 0.9000: 100%|██████████| 158/158 [00:01<00:00, 139.82it/s]\n",
      "loss: 0.0987, accuracy: 0.9600:   2%|▏         | 15/1000 [00:00<00:12, 79.65it/s]"
     ]
    },
    {
     "name": "stdout",
     "output_type": "stream",
     "text": [
      "Epoch 33: train_acc_0.9433_train_loss_0.1343_val_acc_0.8671_val_loss_0.4865 epoch time 13.8382 seconds\n"
     ]
    },
    {
     "name": "stderr",
     "output_type": "stream",
     "text": [
      "loss: 0.2330, accuracy: 0.8900: 100%|██████████| 1000/1000 [00:12<00:00, 79.68it/s]\n",
      "loss: 0.3145, accuracy: 0.9200: 100%|██████████| 158/158 [00:01<00:00, 140.19it/s]\n",
      "loss: 0.1444, accuracy: 0.9200:   2%|▏         | 15/1000 [00:00<00:12, 80.99it/s]"
     ]
    },
    {
     "name": "stdout",
     "output_type": "stream",
     "text": [
      "Epoch 34: train_acc_0.9446_train_loss_0.1315_val_acc_0.8731_val_loss_0.4953 epoch time 13.7815 seconds\n"
     ]
    },
    {
     "name": "stderr",
     "output_type": "stream",
     "text": [
      "loss: 0.2149, accuracy: 0.9000: 100%|██████████| 1000/1000 [00:12<00:00, 79.31it/s]\n",
      "loss: 0.8256, accuracy: 0.8700: 100%|██████████| 158/158 [00:01<00:00, 141.63it/s]\n",
      "loss: 0.1544, accuracy: 0.9600:   2%|▏         | 16/1000 [00:00<00:11, 82.62it/s]"
     ]
    },
    {
     "name": "stdout",
     "output_type": "stream",
     "text": [
      "Epoch 35: train_acc_0.9463_train_loss_0.1274_val_acc_0.8676_val_loss_0.5242 epoch time 13.8310 seconds\n"
     ]
    },
    {
     "name": "stderr",
     "output_type": "stream",
     "text": [
      "loss: 0.1225, accuracy: 0.9600: 100%|██████████| 1000/1000 [00:12<00:00, 81.12it/s]\n",
      "loss: 0.5179, accuracy: 0.8600: 100%|██████████| 158/158 [00:01<00:00, 139.45it/s]\n",
      "loss: 0.0658, accuracy: 0.9800:   2%|▏         | 15/1000 [00:00<00:12, 81.12it/s]"
     ]
    },
    {
     "name": "stdout",
     "output_type": "stream",
     "text": [
      "Epoch 36: train_acc_0.9471_train_loss_0.1259_val_acc_0.8677_val_loss_0.5240 epoch time 13.8132 seconds\n"
     ]
    },
    {
     "name": "stderr",
     "output_type": "stream",
     "text": [
      "loss: 0.1336, accuracy: 0.9400: 100%|██████████| 1000/1000 [00:12<00:00, 78.61it/s]\n",
      "loss: 0.3114, accuracy: 0.8600: 100%|██████████| 158/158 [00:01<00:00, 138.46it/s]\n",
      "loss: 0.1359, accuracy: 0.9300:   2%|▏         | 15/1000 [00:00<00:11, 82.43it/s]"
     ]
    },
    {
     "name": "stdout",
     "output_type": "stream",
     "text": [
      "Epoch 37: train_acc_0.9495_train_loss_0.1202_val_acc_0.8732_val_loss_0.5243 epoch time 13.8749 seconds\n"
     ]
    },
    {
     "name": "stderr",
     "output_type": "stream",
     "text": [
      "loss: 0.1072, accuracy: 0.9400: 100%|██████████| 1000/1000 [00:12<00:00, 79.35it/s]\n",
      "loss: 0.1998, accuracy: 0.9300: 100%|██████████| 158/158 [00:01<00:00, 140.11it/s]\n",
      "loss: 0.0505, accuracy: 0.9900:   2%|▏         | 15/1000 [00:00<00:12, 80.13it/s]"
     ]
    },
    {
     "name": "stdout",
     "output_type": "stream",
     "text": [
      "Epoch 38: train_acc_0.9495_train_loss_0.1203_val_acc_0.8713_val_loss_0.5418 epoch time 13.8355 seconds\n"
     ]
    },
    {
     "name": "stderr",
     "output_type": "stream",
     "text": [
      "loss: 0.0452, accuracy: 0.9900: 100%|██████████| 1000/1000 [00:12<00:00, 79.35it/s]\n",
      "loss: 0.6157, accuracy: 0.8500: 100%|██████████| 158/158 [00:01<00:00, 144.66it/s]\n",
      "loss: 0.0827, accuracy: 0.9700:   2%|▏         | 16/1000 [00:00<00:11, 82.49it/s]"
     ]
    },
    {
     "name": "stdout",
     "output_type": "stream",
     "text": [
      "Epoch 39: train_acc_0.9517_train_loss_0.1156_val_acc_0.8696_val_loss_0.5409 epoch time 13.7979 seconds\n"
     ]
    },
    {
     "name": "stderr",
     "output_type": "stream",
     "text": [
      "loss: 0.1435, accuracy: 0.9500: 100%|██████████| 1000/1000 [00:12<00:00, 79.08it/s]\n",
      "loss: 0.6686, accuracy: 0.8200: 100%|██████████| 158/158 [00:01<00:00, 137.58it/s]\n",
      "loss: 0.0928, accuracy: 0.9600:   2%|▏         | 15/1000 [00:00<00:11, 83.04it/s]"
     ]
    },
    {
     "name": "stdout",
     "output_type": "stream",
     "text": [
      "Epoch 40: train_acc_0.9518_train_loss_0.1140_val_acc_0.8654_val_loss_0.5689 epoch time 13.8981 seconds\n"
     ]
    },
    {
     "name": "stderr",
     "output_type": "stream",
     "text": [
      "loss: 0.1109, accuracy: 0.9500: 100%|██████████| 1000/1000 [00:12<00:00, 79.17it/s]\n",
      "loss: 0.4503, accuracy: 0.8600: 100%|██████████| 158/158 [00:01<00:00, 140.40it/s]\n",
      "loss: 0.1497, accuracy: 0.9400:   2%|▏         | 16/1000 [00:00<00:11, 83.61it/s]"
     ]
    },
    {
     "name": "stdout",
     "output_type": "stream",
     "text": [
      "Epoch 41: train_acc_0.9524_train_loss_0.1132_val_acc_0.8711_val_loss_0.5892 epoch time 13.8626 seconds\n"
     ]
    },
    {
     "name": "stderr",
     "output_type": "stream",
     "text": [
      "loss: 0.0496, accuracy: 0.9800: 100%|██████████| 1000/1000 [00:12<00:00, 79.53it/s]\n",
      "loss: 0.5048, accuracy: 0.8600: 100%|██████████| 158/158 [00:01<00:00, 139.13it/s]\n",
      "loss: 0.0462, accuracy: 1.0000:   2%|▏         | 15/1000 [00:00<00:12, 81.15it/s]"
     ]
    },
    {
     "name": "stdout",
     "output_type": "stream",
     "text": [
      "Epoch 42: train_acc_0.9534_train_loss_0.1102_val_acc_0.8681_val_loss_0.5842 epoch time 13.8171 seconds\n"
     ]
    },
    {
     "name": "stderr",
     "output_type": "stream",
     "text": [
      "loss: 0.1009, accuracy: 0.9500: 100%|██████████| 1000/1000 [00:12<00:00, 79.38it/s]\n",
      "loss: 0.6751, accuracy: 0.8400: 100%|██████████| 158/158 [00:01<00:00, 139.26it/s]\n",
      "loss: 0.0451, accuracy: 1.0000:   2%|▏         | 15/1000 [00:00<00:12, 78.27it/s]"
     ]
    },
    {
     "name": "stdout",
     "output_type": "stream",
     "text": [
      "Epoch 43: train_acc_0.9543_train_loss_0.1083_val_acc_0.8692_val_loss_0.5887 epoch time 13.8378 seconds\n"
     ]
    },
    {
     "name": "stderr",
     "output_type": "stream",
     "text": [
      "loss: 0.1109, accuracy: 0.9700: 100%|██████████| 1000/1000 [00:12<00:00, 79.34it/s]\n",
      "loss: 0.6774, accuracy: 0.8900: 100%|██████████| 158/158 [00:01<00:00, 138.08it/s]\n",
      "loss: 0.0783, accuracy: 0.9700:   2%|▏         | 16/1000 [00:00<00:12, 79.42it/s]"
     ]
    },
    {
     "name": "stdout",
     "output_type": "stream",
     "text": [
      "Epoch 44: train_acc_0.9554_train_loss_0.1059_val_acc_0.8675_val_loss_0.6075 epoch time 13.8541 seconds\n"
     ]
    },
    {
     "name": "stderr",
     "output_type": "stream",
     "text": [
      "loss: 0.0504, accuracy: 0.9700: 100%|██████████| 1000/1000 [00:12<00:00, 81.38it/s]\n",
      "loss: 0.8443, accuracy: 0.8600: 100%|██████████| 158/158 [00:01<00:00, 137.14it/s]\n",
      "loss: 0.0743, accuracy: 0.9700:   2%|▏         | 16/1000 [00:00<00:12, 81.98it/s]"
     ]
    },
    {
     "name": "stdout",
     "output_type": "stream",
     "text": [
      "Epoch 45: train_acc_0.9553_train_loss_0.1053_val_acc_0.8674_val_loss_0.6016 epoch time 13.8476 seconds\n"
     ]
    },
    {
     "name": "stderr",
     "output_type": "stream",
     "text": [
      "loss: 0.0713, accuracy: 0.9900: 100%|██████████| 1000/1000 [00:12<00:00, 80.57it/s]\n",
      "loss: 0.4503, accuracy: 0.8600: 100%|██████████| 158/158 [00:01<00:00, 139.21it/s]\n",
      "loss: 0.0660, accuracy: 0.9600:   2%|▏         | 16/1000 [00:00<00:12, 81.52it/s]"
     ]
    },
    {
     "name": "stdout",
     "output_type": "stream",
     "text": [
      "Epoch 46: train_acc_0.9573_train_loss_0.1014_val_acc_0.8653_val_loss_0.6131 epoch time 13.8241 seconds\n"
     ]
    },
    {
     "name": "stderr",
     "output_type": "stream",
     "text": [
      "loss: 0.0834, accuracy: 0.9600: 100%|██████████| 1000/1000 [00:12<00:00, 79.32it/s]\n",
      "loss: 0.4577, accuracy: 0.8600: 100%|██████████| 158/158 [00:01<00:00, 138.38it/s]\n",
      "loss: 0.0215, accuracy: 1.0000:   2%|▏         | 16/1000 [00:00<00:11, 83.20it/s]"
     ]
    },
    {
     "name": "stdout",
     "output_type": "stream",
     "text": [
      "Epoch 47: train_acc_0.9584_train_loss_0.0995_val_acc_0.8697_val_loss_0.6412 epoch time 13.8555 seconds\n"
     ]
    },
    {
     "name": "stderr",
     "output_type": "stream",
     "text": [
      "loss: 0.0561, accuracy: 0.9900: 100%|██████████| 1000/1000 [00:12<00:00, 81.35it/s]\n",
      "loss: 1.1145, accuracy: 0.8200: 100%|██████████| 158/158 [00:01<00:00, 139.35it/s]\n",
      "loss: 0.0806, accuracy: 0.9600:   2%|▏         | 16/1000 [00:00<00:11, 83.67it/s]"
     ]
    },
    {
     "name": "stdout",
     "output_type": "stream",
     "text": [
      "Epoch 48: train_acc_0.9585_train_loss_0.0995_val_acc_0.8698_val_loss_0.6573 epoch time 13.8296 seconds\n"
     ]
    },
    {
     "name": "stderr",
     "output_type": "stream",
     "text": [
      "loss: 0.1091, accuracy: 0.9500: 100%|██████████| 1000/1000 [00:12<00:00, 80.56it/s]\n",
      "loss: 0.3103, accuracy: 0.9100: 100%|██████████| 158/158 [00:01<00:00, 139.57it/s]\n",
      "loss: 0.0317, accuracy: 1.0000:   2%|▏         | 15/1000 [00:00<00:12, 81.22it/s]"
     ]
    },
    {
     "name": "stdout",
     "output_type": "stream",
     "text": [
      "Epoch 49: train_acc_0.9591_train_loss_0.0977_val_acc_0.8691_val_loss_0.6497 epoch time 13.8501 seconds\n"
     ]
    },
    {
     "name": "stderr",
     "output_type": "stream",
     "text": [
      "loss: 0.0699, accuracy: 0.9700: 100%|██████████| 1000/1000 [00:12<00:00, 80.64it/s]\n",
      "loss: 0.6434, accuracy: 0.8300: 100%|██████████| 158/158 [00:01<00:00, 137.34it/s]\n",
      "loss: 0.0881, accuracy: 0.9700:   2%|▏         | 15/1000 [00:00<00:12, 80.37it/s]"
     ]
    },
    {
     "name": "stdout",
     "output_type": "stream",
     "text": [
      "Epoch 50: train_acc_0.9593_train_loss_0.0969_val_acc_0.8646_val_loss_0.6602 epoch time 13.8642 seconds\n"
     ]
    },
    {
     "name": "stderr",
     "output_type": "stream",
     "text": [
      "loss: 0.0882, accuracy: 0.9600: 100%|██████████| 1000/1000 [00:12<00:00, 79.34it/s]\n",
      "loss: 0.9565, accuracy: 0.8500: 100%|██████████| 158/158 [00:01<00:00, 138.14it/s]\n",
      "loss: 0.0555, accuracy: 0.9800:   2%|▏         | 15/1000 [00:00<00:12, 79.03it/s]"
     ]
    },
    {
     "name": "stdout",
     "output_type": "stream",
     "text": [
      "Epoch 51: train_acc_0.9604_train_loss_0.0945_val_acc_0.8686_val_loss_0.6737 epoch time 13.8535 seconds\n"
     ]
    },
    {
     "name": "stderr",
     "output_type": "stream",
     "text": [
      "loss: 0.1649, accuracy: 0.9400: 100%|██████████| 1000/1000 [00:12<00:00, 79.71it/s]\n",
      "loss: 0.5680, accuracy: 0.9000: 100%|██████████| 158/158 [00:01<00:00, 137.81it/s]\n",
      "loss: 0.1322, accuracy: 0.9500:   2%|▏         | 15/1000 [00:00<00:12, 80.61it/s]"
     ]
    },
    {
     "name": "stdout",
     "output_type": "stream",
     "text": [
      "Epoch 52: train_acc_0.9623_train_loss_0.0913_val_acc_0.8608_val_loss_0.6980 epoch time 13.7995 seconds\n"
     ]
    },
    {
     "name": "stderr",
     "output_type": "stream",
     "text": [
      "loss: 0.0803, accuracy: 0.9600: 100%|██████████| 1000/1000 [00:12<00:00, 79.40it/s]\n",
      "loss: 0.5824, accuracy: 0.8700: 100%|██████████| 158/158 [00:01<00:00, 138.00it/s]\n",
      "loss: 0.1211, accuracy: 0.9600:   2%|▏         | 15/1000 [00:00<00:12, 80.04it/s]"
     ]
    },
    {
     "name": "stdout",
     "output_type": "stream",
     "text": [
      "Epoch 53: train_acc_0.9614_train_loss_0.0918_val_acc_0.8668_val_loss_0.6986 epoch time 13.8432 seconds\n"
     ]
    },
    {
     "name": "stderr",
     "output_type": "stream",
     "text": [
      "loss: 0.0752, accuracy: 0.9600: 100%|██████████| 1000/1000 [00:12<00:00, 79.28it/s]\n",
      "loss: 0.6504, accuracy: 0.8800: 100%|██████████| 158/158 [00:01<00:00, 139.85it/s]\n",
      "loss: 0.0733, accuracy: 0.9800:   2%|▏         | 15/1000 [00:00<00:12, 81.93it/s]"
     ]
    },
    {
     "name": "stdout",
     "output_type": "stream",
     "text": [
      "Epoch 54: train_acc_0.9626_train_loss_0.0901_val_acc_0.8679_val_loss_0.7049 epoch time 13.8480 seconds\n"
     ]
    },
    {
     "name": "stderr",
     "output_type": "stream",
     "text": [
      "loss: 0.1273, accuracy: 0.9700: 100%|██████████| 1000/1000 [00:12<00:00, 79.36it/s]\n",
      "loss: 0.5637, accuracy: 0.9000: 100%|██████████| 158/158 [00:01<00:00, 138.95it/s]\n",
      "loss: 0.0128, accuracy: 1.0000:   2%|▏         | 15/1000 [00:00<00:12, 81.56it/s]"
     ]
    },
    {
     "name": "stdout",
     "output_type": "stream",
     "text": [
      "Epoch 55: train_acc_0.9633_train_loss_0.0888_val_acc_0.8622_val_loss_0.7089 epoch time 13.8444 seconds\n"
     ]
    },
    {
     "name": "stderr",
     "output_type": "stream",
     "text": [
      "loss: 0.0732, accuracy: 0.9600: 100%|██████████| 1000/1000 [00:12<00:00, 79.33it/s]\n",
      "loss: 0.6423, accuracy: 0.8900: 100%|██████████| 158/158 [00:01<00:00, 137.01it/s]\n",
      "loss: 0.0889, accuracy: 0.9500:   2%|▏         | 15/1000 [00:00<00:12, 80.43it/s]"
     ]
    },
    {
     "name": "stdout",
     "output_type": "stream",
     "text": [
      "Epoch 56: train_acc_0.9636_train_loss_0.0881_val_acc_0.8645_val_loss_0.6995 epoch time 13.8667 seconds\n"
     ]
    },
    {
     "name": "stderr",
     "output_type": "stream",
     "text": [
      "loss: 0.0408, accuracy: 0.9900: 100%|██████████| 1000/1000 [00:12<00:00, 81.05it/s]\n",
      "loss: 0.6526, accuracy: 0.8600: 100%|██████████| 158/158 [00:01<00:00, 137.35it/s]\n",
      "loss: 0.1247, accuracy: 0.9300:   2%|▏         | 16/1000 [00:00<00:12, 81.87it/s]"
     ]
    },
    {
     "name": "stdout",
     "output_type": "stream",
     "text": [
      "Epoch 57: train_acc_0.9661_train_loss_0.0825_val_acc_0.8639_val_loss_0.7309 epoch time 13.9117 seconds\n"
     ]
    },
    {
     "name": "stderr",
     "output_type": "stream",
     "text": [
      "loss: 0.0857, accuracy: 0.9600: 100%|██████████| 1000/1000 [00:12<00:00, 79.22it/s]\n",
      "loss: 0.4189, accuracy: 0.9000: 100%|██████████| 158/158 [00:01<00:00, 138.35it/s]\n",
      "loss: 0.0889, accuracy: 0.9700:   2%|▏         | 15/1000 [00:00<00:12, 80.66it/s]"
     ]
    },
    {
     "name": "stdout",
     "output_type": "stream",
     "text": [
      "Epoch 58: train_acc_0.9638_train_loss_0.0865_val_acc_0.8657_val_loss_0.7434 epoch time 13.8738 seconds\n"
     ]
    },
    {
     "name": "stderr",
     "output_type": "stream",
     "text": [
      "loss: 0.0797, accuracy: 0.9800: 100%|██████████| 1000/1000 [00:12<00:00, 80.46it/s]\n",
      "loss: 0.5448, accuracy: 0.8700: 100%|██████████| 158/158 [00:01<00:00, 139.20it/s]\n",
      "loss: 0.1019, accuracy: 0.9600:   2%|▏         | 15/1000 [00:00<00:12, 81.66it/s]"
     ]
    },
    {
     "name": "stdout",
     "output_type": "stream",
     "text": [
      "Epoch 59: train_acc_0.9657_train_loss_0.0832_val_acc_0.8646_val_loss_0.7423 epoch time 13.8210 seconds\n"
     ]
    },
    {
     "name": "stderr",
     "output_type": "stream",
     "text": [
      "loss: 0.0960, accuracy: 0.9600: 100%|██████████| 1000/1000 [00:12<00:00, 79.55it/s]\n",
      "loss: 0.9374, accuracy: 0.8400: 100%|██████████| 158/158 [00:01<00:00, 138.94it/s]\n",
      "loss: 0.0732, accuracy: 0.9700:   2%|▏         | 15/1000 [00:00<00:12, 79.35it/s]"
     ]
    },
    {
     "name": "stdout",
     "output_type": "stream",
     "text": [
      "Epoch 60: train_acc_0.9657_train_loss_0.0838_val_acc_0.8699_val_loss_0.7311 epoch time 13.8144 seconds\n"
     ]
    },
    {
     "name": "stderr",
     "output_type": "stream",
     "text": [
      "loss: 0.1067, accuracy: 0.9500: 100%|██████████| 1000/1000 [00:12<00:00, 79.81it/s]\n",
      "loss: 1.1393, accuracy: 0.8500: 100%|██████████| 158/158 [00:01<00:00, 137.99it/s]\n",
      "loss: 0.0961, accuracy: 0.9600:   2%|▏         | 15/1000 [00:00<00:12, 80.18it/s]"
     ]
    },
    {
     "name": "stdout",
     "output_type": "stream",
     "text": [
      "Epoch 61: train_acc_0.9673_train_loss_0.0787_val_acc_0.8620_val_loss_0.7468 epoch time 13.7813 seconds\n"
     ]
    },
    {
     "name": "stderr",
     "output_type": "stream",
     "text": [
      "loss: 0.0442, accuracy: 0.9900: 100%|██████████| 1000/1000 [00:12<00:00, 80.16it/s]\n",
      "loss: 0.6544, accuracy: 0.8900: 100%|██████████| 158/158 [00:01<00:00, 138.41it/s]\n",
      "loss: 0.0749, accuracy: 0.9700:   2%|▏         | 15/1000 [00:00<00:12, 79.93it/s]"
     ]
    },
    {
     "name": "stdout",
     "output_type": "stream",
     "text": [
      "Epoch 62: train_acc_0.9675_train_loss_0.0800_val_acc_0.8599_val_loss_0.7677 epoch time 13.7211 seconds\n"
     ]
    },
    {
     "name": "stderr",
     "output_type": "stream",
     "text": [
      "loss: 0.1554, accuracy: 0.9500: 100%|██████████| 1000/1000 [00:12<00:00, 79.27it/s]\n",
      "loss: 0.5704, accuracy: 0.9000: 100%|██████████| 158/158 [00:01<00:00, 139.22it/s]\n",
      "loss: 0.0540, accuracy: 0.9800:   2%|▏         | 16/1000 [00:00<00:11, 82.08it/s]"
     ]
    },
    {
     "name": "stdout",
     "output_type": "stream",
     "text": [
      "Epoch 63: train_acc_0.9687_train_loss_0.0772_val_acc_0.8607_val_loss_0.8054 epoch time 13.8559 seconds\n"
     ]
    },
    {
     "name": "stderr",
     "output_type": "stream",
     "text": [
      "loss: 0.0587, accuracy: 0.9700: 100%|██████████| 1000/1000 [00:12<00:00, 80.97it/s]\n",
      "loss: 0.9648, accuracy: 0.8800: 100%|██████████| 158/158 [00:01<00:00, 142.80it/s]\n",
      "loss: 0.0690, accuracy: 0.9800:   2%|▏         | 16/1000 [00:00<00:12, 80.51it/s]"
     ]
    },
    {
     "name": "stdout",
     "output_type": "stream",
     "text": [
      "Epoch 64: train_acc_0.9676_train_loss_0.0793_val_acc_0.8635_val_loss_0.7684 epoch time 13.8040 seconds\n"
     ]
    },
    {
     "name": "stderr",
     "output_type": "stream",
     "text": [
      "loss: 0.0685, accuracy: 0.9500: 100%|██████████| 1000/1000 [00:12<00:00, 79.29it/s]\n",
      "loss: 0.7440, accuracy: 0.9400: 100%|██████████| 158/158 [00:01<00:00, 139.53it/s]\n",
      "loss: 0.1739, accuracy: 0.9300:   2%|▏         | 15/1000 [00:00<00:12, 79.44it/s]"
     ]
    },
    {
     "name": "stdout",
     "output_type": "stream",
     "text": [
      "Epoch 65: train_acc_0.9693_train_loss_0.0742_val_acc_0.8620_val_loss_0.7999 epoch time 13.8512 seconds\n"
     ]
    },
    {
     "name": "stderr",
     "output_type": "stream",
     "text": [
      "loss: 0.0827, accuracy: 0.9600: 100%|██████████| 1000/1000 [00:12<00:00, 79.56it/s]\n",
      "loss: 0.2623, accuracy: 0.9200: 100%|██████████| 158/158 [00:01<00:00, 143.42it/s]\n",
      "loss: 0.0214, accuracy: 1.0000:   2%|▏         | 15/1000 [00:00<00:12, 79.21it/s]"
     ]
    },
    {
     "name": "stdout",
     "output_type": "stream",
     "text": [
      "Epoch 66: train_acc_0.9690_train_loss_0.0753_val_acc_0.8618_val_loss_0.7902 epoch time 13.7809 seconds\n"
     ]
    },
    {
     "name": "stderr",
     "output_type": "stream",
     "text": [
      "loss: 0.0509, accuracy: 0.9800: 100%|██████████| 1000/1000 [00:12<00:00, 79.18it/s]\n",
      "loss: 1.2091, accuracy: 0.8700: 100%|██████████| 158/158 [00:01<00:00, 138.06it/s]\n",
      "loss: 0.0948, accuracy: 0.9800:   2%|▏         | 15/1000 [00:00<00:12, 80.05it/s]"
     ]
    },
    {
     "name": "stdout",
     "output_type": "stream",
     "text": [
      "Epoch 67: train_acc_0.9675_train_loss_0.0796_val_acc_0.8684_val_loss_0.7907 epoch time 13.8765 seconds\n"
     ]
    },
    {
     "name": "stderr",
     "output_type": "stream",
     "text": [
      "loss: 0.1564, accuracy: 0.9600: 100%|██████████| 1000/1000 [00:12<00:00, 79.78it/s]\n",
      "loss: 0.8670, accuracy: 0.8600: 100%|██████████| 158/158 [00:01<00:00, 138.16it/s]\n",
      "loss: 0.1170, accuracy: 0.9400:   2%|▏         | 16/1000 [00:00<00:12, 80.46it/s]"
     ]
    },
    {
     "name": "stdout",
     "output_type": "stream",
     "text": [
      "Epoch 68: train_acc_0.9708_train_loss_0.0712_val_acc_0.8685_val_loss_0.8323 epoch time 13.7833 seconds\n"
     ]
    },
    {
     "name": "stderr",
     "output_type": "stream",
     "text": [
      "loss: 0.0747, accuracy: 0.9800: 100%|██████████| 1000/1000 [00:12<00:00, 79.83it/s]\n",
      "loss: 0.5027, accuracy: 0.8900: 100%|██████████| 158/158 [00:01<00:00, 142.06it/s]\n",
      "loss: 0.1091, accuracy: 0.9700:   2%|▏         | 16/1000 [00:00<00:11, 86.43it/s]"
     ]
    },
    {
     "name": "stdout",
     "output_type": "stream",
     "text": [
      "Epoch 69: train_acc_0.9702_train_loss_0.0733_val_acc_0.8646_val_loss_0.8229 epoch time 13.7440 seconds\n"
     ]
    },
    {
     "name": "stderr",
     "output_type": "stream",
     "text": [
      "loss: 0.1849, accuracy: 0.9300: 100%|██████████| 1000/1000 [00:12<00:00, 81.45it/s]\n",
      "loss: 0.8395, accuracy: 0.8500: 100%|██████████| 158/158 [00:01<00:00, 139.30it/s]\n",
      "loss: 0.0365, accuracy: 0.9900:   2%|▏         | 16/1000 [00:00<00:11, 82.59it/s]"
     ]
    },
    {
     "name": "stdout",
     "output_type": "stream",
     "text": [
      "Epoch 70: train_acc_0.9701_train_loss_0.0741_val_acc_0.8622_val_loss_0.8379 epoch time 13.8221 seconds\n"
     ]
    },
    {
     "name": "stderr",
     "output_type": "stream",
     "text": [
      "loss: 0.1127, accuracy: 0.9700: 100%|██████████| 1000/1000 [00:12<00:00, 79.26it/s]\n",
      "loss: 0.8975, accuracy: 0.8300: 100%|██████████| 158/158 [00:01<00:00, 139.00it/s]\n",
      "loss: 0.0239, accuracy: 0.9900:   2%|▏         | 15/1000 [00:00<00:12, 81.83it/s]"
     ]
    },
    {
     "name": "stdout",
     "output_type": "stream",
     "text": [
      "Epoch 71: train_acc_0.9700_train_loss_0.0733_val_acc_0.8638_val_loss_0.8477 epoch time 13.8587 seconds\n"
     ]
    },
    {
     "name": "stderr",
     "output_type": "stream",
     "text": [
      "loss: 0.1613, accuracy: 0.9400: 100%|██████████| 1000/1000 [00:12<00:00, 79.31it/s]\n",
      "loss: 0.7587, accuracy: 0.8400: 100%|██████████| 158/158 [00:01<00:00, 140.57it/s]\n",
      "loss: 0.1054, accuracy: 0.9800:   2%|▏         | 15/1000 [00:00<00:12, 81.07it/s]"
     ]
    },
    {
     "name": "stdout",
     "output_type": "stream",
     "text": [
      "Epoch 72: train_acc_0.9719_train_loss_0.0684_val_acc_0.8641_val_loss_0.8509 epoch time 13.8425 seconds\n"
     ]
    },
    {
     "name": "stderr",
     "output_type": "stream",
     "text": [
      "loss: 0.0384, accuracy: 0.9800: 100%|██████████| 1000/1000 [00:12<00:00, 81.23it/s]\n",
      "loss: 1.8323, accuracy: 0.8500: 100%|██████████| 158/158 [00:01<00:00, 141.40it/s]\n",
      "loss: 0.0639, accuracy: 0.9700:   2%|▏         | 15/1000 [00:00<00:12, 80.15it/s]"
     ]
    },
    {
     "name": "stdout",
     "output_type": "stream",
     "text": [
      "Epoch 73: train_acc_0.9714_train_loss_0.0721_val_acc_0.8626_val_loss_0.8492 epoch time 13.8601 seconds\n"
     ]
    },
    {
     "name": "stderr",
     "output_type": "stream",
     "text": [
      "loss: 0.0520, accuracy: 0.9800: 100%|██████████| 1000/1000 [00:12<00:00, 79.13it/s]\n",
      "loss: 0.6470, accuracy: 0.9000: 100%|██████████| 158/158 [00:01<00:00, 142.06it/s]\n",
      "loss: 0.0201, accuracy: 1.0000:   2%|▏         | 15/1000 [00:00<00:12, 80.26it/s]"
     ]
    },
    {
     "name": "stdout",
     "output_type": "stream",
     "text": [
      "Epoch 74: train_acc_0.9730_train_loss_0.0674_val_acc_0.8634_val_loss_0.8316 epoch time 13.8579 seconds\n"
     ]
    },
    {
     "name": "stderr",
     "output_type": "stream",
     "text": [
      "loss: 0.1268, accuracy: 0.9600: 100%|██████████| 1000/1000 [00:12<00:00, 79.13it/s]\n",
      "loss: 0.9272, accuracy: 0.8500: 100%|██████████| 158/158 [00:01<00:00, 137.95it/s]\n",
      "loss: 0.0789, accuracy: 0.9800:   2%|▏         | 15/1000 [00:00<00:12, 81.64it/s]"
     ]
    },
    {
     "name": "stdout",
     "output_type": "stream",
     "text": [
      "Epoch 75: train_acc_0.9725_train_loss_0.0674_val_acc_0.8620_val_loss_0.8635 epoch time 13.8917 seconds\n"
     ]
    },
    {
     "name": "stderr",
     "output_type": "stream",
     "text": [
      "loss: 0.0789, accuracy: 0.9700: 100%|██████████| 1000/1000 [00:12<00:00, 78.84it/s]\n",
      "loss: 0.9056, accuracy: 0.8700: 100%|██████████| 158/158 [00:01<00:00, 141.13it/s]\n",
      "loss: 0.0377, accuracy: 0.9900:   2%|▏         | 15/1000 [00:00<00:12, 78.20it/s]"
     ]
    },
    {
     "name": "stdout",
     "output_type": "stream",
     "text": [
      "Epoch 76: train_acc_0.9725_train_loss_0.0680_val_acc_0.8635_val_loss_0.8926 epoch time 13.9087 seconds\n"
     ]
    },
    {
     "name": "stderr",
     "output_type": "stream",
     "text": [
      "loss: 0.0825, accuracy: 0.9600: 100%|██████████| 1000/1000 [00:12<00:00, 78.92it/s]\n",
      "loss: 0.7124, accuracy: 0.8800: 100%|██████████| 158/158 [00:01<00:00, 136.67it/s]\n",
      "loss: 0.0144, accuracy: 1.0000:   2%|▏         | 15/1000 [00:00<00:12, 80.94it/s]"
     ]
    },
    {
     "name": "stdout",
     "output_type": "stream",
     "text": [
      "Epoch 77: train_acc_0.9729_train_loss_0.0670_val_acc_0.8632_val_loss_0.8881 epoch time 13.9339 seconds\n"
     ]
    },
    {
     "name": "stderr",
     "output_type": "stream",
     "text": [
      "loss: 0.1153, accuracy: 0.9500: 100%|██████████| 1000/1000 [00:12<00:00, 79.12it/s]\n",
      "loss: 0.7842, accuracy: 0.8600: 100%|██████████| 158/158 [00:01<00:00, 138.60it/s]\n",
      "loss: 0.0482, accuracy: 0.9900:   2%|▏         | 15/1000 [00:00<00:11, 82.13it/s]"
     ]
    },
    {
     "name": "stdout",
     "output_type": "stream",
     "text": [
      "Epoch 78: train_acc_0.9738_train_loss_0.0647_val_acc_0.8653_val_loss_0.8842 epoch time 13.8853 seconds\n"
     ]
    },
    {
     "name": "stderr",
     "output_type": "stream",
     "text": [
      "loss: 0.0376, accuracy: 0.9900: 100%|██████████| 1000/1000 [00:12<00:00, 79.19it/s]\n",
      "loss: 0.7640, accuracy: 0.8900: 100%|██████████| 158/158 [00:01<00:00, 139.33it/s]\n",
      "loss: 0.0511, accuracy: 0.9700:   2%|▏         | 15/1000 [00:00<00:12, 79.55it/s]"
     ]
    },
    {
     "name": "stdout",
     "output_type": "stream",
     "text": [
      "Epoch 79: train_acc_0.9742_train_loss_0.0649_val_acc_0.8644_val_loss_0.8726 epoch time 13.8686 seconds\n"
     ]
    },
    {
     "name": "stderr",
     "output_type": "stream",
     "text": [
      "loss: 0.0734, accuracy: 0.9600: 100%|██████████| 1000/1000 [00:12<00:00, 78.91it/s]\n",
      "loss: 1.4863, accuracy: 0.8300: 100%|██████████| 158/158 [00:01<00:00, 139.57it/s]\n",
      "loss: 0.0119, accuracy: 1.0000:   2%|▏         | 15/1000 [00:00<00:12, 79.84it/s]"
     ]
    },
    {
     "name": "stdout",
     "output_type": "stream",
     "text": [
      "Epoch 80: train_acc_0.9748_train_loss_0.0633_val_acc_0.8651_val_loss_0.9386 epoch time 13.9123 seconds\n"
     ]
    },
    {
     "name": "stderr",
     "output_type": "stream",
     "text": [
      "loss: 0.0896, accuracy: 0.9700: 100%|██████████| 1000/1000 [00:12<00:00, 78.89it/s]\n",
      "loss: 0.8530, accuracy: 0.8700: 100%|██████████| 158/158 [00:01<00:00, 140.37it/s]\n",
      "loss: 0.0769, accuracy: 0.9600:   2%|▏         | 15/1000 [00:00<00:12, 80.64it/s]"
     ]
    },
    {
     "name": "stdout",
     "output_type": "stream",
     "text": [
      "Epoch 81: train_acc_0.9744_train_loss_0.0640_val_acc_0.8665_val_loss_0.9137 epoch time 13.9077 seconds\n"
     ]
    },
    {
     "name": "stderr",
     "output_type": "stream",
     "text": [
      "loss: 0.0470, accuracy: 0.9800: 100%|██████████| 1000/1000 [00:12<00:00, 80.98it/s]\n",
      "loss: 0.7127, accuracy: 0.8700: 100%|██████████| 158/158 [00:01<00:00, 139.75it/s]\n",
      "loss: 0.0517, accuracy: 0.9700:   2%|▏         | 15/1000 [00:00<00:12, 80.76it/s]"
     ]
    },
    {
     "name": "stdout",
     "output_type": "stream",
     "text": [
      "Epoch 82: train_acc_0.9750_train_loss_0.0628_val_acc_0.8632_val_loss_0.9283 epoch time 13.8999 seconds\n"
     ]
    },
    {
     "name": "stderr",
     "output_type": "stream",
     "text": [
      "loss: 0.1321, accuracy: 0.9500: 100%|██████████| 1000/1000 [00:12<00:00, 79.01it/s]\n",
      "loss: 0.6975, accuracy: 0.9200: 100%|██████████| 158/158 [00:01<00:00, 138.02it/s]\n",
      "loss: 0.0876, accuracy: 0.9400:   2%|▏         | 15/1000 [00:00<00:12, 79.06it/s]"
     ]
    },
    {
     "name": "stdout",
     "output_type": "stream",
     "text": [
      "Epoch 83: train_acc_0.9740_train_loss_0.0653_val_acc_0.8637_val_loss_0.9287 epoch time 13.9094 seconds\n"
     ]
    },
    {
     "name": "stderr",
     "output_type": "stream",
     "text": [
      "loss: 0.0714, accuracy: 0.9900: 100%|██████████| 1000/1000 [00:12<00:00, 79.50it/s]\n",
      "loss: 0.8484, accuracy: 0.8800: 100%|██████████| 158/158 [00:01<00:00, 142.43it/s]\n",
      "loss: 0.1637, accuracy: 0.9700:   2%|▏         | 16/1000 [00:00<00:12, 81.52it/s]"
     ]
    },
    {
     "name": "stdout",
     "output_type": "stream",
     "text": [
      "Epoch 84: train_acc_0.9743_train_loss_0.0642_val_acc_0.8616_val_loss_0.9375 epoch time 13.7920 seconds\n"
     ]
    },
    {
     "name": "stderr",
     "output_type": "stream",
     "text": [
      "loss: 0.0211, accuracy: 0.9900: 100%|██████████| 1000/1000 [00:12<00:00, 79.78it/s]\n",
      "loss: 1.4566, accuracy: 0.8600: 100%|██████████| 158/158 [00:01<00:00, 139.35it/s]\n",
      "loss: 0.0480, accuracy: 0.9900:   2%|▏         | 15/1000 [00:00<00:11, 82.99it/s]"
     ]
    },
    {
     "name": "stdout",
     "output_type": "stream",
     "text": [
      "Epoch 85: train_acc_0.9764_train_loss_0.0600_val_acc_0.8606_val_loss_0.9454 epoch time 13.7704 seconds\n"
     ]
    },
    {
     "name": "stderr",
     "output_type": "stream",
     "text": [
      "loss: 0.0591, accuracy: 0.9800: 100%|██████████| 1000/1000 [00:12<00:00, 79.44it/s]\n",
      "loss: 0.5512, accuracy: 0.9100: 100%|██████████| 158/158 [00:01<00:00, 138.97it/s]\n",
      "loss: 0.0430, accuracy: 0.9800:   2%|▏         | 16/1000 [00:00<00:11, 82.93it/s]"
     ]
    },
    {
     "name": "stdout",
     "output_type": "stream",
     "text": [
      "Epoch 86: train_acc_0.9760_train_loss_0.0601_val_acc_0.8641_val_loss_0.9422 epoch time 13.8316 seconds\n"
     ]
    },
    {
     "name": "stderr",
     "output_type": "stream",
     "text": [
      "loss: 0.0771, accuracy: 0.9700: 100%|██████████| 1000/1000 [00:12<00:00, 82.05it/s]\n",
      "loss: 0.4850, accuracy: 0.9100: 100%|██████████| 158/158 [00:01<00:00, 139.33it/s]\n",
      "loss: 0.0579, accuracy: 0.9800:   2%|▏         | 16/1000 [00:00<00:11, 84.51it/s]"
     ]
    },
    {
     "name": "stdout",
     "output_type": "stream",
     "text": [
      "Epoch 87: train_acc_0.9766_train_loss_0.0585_val_acc_0.8609_val_loss_0.9758 epoch time 13.8961 seconds\n"
     ]
    },
    {
     "name": "stderr",
     "output_type": "stream",
     "text": [
      "loss: 0.1468, accuracy: 0.9800: 100%|██████████| 1000/1000 [00:12<00:00, 79.55it/s]\n",
      "loss: 0.6830, accuracy: 0.8500: 100%|██████████| 158/158 [00:01<00:00, 140.52it/s]\n",
      "loss: 0.0728, accuracy: 0.9700:   2%|▏         | 16/1000 [00:00<00:12, 80.29it/s]"
     ]
    },
    {
     "name": "stdout",
     "output_type": "stream",
     "text": [
      "Epoch 88: train_acc_0.9767_train_loss_0.0586_val_acc_0.8615_val_loss_1.0312 epoch time 13.8017 seconds\n"
     ]
    },
    {
     "name": "stderr",
     "output_type": "stream",
     "text": [
      "loss: 0.1323, accuracy: 0.9500: 100%|██████████| 1000/1000 [00:12<00:00, 79.58it/s]\n",
      "loss: 0.7549, accuracy: 0.9000: 100%|██████████| 158/158 [00:01<00:00, 138.73it/s]\n",
      "loss: 0.0641, accuracy: 0.9600:   2%|▏         | 15/1000 [00:00<00:12, 79.74it/s]"
     ]
    },
    {
     "name": "stdout",
     "output_type": "stream",
     "text": [
      "Epoch 89: train_acc_0.9762_train_loss_0.0599_val_acc_0.8621_val_loss_1.0176 epoch time 13.8134 seconds\n"
     ]
    },
    {
     "name": "stderr",
     "output_type": "stream",
     "text": [
      "loss: 0.0675, accuracy: 0.9800: 100%|██████████| 1000/1000 [00:12<00:00, 80.82it/s]\n",
      "loss: 0.4096, accuracy: 0.9000: 100%|██████████| 158/158 [00:01<00:00, 137.90it/s]\n",
      "loss: 0.0126, accuracy: 1.0000:   2%|▏         | 15/1000 [00:00<00:12, 79.60it/s]"
     ]
    },
    {
     "name": "stdout",
     "output_type": "stream",
     "text": [
      "Epoch 90: train_acc_0.9765_train_loss_0.0593_val_acc_0.8609_val_loss_0.9708 epoch time 13.8197 seconds\n"
     ]
    },
    {
     "name": "stderr",
     "output_type": "stream",
     "text": [
      "loss: 0.0671, accuracy: 0.9800: 100%|██████████| 1000/1000 [00:12<00:00, 79.60it/s]\n",
      "loss: 0.7761, accuracy: 0.9200: 100%|██████████| 158/158 [00:01<00:00, 136.71it/s]\n",
      "loss: 0.0800, accuracy: 0.9600:   2%|▏         | 15/1000 [00:00<00:12, 79.55it/s]"
     ]
    },
    {
     "name": "stdout",
     "output_type": "stream",
     "text": [
      "Epoch 91: train_acc_0.9781_train_loss_0.0567_val_acc_0.8600_val_loss_0.9915 epoch time 13.8227 seconds\n"
     ]
    },
    {
     "name": "stderr",
     "output_type": "stream",
     "text": [
      "loss: 0.1194, accuracy: 0.9500: 100%|██████████| 1000/1000 [00:12<00:00, 79.64it/s]\n",
      "loss: 0.9529, accuracy: 0.8700: 100%|██████████| 158/158 [00:01<00:00, 139.99it/s]\n",
      "loss: 0.0497, accuracy: 0.9900:   2%|▏         | 15/1000 [00:00<00:12, 81.53it/s]"
     ]
    },
    {
     "name": "stdout",
     "output_type": "stream",
     "text": [
      "Epoch 92: train_acc_0.9766_train_loss_0.0582_val_acc_0.8623_val_loss_1.0097 epoch time 13.7922 seconds\n"
     ]
    },
    {
     "name": "stderr",
     "output_type": "stream",
     "text": [
      "loss: 0.0516, accuracy: 0.9800: 100%|██████████| 1000/1000 [00:12<00:00, 79.55it/s]\n",
      "loss: 1.1324, accuracy: 0.8000: 100%|██████████| 158/158 [00:01<00:00, 138.44it/s]\n",
      "loss: 0.0470, accuracy: 0.9700:   2%|▏         | 16/1000 [00:00<00:11, 82.60it/s]"
     ]
    },
    {
     "name": "stdout",
     "output_type": "stream",
     "text": [
      "Epoch 93: train_acc_0.9778_train_loss_0.0568_val_acc_0.8618_val_loss_1.0309 epoch time 13.8160 seconds\n"
     ]
    },
    {
     "name": "stderr",
     "output_type": "stream",
     "text": [
      "loss: 0.0320, accuracy: 0.9900: 100%|██████████| 1000/1000 [00:12<00:00, 78.61it/s]\n",
      "loss: 1.6883, accuracy: 0.7600: 100%|██████████| 158/158 [00:01<00:00, 143.86it/s]\n",
      "loss: 0.0342, accuracy: 0.9700:   2%|▏         | 16/1000 [00:00<00:11, 86.27it/s]"
     ]
    },
    {
     "name": "stdout",
     "output_type": "stream",
     "text": [
      "Epoch 94: train_acc_0.9784_train_loss_0.0550_val_acc_0.8611_val_loss_1.0056 epoch time 13.9232 seconds\n"
     ]
    },
    {
     "name": "stderr",
     "output_type": "stream",
     "text": [
      "loss: 0.0874, accuracy: 0.9700: 100%|██████████| 1000/1000 [00:12<00:00, 80.05it/s]\n",
      "loss: 1.4939, accuracy: 0.8400: 100%|██████████| 158/158 [00:01<00:00, 142.74it/s]\n",
      "loss: 0.0372, accuracy: 0.9800:   2%|▏         | 15/1000 [00:00<00:12, 80.54it/s]"
     ]
    },
    {
     "name": "stdout",
     "output_type": "stream",
     "text": [
      "Epoch 95: train_acc_0.9792_train_loss_0.0528_val_acc_0.8567_val_loss_1.0391 epoch time 13.7008 seconds\n"
     ]
    },
    {
     "name": "stderr",
     "output_type": "stream",
     "text": [
      "loss: 0.0406, accuracy: 0.9800: 100%|██████████| 1000/1000 [00:12<00:00, 80.04it/s]\n",
      "loss: 1.1554, accuracy: 0.9000: 100%|██████████| 158/158 [00:01<00:00, 142.08it/s]\n",
      "loss: 0.0255, accuracy: 0.9900:   2%|▏         | 15/1000 [00:00<00:12, 81.49it/s]"
     ]
    },
    {
     "name": "stdout",
     "output_type": "stream",
     "text": [
      "Epoch 96: train_acc_0.9780_train_loss_0.0549_val_acc_0.8566_val_loss_1.0270 epoch time 13.7065 seconds\n"
     ]
    },
    {
     "name": "stderr",
     "output_type": "stream",
     "text": [
      "loss: 0.0561, accuracy: 0.9700: 100%|██████████| 1000/1000 [00:12<00:00, 80.41it/s]\n",
      "loss: 1.8131, accuracy: 0.8300: 100%|██████████| 158/158 [00:01<00:00, 140.87it/s]\n",
      "loss: 0.0413, accuracy: 0.9900:   2%|▏         | 15/1000 [00:00<00:11, 82.48it/s]"
     ]
    },
    {
     "name": "stdout",
     "output_type": "stream",
     "text": [
      "Epoch 97: train_acc_0.9789_train_loss_0.0539_val_acc_0.8606_val_loss_1.0414 epoch time 13.6618 seconds\n"
     ]
    },
    {
     "name": "stderr",
     "output_type": "stream",
     "text": [
      "loss: 0.0535, accuracy: 0.9800: 100%|██████████| 1000/1000 [00:12<00:00, 79.54it/s]\n",
      "loss: 1.6419, accuracy: 0.8200: 100%|██████████| 158/158 [00:01<00:00, 142.04it/s]\n",
      "loss: 0.0767, accuracy: 0.9700:   2%|▏         | 15/1000 [00:00<00:12, 80.41it/s]"
     ]
    },
    {
     "name": "stdout",
     "output_type": "stream",
     "text": [
      "Epoch 98: train_acc_0.9790_train_loss_0.0531_val_acc_0.8626_val_loss_1.0496 epoch time 13.7905 seconds\n"
     ]
    },
    {
     "name": "stderr",
     "output_type": "stream",
     "text": [
      "loss: 0.0788, accuracy: 0.9700: 100%|██████████| 1000/1000 [00:12<00:00, 80.02it/s]\n",
      "loss: 1.1758, accuracy: 0.8700: 100%|██████████| 158/158 [00:01<00:00, 144.54it/s]\n",
      "loss: 0.2358, accuracy: 0.8900:  19%|█▉        | 30/158 [00:00<00:00, 163.41it/s]"
     ]
    },
    {
     "name": "stdout",
     "output_type": "stream",
     "text": [
      "Epoch 99: train_acc_0.9788_train_loss_0.0535_val_acc_0.8570_val_loss_1.0288 epoch time 13.6939 seconds\n",
      "Generating test set evaluation metrics\n"
     ]
    },
    {
     "name": "stderr",
     "output_type": "stream",
     "text": [
      "loss: 0.4397, accuracy: 0.8200: 100%|██████████| 158/158 [00:01<00:00, 143.00it/s]\n"
     ]
    }
   ],
   "source": [
    "batch_size = 100\n",
    "image_num_channels = 1\n",
    "image_height = 28\n",
    "image_width = 28\n",
    "dim_reduction_type = ['strided_convolution', 'dilated_convolution', 'max_pooling', 'avg_pooling']\n",
    "\n",
    "num_filters = 64\n",
    "num_layers = 3\n",
    "dim_reduction_idx = 2\n",
    "\n",
    "experiment_name = 'stride3_filter64_layer3_type2'\n",
    "num_epochs = 100\n",
    "weight_decay_coefficient = 1e-05\n",
    "seed = 9112018\n",
    "use_gpu = True\n",
    "\n",
    "rng = np.random.RandomState(seed=seed)\n",
    "train_data = data_providers.EMNISTDataProvider('train', batch_size=batch_size, rng=rng)\n",
    "val_data = data_providers.EMNISTDataProvider('valid', batch_size=batch_size, rng=rng)\n",
    "test_data = data_providers.EMNISTDataProvider('test', batch_size=batch_size, rng=rng)\n",
    "\n",
    "\n",
    "custom_conv_net = ConvolutionalNetwork(\n",
    "    input_shape=(batch_size, image_num_channels, image_height, image_width),\n",
    "    dim_reduction_type=dim_reduction_type[dim_reduction_idx],\n",
    "    num_output_classes=47, num_filters=num_filters, num_layers=num_layers, use_bias=False)\n",
    "\n",
    "conv_experiment = ExperimentBuilder(network_model=custom_conv_net,\n",
    "                                    experiment_name=experiment_name,\n",
    "                                    num_epochs=num_epochs,\n",
    "                                    weight_decay_coefficient=weight_decay_coefficient,\n",
    "                                    use_gpu=use_gpu,\n",
    "                                    train_data=train_data, val_data=val_data, test_data=test_data)\n",
    "total_losses, _ = conv_experiment.run_experiment()"
   ]
  },
  {
   "cell_type": "code",
   "execution_count": 9,
   "metadata": {},
   "outputs": [
    {
     "data": {
      "image/png": "[encoded data removed]",
      "text/plain": [
       "<Figure size 576x288 with 1 Axes>"
      ]
     },
     "metadata": {
      "needs_background": "light"
     },
     "output_type": "display_data"
    },
    {
     "data": {
      "image/png": "[encoded data removed]",
      "text/plain": [
       "<Figure size 576x288 with 1 Axes>"
      ]
     },
     "metadata": {
      "needs_background": "light"
     },
     "output_type": "display_data"
    }
   ],
   "source": [
    "plot_stats_in_graph(total_losses)"
   ]
  },
  {
   "cell_type": "code",
   "execution_count": 10,
   "metadata": {},
   "outputs": [
    {
     "name": "stdout",
     "output_type": "stream",
     "text": [
      "KeysView(<numpy.lib.npyio.NpzFile object at 0x7f56e9e8e940>)\n",
      "KeysView(<numpy.lib.npyio.NpzFile object at 0x7f56e9e8eb38>)\n",
      "KeysView(<numpy.lib.npyio.NpzFile object at 0x7f56e9e8e9e8>)\n"
     ]
    },
    {
     "name": "stderr",
     "output_type": "stream",
     "text": [
      "loss: 3.8462, accuracy: 0.0500:   1%|          | 7/1000 [00:00<00:12, 76.68it/s]"
     ]
    },
    {
     "name": "stdout",
     "output_type": "stream",
     "text": [
      "Building basic block of ConvolutionalNetwork using input shape (100, 1, 28, 28)\n",
      "torch.Size([100, 64, 28, 28])\n",
      "torch.Size([100, 64, 10, 10])\n",
      "torch.Size([100, 64, 10, 10])\n",
      "torch.Size([100, 64, 4, 4])\n",
      "torch.Size([100, 64, 4, 4])\n",
      "torch.Size([100, 64, 2, 2])\n",
      "torch.Size([100, 64, 2, 2])\n",
      "Block is built, output volume is torch.Size([100, 47])\n",
      "use GPU\n"
     ]
    },
    {
     "name": "stderr",
     "output_type": "stream",
     "text": [
      "loss: 0.8244, accuracy: 0.7400: 100%|██████████| 1000/1000 [00:12<00:00, 82.55it/s]\n",
      "loss: 0.8381, accuracy: 0.7500: 100%|██████████| 158/158 [00:01<00:00, 138.63it/s]\n",
      "loss: 0.5880, accuracy: 0.8000:   2%|▏         | 16/1000 [00:00<00:11, 84.23it/s]"
     ]
    },
    {
     "name": "stdout",
     "output_type": "stream",
     "text": [
      "Epoch 0: train_acc_0.5893_train_loss_1.4250_val_acc_0.7609_val_loss_0.7603 epoch time 13.7797 seconds\n"
     ]
    },
    {
     "name": "stderr",
     "output_type": "stream",
     "text": [
      "loss: 0.4924, accuracy: 0.8100: 100%|██████████| 1000/1000 [00:12<00:00, 80.17it/s]\n",
      "loss: 0.7394, accuracy: 0.7400: 100%|██████████| 158/158 [00:01<00:00, 139.01it/s]\n",
      "loss: 0.4378, accuracy: 0.8700:   2%|▏         | 16/1000 [00:00<00:12, 80.96it/s]"
     ]
    },
    {
     "name": "stdout",
     "output_type": "stream",
     "text": [
      "Epoch 1: train_acc_0.7796_train_loss_0.6876_val_acc_0.8031_val_loss_0.6062 epoch time 13.7151 seconds\n"
     ]
    },
    {
     "name": "stderr",
     "output_type": "stream",
     "text": [
      "loss: 0.6042, accuracy: 0.8000: 100%|██████████| 1000/1000 [00:12<00:00, 80.03it/s]\n",
      "loss: 0.5538, accuracy: 0.7800: 100%|██████████| 158/158 [00:01<00:00, 142.81it/s]\n",
      "loss: 0.5102, accuracy: 0.8200:   2%|▏         | 16/1000 [00:00<00:12, 81.72it/s]"
     ]
    },
    {
     "name": "stdout",
     "output_type": "stream",
     "text": [
      "Epoch 2: train_acc_0.8093_train_loss_0.5837_val_acc_0.8163_val_loss_0.5605 epoch time 13.7034 seconds\n"
     ]
    },
    {
     "name": "stderr",
     "output_type": "stream",
     "text": [
      "loss: 0.5417, accuracy: 0.8000: 100%|██████████| 1000/1000 [00:12<00:00, 80.06it/s]\n",
      "loss: 0.4931, accuracy: 0.8100: 100%|██████████| 158/158 [00:01<00:00, 140.45it/s]\n",
      "loss: 0.5190, accuracy: 0.8300:   2%|▏         | 16/1000 [00:00<00:11, 83.46it/s]"
     ]
    },
    {
     "name": "stdout",
     "output_type": "stream",
     "text": [
      "Epoch 3: train_acc_0.8242_train_loss_0.5321_val_acc_0.8256_val_loss_0.5194 epoch time 13.7197 seconds\n"
     ]
    },
    {
     "name": "stderr",
     "output_type": "stream",
     "text": [
      "loss: 0.3731, accuracy: 0.8700: 100%|██████████| 1000/1000 [00:12<00:00, 79.81it/s]\n",
      "loss: 0.5155, accuracy: 0.8500: 100%|██████████| 158/158 [00:01<00:00, 139.46it/s]\n",
      "loss: 0.3852, accuracy: 0.8600:   2%|▏         | 15/1000 [00:00<00:12, 81.57it/s]"
     ]
    },
    {
     "name": "stdout",
     "output_type": "stream",
     "text": [
      "Epoch 4: train_acc_0.8341_train_loss_0.4949_val_acc_0.8420_val_loss_0.4603 epoch time 13.7690 seconds\n"
     ]
    },
    {
     "name": "stderr",
     "output_type": "stream",
     "text": [
      "loss: 0.4915, accuracy: 0.8500: 100%|██████████| 1000/1000 [00:12<00:00, 79.82it/s]\n",
      "loss: 0.5556, accuracy: 0.8200: 100%|██████████| 158/158 [00:01<00:00, 138.56it/s]\n",
      "loss: 0.3862, accuracy: 0.9000:   2%|▏         | 15/1000 [00:00<00:11, 82.36it/s]"
     ]
    },
    {
     "name": "stdout",
     "output_type": "stream",
     "text": [
      "Epoch 5: train_acc_0.8415_train_loss_0.4675_val_acc_0.8347_val_loss_0.4830 epoch time 13.7759 seconds\n"
     ]
    },
    {
     "name": "stderr",
     "output_type": "stream",
     "text": [
      "loss: 0.7398, accuracy: 0.8100: 100%|██████████| 1000/1000 [00:12<00:00, 79.94it/s]\n",
      "loss: 0.3654, accuracy: 0.8400: 100%|██████████| 158/158 [00:01<00:00, 145.70it/s]\n",
      "loss: 0.4004, accuracy: 0.8700:   2%|▏         | 16/1000 [00:00<00:12, 80.78it/s]"
     ]
    },
    {
     "name": "stdout",
     "output_type": "stream",
     "text": [
      "Epoch 6: train_acc_0.8480_train_loss_0.4447_val_acc_0.8524_val_loss_0.4314 epoch time 13.6985 seconds\n"
     ]
    },
    {
     "name": "stderr",
     "output_type": "stream",
     "text": [
      "loss: 0.4700, accuracy: 0.8200: 100%|██████████| 1000/1000 [00:12<00:00, 80.21it/s]\n",
      "loss: 0.6546, accuracy: 0.7900: 100%|██████████| 158/158 [00:01<00:00, 139.71it/s]\n",
      "loss: 0.4491, accuracy: 0.8700:   2%|▏         | 15/1000 [00:00<00:12, 80.56it/s]"
     ]
    },
    {
     "name": "stdout",
     "output_type": "stream",
     "text": [
      "Epoch 7: train_acc_0.8520_train_loss_0.4303_val_acc_0.8570_val_loss_0.4232 epoch time 13.7063 seconds\n"
     ]
    },
    {
     "name": "stderr",
     "output_type": "stream",
     "text": [
      "loss: 0.2742, accuracy: 0.8900: 100%|██████████| 1000/1000 [00:12<00:00, 79.73it/s]\n",
      "loss: 0.3091, accuracy: 0.9200: 100%|██████████| 158/158 [00:01<00:00, 141.10it/s]\n",
      "loss: 0.2513, accuracy: 0.9000:   2%|▏         | 15/1000 [00:00<00:12, 80.73it/s]"
     ]
    },
    {
     "name": "stdout",
     "output_type": "stream",
     "text": [
      "Epoch 8: train_acc_0.8576_train_loss_0.4117_val_acc_0.8541_val_loss_0.4133 epoch time 13.7691 seconds\n"
     ]
    },
    {
     "name": "stderr",
     "output_type": "stream",
     "text": [
      "loss: 0.2210, accuracy: 0.9400: 100%|██████████| 1000/1000 [00:12<00:00, 79.81it/s]\n",
      "loss: 0.2660, accuracy: 0.9100: 100%|██████████| 158/158 [00:01<00:00, 142.49it/s]\n",
      "loss: 0.2864, accuracy: 0.9300:   2%|▏         | 15/1000 [00:00<00:12, 78.98it/s]"
     ]
    },
    {
     "name": "stdout",
     "output_type": "stream",
     "text": [
      "Epoch 9: train_acc_0.8595_train_loss_0.4000_val_acc_0.8604_val_loss_0.4106 epoch time 13.7441 seconds\n"
     ]
    },
    {
     "name": "stderr",
     "output_type": "stream",
     "text": [
      "loss: 0.4230, accuracy: 0.8200: 100%|██████████| 1000/1000 [00:12<00:00, 80.11it/s]\n",
      "loss: 0.3203, accuracy: 0.8900: 100%|██████████| 158/158 [00:01<00:00, 140.46it/s]\n",
      "loss: 0.4721, accuracy: 0.8600:   2%|▏         | 15/1000 [00:00<00:12, 79.95it/s]"
     ]
    },
    {
     "name": "stdout",
     "output_type": "stream",
     "text": [
      "Epoch 10: train_acc_0.8634_train_loss_0.3878_val_acc_0.8641_val_loss_0.3923 epoch time 13.7123 seconds\n"
     ]
    },
    {
     "name": "stderr",
     "output_type": "stream",
     "text": [
      "loss: 0.3027, accuracy: 0.9000: 100%|██████████| 1000/1000 [00:12<00:00, 79.93it/s]\n",
      "loss: 0.3701, accuracy: 0.8400: 100%|██████████| 158/158 [00:01<00:00, 140.23it/s]\n",
      "loss: 0.3819, accuracy: 0.8800:   2%|▏         | 15/1000 [00:00<00:11, 82.62it/s]"
     ]
    },
    {
     "name": "stdout",
     "output_type": "stream",
     "text": [
      "Epoch 11: train_acc_0.8667_train_loss_0.3774_val_acc_0.8582_val_loss_0.3989 epoch time 13.7443 seconds\n"
     ]
    },
    {
     "name": "stderr",
     "output_type": "stream",
     "text": [
      "loss: 0.2838, accuracy: 0.8900: 100%|██████████| 1000/1000 [00:12<00:00, 79.79it/s]\n",
      "loss: 0.2444, accuracy: 0.8700: 100%|██████████| 158/158 [00:01<00:00, 140.38it/s]\n",
      "loss: 0.3579, accuracy: 0.8600:   2%|▏         | 15/1000 [00:00<00:12, 81.15it/s]"
     ]
    },
    {
     "name": "stdout",
     "output_type": "stream",
     "text": [
      "Epoch 12: train_acc_0.8696_train_loss_0.3689_val_acc_0.8684_val_loss_0.3834 epoch time 13.7633 seconds\n"
     ]
    },
    {
     "name": "stderr",
     "output_type": "stream",
     "text": [
      "loss: 0.4326, accuracy: 0.8500: 100%|██████████| 1000/1000 [00:12<00:00, 79.81it/s]\n",
      "loss: 0.2745, accuracy: 0.8900: 100%|██████████| 158/158 [00:01<00:00, 140.67it/s]\n",
      "loss: 0.5576, accuracy: 0.8100:   2%|▏         | 15/1000 [00:00<00:12, 81.16it/s]"
     ]
    },
    {
     "name": "stdout",
     "output_type": "stream",
     "text": [
      "Epoch 13: train_acc_0.8723_train_loss_0.3597_val_acc_0.8683_val_loss_0.3747 epoch time 13.7583 seconds\n"
     ]
    },
    {
     "name": "stderr",
     "output_type": "stream",
     "text": [
      "loss: 0.3129, accuracy: 0.9000: 100%|██████████| 1000/1000 [00:12<00:00, 79.75it/s]\n",
      "loss: 0.4078, accuracy: 0.8800: 100%|██████████| 158/158 [00:01<00:00, 141.11it/s]\n",
      "loss: 0.2782, accuracy: 0.8600:   2%|▏         | 15/1000 [00:00<00:12, 80.04it/s]"
     ]
    },
    {
     "name": "stdout",
     "output_type": "stream",
     "text": [
      "Epoch 14: train_acc_0.8748_train_loss_0.3518_val_acc_0.8686_val_loss_0.3750 epoch time 13.7658 seconds\n"
     ]
    },
    {
     "name": "stderr",
     "output_type": "stream",
     "text": [
      "loss: 0.2896, accuracy: 0.9200: 100%|██████████| 1000/1000 [00:12<00:00, 79.84it/s]\n",
      "loss: 0.3564, accuracy: 0.9100: 100%|██████████| 158/158 [00:01<00:00, 140.49it/s]\n",
      "loss: 0.4338, accuracy: 0.8300:   2%|▏         | 16/1000 [00:00<00:11, 84.48it/s]"
     ]
    },
    {
     "name": "stdout",
     "output_type": "stream",
     "text": [
      "Epoch 15: train_acc_0.8759_train_loss_0.3455_val_acc_0.8707_val_loss_0.3649 epoch time 13.7534 seconds\n"
     ]
    },
    {
     "name": "stderr",
     "output_type": "stream",
     "text": [
      "loss: 0.3680, accuracy: 0.8600: 100%|██████████| 1000/1000 [00:12<00:00, 79.76it/s]\n",
      "loss: 0.4089, accuracy: 0.8500: 100%|██████████| 158/158 [00:01<00:00, 139.47it/s]\n",
      "loss: 0.2868, accuracy: 0.8800:   2%|▏         | 15/1000 [00:00<00:12, 81.79it/s]"
     ]
    },
    {
     "name": "stdout",
     "output_type": "stream",
     "text": [
      "Epoch 16: train_acc_0.8774_train_loss_0.3391_val_acc_0.8711_val_loss_0.3757 epoch time 13.7762 seconds\n"
     ]
    },
    {
     "name": "stderr",
     "output_type": "stream",
     "text": [
      "loss: 0.3160, accuracy: 0.8500: 100%|██████████| 1000/1000 [00:12<00:00, 79.85it/s]\n",
      "loss: 0.4408, accuracy: 0.7900: 100%|██████████| 158/158 [00:01<00:00, 140.27it/s]\n",
      "loss: 0.1934, accuracy: 0.9500:   2%|▏         | 15/1000 [00:00<00:12, 81.26it/s]"
     ]
    },
    {
     "name": "stdout",
     "output_type": "stream",
     "text": [
      "Epoch 17: train_acc_0.8796_train_loss_0.3339_val_acc_0.8668_val_loss_0.3702 epoch time 13.7563 seconds\n"
     ]
    },
    {
     "name": "stderr",
     "output_type": "stream",
     "text": [
      "loss: 0.2729, accuracy: 0.8900: 100%|██████████| 1000/1000 [00:12<00:00, 79.90it/s]\n",
      "loss: 0.5779, accuracy: 0.8100: 100%|██████████| 158/158 [00:01<00:00, 138.61it/s]\n",
      "loss: 0.3124, accuracy: 0.9000:   2%|▏         | 15/1000 [00:00<00:12, 81.21it/s]"
     ]
    },
    {
     "name": "stdout",
     "output_type": "stream",
     "text": [
      "Epoch 18: train_acc_0.8812_train_loss_0.3275_val_acc_0.8761_val_loss_0.3515 epoch time 13.7614 seconds\n"
     ]
    },
    {
     "name": "stderr",
     "output_type": "stream",
     "text": [
      "loss: 0.2655, accuracy: 0.8800: 100%|██████████| 1000/1000 [00:12<00:00, 79.89it/s]\n",
      "loss: 0.3217, accuracy: 0.8600: 100%|██████████| 158/158 [00:01<00:00, 140.17it/s]\n",
      "loss: 0.2255, accuracy: 0.9000:   2%|▏         | 16/1000 [00:00<00:12, 81.58it/s]"
     ]
    },
    {
     "name": "stdout",
     "output_type": "stream",
     "text": [
      "Epoch 19: train_acc_0.8828_train_loss_0.3218_val_acc_0.8743_val_loss_0.3545 epoch time 13.7493 seconds\n"
     ]
    },
    {
     "name": "stderr",
     "output_type": "stream",
     "text": [
      "loss: 0.3530, accuracy: 0.8700: 100%|██████████| 1000/1000 [00:12<00:00, 79.88it/s]\n",
      "loss: 0.4199, accuracy: 0.8200: 100%|██████████| 158/158 [00:01<00:00, 144.71it/s]\n",
      "loss: 0.4405, accuracy: 0.8600:   2%|▏         | 15/1000 [00:00<00:12, 79.48it/s]"
     ]
    },
    {
     "name": "stdout",
     "output_type": "stream",
     "text": [
      "Epoch 20: train_acc_0.8834_train_loss_0.3161_val_acc_0.8716_val_loss_0.3615 epoch time 13.7179 seconds\n"
     ]
    },
    {
     "name": "stderr",
     "output_type": "stream",
     "text": [
      "loss: 0.1716, accuracy: 0.9300: 100%|██████████| 1000/1000 [00:12<00:00, 79.88it/s]\n",
      "loss: 0.3270, accuracy: 0.9000: 100%|██████████| 158/158 [00:01<00:00, 140.24it/s]\n",
      "loss: 0.2588, accuracy: 0.9400:   2%|▏         | 16/1000 [00:00<00:12, 81.80it/s]"
     ]
    },
    {
     "name": "stdout",
     "output_type": "stream",
     "text": [
      "Epoch 21: train_acc_0.8859_train_loss_0.3120_val_acc_0.8796_val_loss_0.3465 epoch time 13.7519 seconds\n"
     ]
    },
    {
     "name": "stderr",
     "output_type": "stream",
     "text": [
      "loss: 0.3463, accuracy: 0.8500: 100%|██████████| 1000/1000 [00:12<00:00, 79.92it/s]\n",
      "loss: 0.2637, accuracy: 0.9100: 100%|██████████| 158/158 [00:01<00:00, 138.31it/s]\n",
      "loss: 0.3096, accuracy: 0.9000:   2%|▏         | 16/1000 [00:00<00:11, 82.14it/s]"
     ]
    },
    {
     "name": "stdout",
     "output_type": "stream",
     "text": [
      "Epoch 22: train_acc_0.8872_train_loss_0.3068_val_acc_0.8763_val_loss_0.3494 epoch time 13.7606 seconds\n"
     ]
    },
    {
     "name": "stderr",
     "output_type": "stream",
     "text": [
      "loss: 0.3288, accuracy: 0.9100: 100%|██████████| 1000/1000 [00:12<00:00, 79.87it/s]\n",
      "loss: 0.4437, accuracy: 0.8500: 100%|██████████| 158/158 [00:01<00:00, 135.60it/s]\n",
      "loss: 0.3239, accuracy: 0.9000:   2%|▏         | 15/1000 [00:00<00:12, 81.65it/s]"
     ]
    },
    {
     "name": "stdout",
     "output_type": "stream",
     "text": [
      "Epoch 23: train_acc_0.8887_train_loss_0.3041_val_acc_0.8751_val_loss_0.3481 epoch time 13.7904 seconds\n"
     ]
    },
    {
     "name": "stderr",
     "output_type": "stream",
     "text": [
      "loss: 0.4526, accuracy: 0.8400: 100%|██████████| 1000/1000 [00:12<00:00, 79.74it/s]\n",
      "loss: 0.2559, accuracy: 0.8900: 100%|██████████| 158/158 [00:01<00:00, 142.15it/s]\n",
      "loss: 0.2338, accuracy: 0.9400:   2%|▏         | 15/1000 [00:00<00:12, 81.20it/s]"
     ]
    },
    {
     "name": "stdout",
     "output_type": "stream",
     "text": [
      "Epoch 24: train_acc_0.8893_train_loss_0.2996_val_acc_0.8734_val_loss_0.3584 epoch time 13.7605 seconds\n"
     ]
    },
    {
     "name": "stderr",
     "output_type": "stream",
     "text": [
      "loss: 0.2635, accuracy: 0.8800: 100%|██████████| 1000/1000 [00:12<00:00, 79.75it/s]\n",
      "loss: 0.4085, accuracy: 0.8900: 100%|██████████| 158/158 [00:01<00:00, 140.85it/s]\n",
      "loss: 0.2443, accuracy: 0.9100:   2%|▏         | 15/1000 [00:00<00:12, 80.78it/s]"
     ]
    },
    {
     "name": "stdout",
     "output_type": "stream",
     "text": [
      "Epoch 25: train_acc_0.8902_train_loss_0.2951_val_acc_0.8806_val_loss_0.3386 epoch time 13.7688 seconds\n"
     ]
    },
    {
     "name": "stderr",
     "output_type": "stream",
     "text": [
      "loss: 0.3201, accuracy: 0.8700: 100%|██████████| 1000/1000 [00:12<00:00, 79.91it/s]\n",
      "loss: 0.4429, accuracy: 0.8500: 100%|██████████| 158/158 [00:01<00:00, 141.65it/s]\n",
      "loss: 0.2587, accuracy: 0.8800:   2%|▏         | 15/1000 [00:00<00:11, 82.21it/s]"
     ]
    },
    {
     "name": "stdout",
     "output_type": "stream",
     "text": [
      "Epoch 26: train_acc_0.8913_train_loss_0.2920_val_acc_0.8778_val_loss_0.3335 epoch time 13.7337 seconds\n"
     ]
    },
    {
     "name": "stderr",
     "output_type": "stream",
     "text": [
      "loss: 0.2874, accuracy: 0.9000: 100%|██████████| 1000/1000 [00:12<00:00, 79.61it/s]\n",
      "loss: 0.4264, accuracy: 0.8200: 100%|██████████| 158/158 [00:01<00:00, 137.64it/s]\n",
      "loss: 0.3986, accuracy: 0.9000:   2%|▏         | 15/1000 [00:00<00:12, 79.94it/s]"
     ]
    },
    {
     "name": "stdout",
     "output_type": "stream",
     "text": [
      "Epoch 27: train_acc_0.8933_train_loss_0.2883_val_acc_0.8766_val_loss_0.3434 epoch time 13.8152 seconds\n"
     ]
    },
    {
     "name": "stderr",
     "output_type": "stream",
     "text": [
      "loss: 0.3679, accuracy: 0.8600: 100%|██████████| 1000/1000 [00:12<00:00, 79.98it/s]\n",
      "loss: 0.2528, accuracy: 0.9100: 100%|██████████| 158/158 [00:01<00:00, 138.32it/s]\n",
      "loss: 0.2640, accuracy: 0.9300:   2%|▏         | 16/1000 [00:00<00:11, 83.80it/s]"
     ]
    },
    {
     "name": "stdout",
     "output_type": "stream",
     "text": [
      "Epoch 28: train_acc_0.8936_train_loss_0.2845_val_acc_0.8815_val_loss_0.3330 epoch time 13.7511 seconds\n"
     ]
    },
    {
     "name": "stderr",
     "output_type": "stream",
     "text": [
      "loss: 0.2677, accuracy: 0.9100: 100%|██████████| 1000/1000 [00:12<00:00, 80.11it/s]\n",
      "loss: 0.3060, accuracy: 0.9000: 100%|██████████| 158/158 [00:01<00:00, 139.60it/s]\n",
      "loss: 0.1810, accuracy: 0.9200:   2%|▏         | 15/1000 [00:00<00:12, 80.72it/s]"
     ]
    },
    {
     "name": "stdout",
     "output_type": "stream",
     "text": [
      "Epoch 29: train_acc_0.8949_train_loss_0.2811_val_acc_0.8837_val_loss_0.3302 epoch time 13.7192 seconds\n"
     ]
    },
    {
     "name": "stderr",
     "output_type": "stream",
     "text": [
      "loss: 0.2503, accuracy: 0.8900: 100%|██████████| 1000/1000 [00:12<00:00, 79.70it/s]\n",
      "loss: 0.1899, accuracy: 0.9600: 100%|██████████| 158/158 [00:01<00:00, 140.70it/s]\n",
      "loss: 0.1950, accuracy: 0.9300:   2%|▏         | 15/1000 [00:00<00:12, 81.29it/s]"
     ]
    },
    {
     "name": "stdout",
     "output_type": "stream",
     "text": [
      "Epoch 30: train_acc_0.8967_train_loss_0.2783_val_acc_0.8791_val_loss_0.3479 epoch time 13.7767 seconds\n"
     ]
    },
    {
     "name": "stderr",
     "output_type": "stream",
     "text": [
      "loss: 0.2363, accuracy: 0.8900: 100%|██████████| 1000/1000 [00:12<00:00, 79.64it/s]\n",
      "loss: 0.2098, accuracy: 0.9200: 100%|██████████| 158/158 [00:01<00:00, 140.24it/s]\n",
      "loss: 0.1537, accuracy: 0.9400:   2%|▏         | 15/1000 [00:00<00:12, 80.62it/s]"
     ]
    },
    {
     "name": "stdout",
     "output_type": "stream",
     "text": [
      "Epoch 31: train_acc_0.8974_train_loss_0.2752_val_acc_0.8834_val_loss_0.3278 epoch time 13.7907 seconds\n"
     ]
    },
    {
     "name": "stderr",
     "output_type": "stream",
     "text": [
      "loss: 0.3766, accuracy: 0.8600: 100%|██████████| 1000/1000 [00:12<00:00, 80.09it/s]\n",
      "loss: 0.3956, accuracy: 0.8900: 100%|██████████| 158/158 [00:01<00:00, 139.36it/s]\n",
      "loss: 0.2497, accuracy: 0.9200:   2%|▏         | 16/1000 [00:00<00:11, 82.20it/s]"
     ]
    },
    {
     "name": "stdout",
     "output_type": "stream",
     "text": [
      "Epoch 32: train_acc_0.8975_train_loss_0.2718_val_acc_0.8832_val_loss_0.3309 epoch time 13.7242 seconds\n"
     ]
    },
    {
     "name": "stderr",
     "output_type": "stream",
     "text": [
      "loss: 0.2990, accuracy: 0.8800: 100%|██████████| 1000/1000 [00:12<00:00, 79.90it/s]\n",
      "loss: 0.3134, accuracy: 0.8800: 100%|██████████| 158/158 [00:01<00:00, 140.57it/s]\n",
      "loss: 0.2551, accuracy: 0.8500:   2%|▏         | 16/1000 [00:00<00:12, 81.97it/s]"
     ]
    },
    {
     "name": "stdout",
     "output_type": "stream",
     "text": [
      "Epoch 33: train_acc_0.8979_train_loss_0.2688_val_acc_0.8806_val_loss_0.3461 epoch time 13.7429 seconds\n"
     ]
    },
    {
     "name": "stderr",
     "output_type": "stream",
     "text": [
      "loss: 0.2786, accuracy: 0.8600: 100%|██████████| 1000/1000 [00:12<00:00, 79.84it/s]\n",
      "loss: 0.2838, accuracy: 0.9200: 100%|██████████| 158/158 [00:01<00:00, 140.88it/s]\n",
      "loss: 0.1676, accuracy: 0.9400:   2%|▏         | 15/1000 [00:00<00:12, 81.62it/s]"
     ]
    },
    {
     "name": "stdout",
     "output_type": "stream",
     "text": [
      "Epoch 34: train_acc_0.9001_train_loss_0.2659_val_acc_0.8817_val_loss_0.3456 epoch time 13.7521 seconds\n"
     ]
    },
    {
     "name": "stderr",
     "output_type": "stream",
     "text": [
      "loss: 0.4923, accuracy: 0.8300: 100%|██████████| 1000/1000 [00:12<00:00, 79.82it/s]\n",
      "loss: 0.3756, accuracy: 0.9000: 100%|██████████| 158/158 [00:01<00:00, 139.21it/s]\n",
      "loss: 0.3095, accuracy: 0.8700:   2%|▏         | 15/1000 [00:00<00:12, 80.16it/s]"
     ]
    },
    {
     "name": "stdout",
     "output_type": "stream",
     "text": [
      "Epoch 35: train_acc_0.9005_train_loss_0.2636_val_acc_0.8816_val_loss_0.3383 epoch time 13.7688 seconds\n"
     ]
    },
    {
     "name": "stderr",
     "output_type": "stream",
     "text": [
      "loss: 0.2675, accuracy: 0.8900: 100%|██████████| 1000/1000 [00:12<00:00, 81.26it/s]\n",
      "loss: 0.3497, accuracy: 0.8500: 100%|██████████| 158/158 [00:01<00:00, 138.23it/s]\n",
      "loss: 0.2241, accuracy: 0.9300:   2%|▏         | 16/1000 [00:00<00:11, 83.41it/s]"
     ]
    },
    {
     "name": "stdout",
     "output_type": "stream",
     "text": [
      "Epoch 36: train_acc_0.9013_train_loss_0.2609_val_acc_0.8830_val_loss_0.3417 epoch time 13.8347 seconds\n"
     ]
    },
    {
     "name": "stderr",
     "output_type": "stream",
     "text": [
      "loss: 0.2088, accuracy: 0.9100: 100%|██████████| 1000/1000 [00:12<00:00, 79.94it/s]\n",
      "loss: 0.2538, accuracy: 0.9100: 100%|██████████| 158/158 [00:01<00:00, 140.87it/s]\n",
      "loss: 0.1997, accuracy: 0.9100:   2%|▏         | 16/1000 [00:00<00:12, 81.29it/s]"
     ]
    },
    {
     "name": "stdout",
     "output_type": "stream",
     "text": [
      "Epoch 37: train_acc_0.9018_train_loss_0.2585_val_acc_0.8832_val_loss_0.3310 epoch time 13.7376 seconds\n"
     ]
    },
    {
     "name": "stderr",
     "output_type": "stream",
     "text": [
      "loss: 0.2303, accuracy: 0.8800: 100%|██████████| 1000/1000 [00:12<00:00, 79.99it/s]\n",
      "loss: 0.2276, accuracy: 0.8900: 100%|██████████| 158/158 [00:01<00:00, 140.24it/s]\n",
      "loss: 0.1708, accuracy: 0.9500:   2%|▏         | 15/1000 [00:00<00:12, 80.78it/s]"
     ]
    },
    {
     "name": "stdout",
     "output_type": "stream",
     "text": [
      "Epoch 38: train_acc_0.9019_train_loss_0.2569_val_acc_0.8821_val_loss_0.3367 epoch time 13.7331 seconds\n"
     ]
    },
    {
     "name": "stderr",
     "output_type": "stream",
     "text": [
      "loss: 0.1576, accuracy: 0.9500: 100%|██████████| 1000/1000 [00:12<00:00, 80.21it/s]\n",
      "loss: 0.3186, accuracy: 0.8900: 100%|██████████| 158/158 [00:01<00:00, 140.98it/s]\n",
      "loss: 0.1888, accuracy: 0.9400:   2%|▏         | 16/1000 [00:00<00:12, 80.41it/s]"
     ]
    },
    {
     "name": "stdout",
     "output_type": "stream",
     "text": [
      "Epoch 39: train_acc_0.9030_train_loss_0.2543_val_acc_0.8797_val_loss_0.3358 epoch time 13.6950 seconds\n"
     ]
    },
    {
     "name": "stderr",
     "output_type": "stream",
     "text": [
      "loss: 0.2047, accuracy: 0.8900: 100%|██████████| 1000/1000 [00:12<00:00, 79.77it/s]\n",
      "loss: 0.3760, accuracy: 0.8400: 100%|██████████| 158/158 [00:01<00:00, 139.87it/s]\n",
      "loss: 0.1586, accuracy: 0.9400:   2%|▏         | 15/1000 [00:00<00:12, 81.42it/s]"
     ]
    },
    {
     "name": "stdout",
     "output_type": "stream",
     "text": [
      "Epoch 40: train_acc_0.9033_train_loss_0.2515_val_acc_0.8830_val_loss_0.3345 epoch time 13.7754 seconds\n"
     ]
    },
    {
     "name": "stderr",
     "output_type": "stream",
     "text": [
      "loss: 0.2711, accuracy: 0.9000: 100%|██████████| 1000/1000 [00:12<00:00, 79.76it/s]\n",
      "loss: 0.2576, accuracy: 0.8700: 100%|██████████| 158/158 [00:01<00:00, 140.65it/s]\n",
      "loss: 0.2909, accuracy: 0.8600:   2%|▏         | 16/1000 [00:00<00:11, 82.12it/s]"
     ]
    },
    {
     "name": "stdout",
     "output_type": "stream",
     "text": [
      "Epoch 41: train_acc_0.9052_train_loss_0.2483_val_acc_0.8864_val_loss_0.3353 epoch time 13.7684 seconds\n"
     ]
    },
    {
     "name": "stderr",
     "output_type": "stream",
     "text": [
      "loss: 0.1258, accuracy: 0.9400: 100%|██████████| 1000/1000 [00:12<00:00, 79.83it/s]\n",
      "loss: 0.3984, accuracy: 0.8800: 100%|██████████| 158/158 [00:01<00:00, 139.20it/s]\n",
      "loss: 0.1335, accuracy: 0.9300:   2%|▏         | 15/1000 [00:00<00:12, 80.28it/s]"
     ]
    },
    {
     "name": "stdout",
     "output_type": "stream",
     "text": [
      "Epoch 42: train_acc_0.9053_train_loss_0.2466_val_acc_0.8815_val_loss_0.3422 epoch time 13.7677 seconds\n"
     ]
    },
    {
     "name": "stderr",
     "output_type": "stream",
     "text": [
      "loss: 0.2071, accuracy: 0.8900: 100%|██████████| 1000/1000 [00:12<00:00, 79.85it/s]\n",
      "loss: 0.4653, accuracy: 0.8200: 100%|██████████| 158/158 [00:01<00:00, 139.42it/s]\n",
      "loss: 0.4028, accuracy: 0.9100:   2%|▏         | 15/1000 [00:00<00:12, 80.65it/s]"
     ]
    },
    {
     "name": "stdout",
     "output_type": "stream",
     "text": [
      "Epoch 43: train_acc_0.9056_train_loss_0.2450_val_acc_0.8817_val_loss_0.3359 epoch time 13.7627 seconds\n"
     ]
    },
    {
     "name": "stderr",
     "output_type": "stream",
     "text": [
      "loss: 0.2425, accuracy: 0.9000: 100%|██████████| 1000/1000 [00:12<00:00, 79.78it/s]\n",
      "loss: 0.2801, accuracy: 0.9200: 100%|██████████| 158/158 [00:01<00:00, 139.46it/s]\n",
      "loss: 0.2115, accuracy: 0.9300:   2%|▏         | 15/1000 [00:00<00:12, 81.99it/s]"
     ]
    },
    {
     "name": "stdout",
     "output_type": "stream",
     "text": [
      "Epoch 44: train_acc_0.9076_train_loss_0.2413_val_acc_0.8851_val_loss_0.3360 epoch time 13.7742 seconds\n"
     ]
    },
    {
     "name": "stderr",
     "output_type": "stream",
     "text": [
      "loss: 0.1501, accuracy: 0.9400: 100%|██████████| 1000/1000 [00:12<00:00, 79.11it/s]\n",
      "loss: 0.3820, accuracy: 0.8600: 100%|██████████| 158/158 [00:01<00:00, 142.55it/s]\n",
      "loss: 0.1552, accuracy: 0.9300:   2%|▏         | 15/1000 [00:00<00:12, 80.11it/s]"
     ]
    },
    {
     "name": "stdout",
     "output_type": "stream",
     "text": [
      "Epoch 45: train_acc_0.9071_train_loss_0.2400_val_acc_0.8849_val_loss_0.3320 epoch time 13.8564 seconds\n"
     ]
    },
    {
     "name": "stderr",
     "output_type": "stream",
     "text": [
      "loss: 0.3430, accuracy: 0.9200: 100%|██████████| 1000/1000 [00:12<00:00, 79.69it/s]\n",
      "loss: 0.2663, accuracy: 0.8600: 100%|██████████| 158/158 [00:01<00:00, 137.76it/s]\n",
      "loss: 0.1669, accuracy: 0.9400:   2%|▏         | 16/1000 [00:00<00:12, 81.26it/s]"
     ]
    },
    {
     "name": "stdout",
     "output_type": "stream",
     "text": [
      "Epoch 46: train_acc_0.9079_train_loss_0.2396_val_acc_0.8837_val_loss_0.3357 epoch time 13.8039 seconds\n"
     ]
    },
    {
     "name": "stderr",
     "output_type": "stream",
     "text": [
      "loss: 0.2423, accuracy: 0.9000: 100%|██████████| 1000/1000 [00:12<00:00, 79.90it/s]\n",
      "loss: 0.3531, accuracy: 0.8500: 100%|██████████| 158/158 [00:01<00:00, 138.02it/s]\n",
      "loss: 0.1902, accuracy: 0.9500:   2%|▏         | 16/1000 [00:00<00:11, 82.68it/s]"
     ]
    },
    {
     "name": "stdout",
     "output_type": "stream",
     "text": [
      "Epoch 47: train_acc_0.9079_train_loss_0.2371_val_acc_0.8865_val_loss_0.3299 epoch time 13.7688 seconds\n"
     ]
    },
    {
     "name": "stderr",
     "output_type": "stream",
     "text": [
      "loss: 0.1243, accuracy: 0.9700: 100%|██████████| 1000/1000 [00:12<00:00, 79.88it/s]\n",
      "loss: 0.5081, accuracy: 0.8500: 100%|██████████| 158/158 [00:01<00:00, 139.76it/s]\n",
      "loss: 0.2369, accuracy: 0.9000:   2%|▏         | 15/1000 [00:00<00:12, 80.77it/s]"
     ]
    },
    {
     "name": "stdout",
     "output_type": "stream",
     "text": [
      "Epoch 48: train_acc_0.9094_train_loss_0.2342_val_acc_0.8856_val_loss_0.3332 epoch time 13.7561 seconds\n"
     ]
    },
    {
     "name": "stderr",
     "output_type": "stream",
     "text": [
      "loss: 0.2919, accuracy: 0.8600: 100%|██████████| 1000/1000 [00:12<00:00, 79.62it/s]\n",
      "loss: 0.2699, accuracy: 0.8600: 100%|██████████| 158/158 [00:01<00:00, 138.96it/s]\n",
      "loss: 0.1806, accuracy: 0.9200:   2%|▏         | 15/1000 [00:00<00:12, 81.73it/s]"
     ]
    },
    {
     "name": "stdout",
     "output_type": "stream",
     "text": [
      "Epoch 49: train_acc_0.9094_train_loss_0.2329_val_acc_0.8847_val_loss_0.3375 epoch time 13.8026 seconds\n"
     ]
    },
    {
     "name": "stderr",
     "output_type": "stream",
     "text": [
      "loss: 0.1666, accuracy: 0.9500: 100%|██████████| 1000/1000 [00:12<00:00, 79.42it/s]\n",
      "loss: 0.2889, accuracy: 0.8600: 100%|██████████| 158/158 [00:01<00:00, 138.73it/s]\n",
      "loss: 0.1797, accuracy: 0.9200:   2%|▏         | 15/1000 [00:00<00:12, 81.14it/s]"
     ]
    },
    {
     "name": "stdout",
     "output_type": "stream",
     "text": [
      "Epoch 50: train_acc_0.9099_train_loss_0.2328_val_acc_0.8859_val_loss_0.3391 epoch time 13.8361 seconds\n"
     ]
    },
    {
     "name": "stderr",
     "output_type": "stream",
     "text": [
      "loss: 0.1574, accuracy: 0.9400: 100%|██████████| 1000/1000 [00:12<00:00, 79.65it/s]\n",
      "loss: 0.3434, accuracy: 0.8600: 100%|██████████| 158/158 [00:01<00:00, 142.57it/s]\n",
      "loss: 0.2068, accuracy: 0.9000:   2%|▏         | 16/1000 [00:00<00:11, 85.22it/s]"
     ]
    },
    {
     "name": "stdout",
     "output_type": "stream",
     "text": [
      "Epoch 51: train_acc_0.9109_train_loss_0.2278_val_acc_0.8803_val_loss_0.3451 epoch time 13.7665 seconds\n"
     ]
    },
    {
     "name": "stderr",
     "output_type": "stream",
     "text": [
      "loss: 0.1983, accuracy: 0.9100: 100%|██████████| 1000/1000 [00:12<00:00, 80.03it/s]\n",
      "loss: 0.1904, accuracy: 0.9100: 100%|██████████| 158/158 [00:01<00:00, 140.05it/s]\n",
      "loss: 0.2285, accuracy: 0.9000:   2%|▏         | 15/1000 [00:00<00:12, 80.48it/s]"
     ]
    },
    {
     "name": "stdout",
     "output_type": "stream",
     "text": [
      "Epoch 52: train_acc_0.9111_train_loss_0.2279_val_acc_0.8827_val_loss_0.3449 epoch time 13.7332 seconds\n"
     ]
    },
    {
     "name": "stderr",
     "output_type": "stream",
     "text": [
      "loss: 0.1857, accuracy: 0.9300: 100%|██████████| 1000/1000 [00:12<00:00, 79.51it/s]\n",
      "loss: 0.3206, accuracy: 0.8900: 100%|██████████| 158/158 [00:01<00:00, 141.70it/s]\n",
      "loss: 0.2311, accuracy: 0.9200:   2%|▏         | 16/1000 [00:00<00:11, 82.69it/s]"
     ]
    },
    {
     "name": "stdout",
     "output_type": "stream",
     "text": [
      "Epoch 53: train_acc_0.9127_train_loss_0.2251_val_acc_0.8777_val_loss_0.3527 epoch time 13.7984 seconds\n"
     ]
    },
    {
     "name": "stderr",
     "output_type": "stream",
     "text": [
      "loss: 0.2537, accuracy: 0.9000: 100%|██████████| 1000/1000 [00:12<00:00, 79.99it/s]\n",
      "loss: 0.2294, accuracy: 0.9000: 100%|██████████| 158/158 [00:01<00:00, 139.48it/s]\n",
      "loss: 0.2992, accuracy: 0.8600:   2%|▏         | 16/1000 [00:00<00:12, 81.22it/s]"
     ]
    },
    {
     "name": "stdout",
     "output_type": "stream",
     "text": [
      "Epoch 54: train_acc_0.9126_train_loss_0.2232_val_acc_0.8846_val_loss_0.3377 epoch time 13.7400 seconds\n"
     ]
    },
    {
     "name": "stderr",
     "output_type": "stream",
     "text": [
      "loss: 0.2987, accuracy: 0.8800: 100%|██████████| 1000/1000 [00:12<00:00, 80.27it/s]\n",
      "loss: 0.2655, accuracy: 0.9200: 100%|██████████| 158/158 [00:01<00:00, 140.31it/s]\n",
      "loss: 0.1396, accuracy: 0.9500:   2%|▏         | 15/1000 [00:00<00:12, 80.62it/s]"
     ]
    },
    {
     "name": "stdout",
     "output_type": "stream",
     "text": [
      "Epoch 55: train_acc_0.9119_train_loss_0.2221_val_acc_0.8844_val_loss_0.3368 epoch time 13.6912 seconds\n"
     ]
    },
    {
     "name": "stderr",
     "output_type": "stream",
     "text": [
      "loss: 0.1966, accuracy: 0.9800: 100%|██████████| 1000/1000 [00:12<00:00, 79.58it/s]\n",
      "loss: 0.2814, accuracy: 0.9400: 100%|██████████| 158/158 [00:01<00:00, 142.05it/s]\n",
      "loss: 0.2087, accuracy: 0.9300:   2%|▏         | 16/1000 [00:00<00:11, 82.37it/s]"
     ]
    },
    {
     "name": "stdout",
     "output_type": "stream",
     "text": [
      "Epoch 56: train_acc_0.9137_train_loss_0.2200_val_acc_0.8832_val_loss_0.3424 epoch time 13.7808 seconds\n"
     ]
    },
    {
     "name": "stderr",
     "output_type": "stream",
     "text": [
      "loss: 0.4492, accuracy: 0.9100: 100%|██████████| 1000/1000 [00:12<00:00, 79.62it/s]\n",
      "loss: 0.3475, accuracy: 0.9200: 100%|██████████| 158/158 [00:01<00:00, 140.05it/s]\n",
      "loss: 0.2890, accuracy: 0.8600:   2%|▏         | 16/1000 [00:00<00:11, 82.85it/s]"
     ]
    },
    {
     "name": "stdout",
     "output_type": "stream",
     "text": [
      "Epoch 57: train_acc_0.9140_train_loss_0.2183_val_acc_0.8801_val_loss_0.3523 epoch time 13.7922 seconds\n"
     ]
    },
    {
     "name": "stderr",
     "output_type": "stream",
     "text": [
      "loss: 0.2556, accuracy: 0.8900: 100%|██████████| 1000/1000 [00:12<00:00, 79.39it/s]\n",
      "loss: 0.1692, accuracy: 0.9300: 100%|██████████| 158/158 [00:01<00:00, 141.83it/s]\n",
      "loss: 0.1584, accuracy: 0.9100:   2%|▏         | 16/1000 [00:00<00:12, 80.74it/s]"
     ]
    },
    {
     "name": "stdout",
     "output_type": "stream",
     "text": [
      "Epoch 58: train_acc_0.9138_train_loss_0.2169_val_acc_0.8808_val_loss_0.3518 epoch time 13.8137 seconds\n"
     ]
    },
    {
     "name": "stderr",
     "output_type": "stream",
     "text": [
      "loss: 0.1877, accuracy: 0.9300: 100%|██████████| 1000/1000 [00:12<00:00, 79.56it/s]\n",
      "loss: 0.2716, accuracy: 0.8800: 100%|██████████| 158/158 [00:01<00:00, 137.35it/s]\n",
      "loss: 0.2643, accuracy: 0.9100:   2%|▏         | 15/1000 [00:00<00:12, 80.49it/s]"
     ]
    },
    {
     "name": "stdout",
     "output_type": "stream",
     "text": [
      "Epoch 59: train_acc_0.9144_train_loss_0.2153_val_acc_0.8858_val_loss_0.3468 epoch time 13.8261 seconds\n"
     ]
    },
    {
     "name": "stderr",
     "output_type": "stream",
     "text": [
      "loss: 0.5089, accuracy: 0.8700: 100%|██████████| 1000/1000 [00:12<00:00, 79.65it/s]\n",
      "loss: 0.4847, accuracy: 0.9000: 100%|██████████| 158/158 [00:01<00:00, 138.98it/s]\n",
      "loss: 0.1905, accuracy: 0.9400:   2%|▏         | 15/1000 [00:00<00:12, 79.76it/s]"
     ]
    },
    {
     "name": "stdout",
     "output_type": "stream",
     "text": [
      "Epoch 60: train_acc_0.9149_train_loss_0.2138_val_acc_0.8854_val_loss_0.3493 epoch time 13.7973 seconds\n"
     ]
    },
    {
     "name": "stderr",
     "output_type": "stream",
     "text": [
      "loss: 0.2141, accuracy: 0.9200: 100%|██████████| 1000/1000 [00:12<00:00, 79.93it/s]\n",
      "loss: 0.5293, accuracy: 0.8200: 100%|██████████| 158/158 [00:01<00:00, 140.94it/s]\n",
      "loss: 0.1970, accuracy: 0.9300:   2%|▏         | 15/1000 [00:00<00:12, 79.49it/s]"
     ]
    },
    {
     "name": "stdout",
     "output_type": "stream",
     "text": [
      "Epoch 61: train_acc_0.9166_train_loss_0.2121_val_acc_0.8789_val_loss_0.3610 epoch time 13.7389 seconds\n"
     ]
    },
    {
     "name": "stderr",
     "output_type": "stream",
     "text": [
      "loss: 0.3037, accuracy: 0.8700: 100%|██████████| 1000/1000 [00:12<00:00, 79.72it/s]\n",
      "loss: 0.1843, accuracy: 0.9300: 100%|██████████| 158/158 [00:01<00:00, 140.26it/s]\n",
      "loss: 0.2075, accuracy: 0.9000:   2%|▏         | 15/1000 [00:00<00:12, 79.61it/s]"
     ]
    },
    {
     "name": "stdout",
     "output_type": "stream",
     "text": [
      "Epoch 62: train_acc_0.9163_train_loss_0.2102_val_acc_0.8792_val_loss_0.3600 epoch time 13.7753 seconds\n"
     ]
    },
    {
     "name": "stderr",
     "output_type": "stream",
     "text": [
      "loss: 0.4266, accuracy: 0.8600: 100%|██████████| 1000/1000 [00:12<00:00, 81.91it/s]\n",
      "loss: 0.3855, accuracy: 0.8700: 100%|██████████| 158/158 [00:01<00:00, 138.72it/s]\n",
      "loss: 0.2252, accuracy: 0.9000:   2%|▏         | 15/1000 [00:00<00:12, 81.60it/s]"
     ]
    },
    {
     "name": "stdout",
     "output_type": "stream",
     "text": [
      "Epoch 63: train_acc_0.9165_train_loss_0.2080_val_acc_0.8781_val_loss_0.3591 epoch time 13.7599 seconds\n"
     ]
    },
    {
     "name": "stderr",
     "output_type": "stream",
     "text": [
      "loss: 0.1894, accuracy: 0.9300: 100%|██████████| 1000/1000 [00:12<00:00, 79.67it/s]\n",
      "loss: 0.3107, accuracy: 0.9400: 100%|██████████| 158/158 [00:01<00:00, 138.98it/s]\n",
      "loss: 0.2029, accuracy: 0.9200:   2%|▏         | 15/1000 [00:00<00:12, 79.88it/s]"
     ]
    },
    {
     "name": "stdout",
     "output_type": "stream",
     "text": [
      "Epoch 64: train_acc_0.9183_train_loss_0.2077_val_acc_0.8832_val_loss_0.3539 epoch time 13.7980 seconds\n"
     ]
    },
    {
     "name": "stderr",
     "output_type": "stream",
     "text": [
      "loss: 0.1868, accuracy: 0.8900: 100%|██████████| 1000/1000 [00:12<00:00, 79.88it/s]\n",
      "loss: 0.1913, accuracy: 0.9400: 100%|██████████| 158/158 [00:01<00:00, 141.23it/s]\n",
      "loss: 0.1431, accuracy: 0.9700:   2%|▏         | 16/1000 [00:00<00:12, 80.69it/s]"
     ]
    },
    {
     "name": "stdout",
     "output_type": "stream",
     "text": [
      "Epoch 65: train_acc_0.9183_train_loss_0.2066_val_acc_0.8796_val_loss_0.3568 epoch time 13.7441 seconds\n"
     ]
    },
    {
     "name": "stderr",
     "output_type": "stream",
     "text": [
      "loss: 0.2394, accuracy: 0.9100: 100%|██████████| 1000/1000 [00:12<00:00, 79.68it/s]\n",
      "loss: 0.2295, accuracy: 0.9400: 100%|██████████| 158/158 [00:01<00:00, 139.20it/s]\n",
      "loss: 0.1104, accuracy: 0.9700:   2%|▏         | 15/1000 [00:00<00:12, 81.99it/s]"
     ]
    },
    {
     "name": "stdout",
     "output_type": "stream",
     "text": [
      "Epoch 66: train_acc_0.9186_train_loss_0.2031_val_acc_0.8815_val_loss_0.3551 epoch time 13.7903 seconds\n"
     ]
    },
    {
     "name": "stderr",
     "output_type": "stream",
     "text": [
      "loss: 0.2143, accuracy: 0.9100: 100%|██████████| 1000/1000 [00:12<00:00, 82.11it/s]\n",
      "loss: 0.3216, accuracy: 0.8700: 100%|██████████| 158/158 [00:01<00:00, 137.82it/s]\n",
      "loss: 0.2152, accuracy: 0.9000:   2%|▏         | 15/1000 [00:00<00:12, 80.94it/s]"
     ]
    },
    {
     "name": "stdout",
     "output_type": "stream",
     "text": [
      "Epoch 67: train_acc_0.9191_train_loss_0.2030_val_acc_0.8813_val_loss_0.3517 epoch time 13.7859 seconds\n"
     ]
    },
    {
     "name": "stderr",
     "output_type": "stream",
     "text": [
      "loss: 0.2914, accuracy: 0.8700: 100%|██████████| 1000/1000 [00:12<00:00, 79.65it/s]\n",
      "loss: 0.2581, accuracy: 0.8700: 100%|██████████| 158/158 [00:01<00:00, 139.97it/s]\n",
      "loss: 0.1663, accuracy: 0.9300:   2%|▏         | 16/1000 [00:00<00:11, 83.07it/s]"
     ]
    },
    {
     "name": "stdout",
     "output_type": "stream",
     "text": [
      "Epoch 68: train_acc_0.9194_train_loss_0.2018_val_acc_0.8836_val_loss_0.3543 epoch time 13.7900 seconds\n"
     ]
    },
    {
     "name": "stderr",
     "output_type": "stream",
     "text": [
      "loss: 0.2036, accuracy: 0.9200: 100%|██████████| 1000/1000 [00:12<00:00, 79.55it/s]\n",
      "loss: 0.2855, accuracy: 0.8600: 100%|██████████| 158/158 [00:01<00:00, 140.21it/s]\n",
      "loss: 0.2121, accuracy: 0.9100:   2%|▏         | 15/1000 [00:00<00:11, 82.86it/s]"
     ]
    },
    {
     "name": "stdout",
     "output_type": "stream",
     "text": [
      "Epoch 69: train_acc_0.9192_train_loss_0.2002_val_acc_0.8808_val_loss_0.3623 epoch time 13.8074 seconds\n"
     ]
    },
    {
     "name": "stderr",
     "output_type": "stream",
     "text": [
      "loss: 0.3268, accuracy: 0.8500: 100%|██████████| 1000/1000 [00:12<00:00, 79.79it/s]\n",
      "loss: 0.3415, accuracy: 0.8800: 100%|██████████| 158/158 [00:01<00:00, 139.40it/s]\n",
      "loss: 0.1911, accuracy: 0.9200:   2%|▏         | 15/1000 [00:00<00:12, 79.37it/s]"
     ]
    },
    {
     "name": "stdout",
     "output_type": "stream",
     "text": [
      "Epoch 70: train_acc_0.9199_train_loss_0.1984_val_acc_0.8834_val_loss_0.3550 epoch time 13.7737 seconds\n"
     ]
    },
    {
     "name": "stderr",
     "output_type": "stream",
     "text": [
      "loss: 0.2486, accuracy: 0.8900: 100%|██████████| 1000/1000 [00:12<00:00, 79.57it/s]\n",
      "loss: 0.4685, accuracy: 0.8700: 100%|██████████| 158/158 [00:01<00:00, 141.99it/s]\n",
      "loss: 0.2091, accuracy: 0.9300:   2%|▏         | 16/1000 [00:00<00:11, 83.88it/s]"
     ]
    },
    {
     "name": "stdout",
     "output_type": "stream",
     "text": [
      "Epoch 71: train_acc_0.9205_train_loss_0.1966_val_acc_0.8778_val_loss_0.3719 epoch time 13.7816 seconds\n"
     ]
    },
    {
     "name": "stderr",
     "output_type": "stream",
     "text": [
      "loss: 0.2043, accuracy: 0.8800: 100%|██████████| 1000/1000 [00:12<00:00, 79.73it/s]\n",
      "loss: 0.4448, accuracy: 0.8700: 100%|██████████| 158/158 [00:01<00:00, 140.26it/s]\n",
      "loss: 0.1693, accuracy: 0.9400:   2%|▏         | 16/1000 [00:00<00:11, 86.33it/s]"
     ]
    },
    {
     "name": "stdout",
     "output_type": "stream",
     "text": [
      "Epoch 72: train_acc_0.9220_train_loss_0.1946_val_acc_0.8815_val_loss_0.3662 epoch time 13.7751 seconds\n"
     ]
    },
    {
     "name": "stderr",
     "output_type": "stream",
     "text": [
      "loss: 0.2126, accuracy: 0.9100: 100%|██████████| 1000/1000 [00:12<00:00, 79.86it/s]\n",
      "loss: 0.5891, accuracy: 0.8900: 100%|██████████| 158/158 [00:01<00:00, 138.77it/s]\n",
      "loss: 0.2472, accuracy: 0.8900:   2%|▏         | 15/1000 [00:00<00:12, 81.70it/s]"
     ]
    },
    {
     "name": "stdout",
     "output_type": "stream",
     "text": [
      "Epoch 73: train_acc_0.9220_train_loss_0.1944_val_acc_0.8782_val_loss_0.3675 epoch time 13.7659 seconds\n"
     ]
    },
    {
     "name": "stderr",
     "output_type": "stream",
     "text": [
      "loss: 0.1995, accuracy: 0.9300: 100%|██████████| 1000/1000 [00:12<00:00, 80.27it/s]\n",
      "loss: 0.1395, accuracy: 0.9500: 100%|██████████| 158/158 [00:01<00:00, 141.56it/s]\n",
      "loss: 0.3081, accuracy: 0.8500:   2%|▏         | 16/1000 [00:00<00:11, 83.01it/s]"
     ]
    },
    {
     "name": "stdout",
     "output_type": "stream",
     "text": [
      "Epoch 74: train_acc_0.9214_train_loss_0.1931_val_acc_0.8812_val_loss_0.3647 epoch time 13.6776 seconds\n"
     ]
    },
    {
     "name": "stderr",
     "output_type": "stream",
     "text": [
      "loss: 0.2008, accuracy: 0.9200: 100%|██████████| 1000/1000 [00:12<00:00, 79.83it/s]\n",
      "loss: 0.3954, accuracy: 0.8600: 100%|██████████| 158/158 [00:01<00:00, 139.40it/s]\n",
      "loss: 0.1513, accuracy: 0.9400:   2%|▏         | 15/1000 [00:00<00:12, 81.60it/s]"
     ]
    },
    {
     "name": "stdout",
     "output_type": "stream",
     "text": [
      "Epoch 75: train_acc_0.9235_train_loss_0.1904_val_acc_0.8831_val_loss_0.3718 epoch time 13.7657 seconds\n"
     ]
    },
    {
     "name": "stderr",
     "output_type": "stream",
     "text": [
      "loss: 0.2571, accuracy: 0.8700: 100%|██████████| 1000/1000 [00:12<00:00, 79.80it/s]\n",
      "loss: 0.2312, accuracy: 0.9200: 100%|██████████| 158/158 [00:01<00:00, 141.19it/s]\n",
      "loss: 0.1212, accuracy: 0.9500:   2%|▏         | 16/1000 [00:00<00:11, 82.24it/s]"
     ]
    },
    {
     "name": "stdout",
     "output_type": "stream",
     "text": [
      "Epoch 76: train_acc_0.9237_train_loss_0.1899_val_acc_0.8797_val_loss_0.3701 epoch time 13.7544 seconds\n"
     ]
    },
    {
     "name": "stderr",
     "output_type": "stream",
     "text": [
      "loss: 0.1978, accuracy: 0.9300: 100%|██████████| 1000/1000 [00:12<00:00, 80.05it/s]\n",
      "loss: 0.3243, accuracy: 0.9000: 100%|██████████| 158/158 [00:01<00:00, 139.56it/s]\n",
      "loss: 0.1910, accuracy: 0.9200:   2%|▏         | 15/1000 [00:00<00:12, 81.59it/s]"
     ]
    },
    {
     "name": "stdout",
     "output_type": "stream",
     "text": [
      "Epoch 77: train_acc_0.9233_train_loss_0.1880_val_acc_0.8776_val_loss_0.3794 epoch time 13.7305 seconds\n"
     ]
    },
    {
     "name": "stderr",
     "output_type": "stream",
     "text": [
      "loss: 0.1326, accuracy: 0.9400: 100%|██████████| 1000/1000 [00:12<00:00, 79.41it/s]\n",
      "loss: 0.2430, accuracy: 0.9000: 100%|██████████| 158/158 [00:01<00:00, 139.08it/s]\n",
      "loss: 0.1537, accuracy: 0.9100:   2%|▏         | 16/1000 [00:00<00:11, 85.86it/s]"
     ]
    },
    {
     "name": "stdout",
     "output_type": "stream",
     "text": [
      "Epoch 78: train_acc_0.9236_train_loss_0.1882_val_acc_0.8808_val_loss_0.3778 epoch time 13.8332 seconds\n"
     ]
    },
    {
     "name": "stderr",
     "output_type": "stream",
     "text": [
      "loss: 0.2176, accuracy: 0.9300: 100%|██████████| 1000/1000 [00:12<00:00, 81.20it/s]\n",
      "loss: 0.2938, accuracy: 0.8900: 100%|██████████| 158/158 [00:01<00:00, 139.30it/s]\n",
      "loss: 0.1794, accuracy: 0.9400:   2%|▏         | 16/1000 [00:00<00:11, 83.16it/s]"
     ]
    },
    {
     "name": "stdout",
     "output_type": "stream",
     "text": [
      "Epoch 79: train_acc_0.9238_train_loss_0.1877_val_acc_0.8768_val_loss_0.3792 epoch time 13.7782 seconds\n"
     ]
    },
    {
     "name": "stderr",
     "output_type": "stream",
     "text": [
      "loss: 0.2877, accuracy: 0.8500: 100%|██████████| 1000/1000 [00:12<00:00, 81.41it/s]\n",
      "loss: 0.5618, accuracy: 0.8900: 100%|██████████| 158/158 [00:01<00:00, 150.41it/s]\n",
      "loss: 0.1329, accuracy: 0.9800:   2%|▏         | 16/1000 [00:00<00:11, 86.69it/s]"
     ]
    },
    {
     "name": "stdout",
     "output_type": "stream",
     "text": [
      "Epoch 80: train_acc_0.9252_train_loss_0.1844_val_acc_0.8791_val_loss_0.3852 epoch time 13.7569 seconds\n"
     ]
    },
    {
     "name": "stderr",
     "output_type": "stream",
     "text": [
      "loss: 0.1740, accuracy: 0.9200: 100%|██████████| 1000/1000 [00:12<00:00, 79.85it/s]\n",
      "loss: 0.3311, accuracy: 0.8800: 100%|██████████| 158/158 [00:01<00:00, 139.80it/s]\n",
      "loss: 0.1995, accuracy: 0.9000:   2%|▏         | 15/1000 [00:00<00:11, 83.50it/s]"
     ]
    },
    {
     "name": "stdout",
     "output_type": "stream",
     "text": [
      "Epoch 81: train_acc_0.9259_train_loss_0.1822_val_acc_0.8805_val_loss_0.3792 epoch time 13.7595 seconds\n"
     ]
    },
    {
     "name": "stderr",
     "output_type": "stream",
     "text": [
      "loss: 0.2046, accuracy: 0.9100: 100%|██████████| 1000/1000 [00:12<00:00, 79.93it/s]\n",
      "loss: 0.2403, accuracy: 0.9000: 100%|██████████| 158/158 [00:01<00:00, 140.67it/s]\n",
      "loss: 0.1800, accuracy: 0.9100:   2%|▏         | 15/1000 [00:00<00:12, 79.93it/s]"
     ]
    },
    {
     "name": "stdout",
     "output_type": "stream",
     "text": [
      "Epoch 82: train_acc_0.9262_train_loss_0.1820_val_acc_0.8844_val_loss_0.3692 epoch time 13.7378 seconds\n"
     ]
    },
    {
     "name": "stderr",
     "output_type": "stream",
     "text": [
      "loss: 0.2961, accuracy: 0.8900: 100%|██████████| 1000/1000 [00:12<00:00, 79.83it/s]\n",
      "loss: 0.2016, accuracy: 0.9400: 100%|██████████| 158/158 [00:01<00:00, 140.83it/s]\n",
      "loss: 0.1729, accuracy: 0.9100:   2%|▏         | 15/1000 [00:00<00:12, 80.31it/s]"
     ]
    },
    {
     "name": "stdout",
     "output_type": "stream",
     "text": [
      "Epoch 83: train_acc_0.9259_train_loss_0.1806_val_acc_0.8779_val_loss_0.3841 epoch time 13.7558 seconds\n"
     ]
    },
    {
     "name": "stderr",
     "output_type": "stream",
     "text": [
      "loss: 0.4332, accuracy: 0.8700: 100%|██████████| 1000/1000 [00:12<00:00, 79.65it/s]\n",
      "loss: 0.4800, accuracy: 0.8600: 100%|██████████| 158/158 [00:01<00:00, 138.97it/s]\n",
      "loss: 0.0944, accuracy: 0.9400:   2%|▏         | 15/1000 [00:00<00:12, 78.62it/s]"
     ]
    },
    {
     "name": "stdout",
     "output_type": "stream",
     "text": [
      "Epoch 84: train_acc_0.9268_train_loss_0.1800_val_acc_0.8828_val_loss_0.3741 epoch time 13.7985 seconds\n"
     ]
    },
    {
     "name": "stderr",
     "output_type": "stream",
     "text": [
      "loss: 0.2027, accuracy: 0.9100: 100%|██████████| 1000/1000 [00:12<00:00, 79.68it/s]\n",
      "loss: 0.3939, accuracy: 0.8600: 100%|██████████| 158/158 [00:01<00:00, 141.26it/s]\n",
      "loss: 0.3177, accuracy: 0.9200:   2%|▏         | 15/1000 [00:00<00:12, 81.89it/s]"
     ]
    },
    {
     "name": "stdout",
     "output_type": "stream",
     "text": [
      "Epoch 85: train_acc_0.9272_train_loss_0.1784_val_acc_0.8811_val_loss_0.3777 epoch time 13.7780 seconds\n"
     ]
    },
    {
     "name": "stderr",
     "output_type": "stream",
     "text": [
      "loss: 0.1607, accuracy: 0.9500: 100%|██████████| 1000/1000 [00:12<00:00, 79.82it/s]\n",
      "loss: 0.2638, accuracy: 0.8800: 100%|██████████| 158/158 [00:01<00:00, 140.32it/s]\n",
      "loss: 0.2035, accuracy: 0.9300:   2%|▏         | 15/1000 [00:00<00:12, 81.36it/s]"
     ]
    },
    {
     "name": "stdout",
     "output_type": "stream",
     "text": [
      "Epoch 86: train_acc_0.9276_train_loss_0.1773_val_acc_0.8767_val_loss_0.3899 epoch time 13.7580 seconds\n"
     ]
    },
    {
     "name": "stderr",
     "output_type": "stream",
     "text": [
      "loss: 0.1753, accuracy: 0.9500: 100%|██████████| 1000/1000 [00:12<00:00, 79.68it/s]\n",
      "loss: 0.1443, accuracy: 0.9300: 100%|██████████| 158/158 [00:01<00:00, 142.69it/s]\n",
      "loss: 0.1998, accuracy: 0.9500:   2%|▏         | 16/1000 [00:00<00:11, 82.70it/s]"
     ]
    },
    {
     "name": "stdout",
     "output_type": "stream",
     "text": [
      "Epoch 87: train_acc_0.9273_train_loss_0.1769_val_acc_0.8805_val_loss_0.3923 epoch time 13.7605 seconds\n"
     ]
    },
    {
     "name": "stderr",
     "output_type": "stream",
     "text": [
      "loss: 0.1913, accuracy: 0.9100: 100%|██████████| 1000/1000 [00:12<00:00, 79.65it/s]\n",
      "loss: 0.3142, accuracy: 0.8900: 100%|██████████| 158/158 [00:01<00:00, 138.94it/s]\n",
      "loss: 0.2285, accuracy: 0.9000:   2%|▏         | 15/1000 [00:00<00:11, 82.37it/s]"
     ]
    },
    {
     "name": "stdout",
     "output_type": "stream",
     "text": [
      "Epoch 88: train_acc_0.9284_train_loss_0.1758_val_acc_0.8768_val_loss_0.3972 epoch time 13.7978 seconds\n"
     ]
    },
    {
     "name": "stderr",
     "output_type": "stream",
     "text": [
      "loss: 0.2068, accuracy: 0.9100: 100%|██████████| 1000/1000 [00:12<00:00, 79.83it/s]\n",
      "loss: 0.2983, accuracy: 0.8900: 100%|██████████| 158/158 [00:01<00:00, 140.55it/s]\n",
      "loss: 0.1198, accuracy: 0.9700:   2%|▏         | 15/1000 [00:00<00:12, 81.53it/s]"
     ]
    },
    {
     "name": "stdout",
     "output_type": "stream",
     "text": [
      "Epoch 89: train_acc_0.9284_train_loss_0.1747_val_acc_0.8782_val_loss_0.3899 epoch time 13.7601 seconds\n"
     ]
    },
    {
     "name": "stderr",
     "output_type": "stream",
     "text": [
      "loss: 0.1631, accuracy: 0.9200: 100%|██████████| 1000/1000 [00:12<00:00, 79.90it/s]\n",
      "loss: 0.2470, accuracy: 0.9100: 100%|██████████| 158/158 [00:01<00:00, 137.25it/s]\n",
      "loss: 0.1743, accuracy: 0.9400:   2%|▏         | 16/1000 [00:00<00:12, 80.80it/s]"
     ]
    },
    {
     "name": "stdout",
     "output_type": "stream",
     "text": [
      "Epoch 90: train_acc_0.9291_train_loss_0.1731_val_acc_0.8784_val_loss_0.4001 epoch time 13.7735 seconds\n"
     ]
    },
    {
     "name": "stderr",
     "output_type": "stream",
     "text": [
      "loss: 0.1390, accuracy: 0.9400: 100%|██████████| 1000/1000 [00:12<00:00, 79.85it/s]\n",
      "loss: 0.3894, accuracy: 0.8700: 100%|██████████| 158/158 [00:01<00:00, 138.92it/s]\n",
      "loss: 0.1977, accuracy: 0.9400:   2%|▏         | 16/1000 [00:00<00:12, 81.46it/s]"
     ]
    },
    {
     "name": "stdout",
     "output_type": "stream",
     "text": [
      "Epoch 91: train_acc_0.9292_train_loss_0.1719_val_acc_0.8785_val_loss_0.4001 epoch time 13.7665 seconds\n"
     ]
    },
    {
     "name": "stderr",
     "output_type": "stream",
     "text": [
      "loss: 0.2502, accuracy: 0.8900: 100%|██████████| 1000/1000 [00:12<00:00, 79.91it/s]\n",
      "loss: 0.5092, accuracy: 0.8100: 100%|██████████| 158/158 [00:01<00:00, 140.19it/s]\n",
      "loss: 0.0924, accuracy: 0.9600:   2%|▏         | 16/1000 [00:00<00:11, 84.36it/s]"
     ]
    },
    {
     "name": "stdout",
     "output_type": "stream",
     "text": [
      "Epoch 92: train_acc_0.9294_train_loss_0.1706_val_acc_0.8757_val_loss_0.4045 epoch time 13.7476 seconds\n"
     ]
    },
    {
     "name": "stderr",
     "output_type": "stream",
     "text": [
      "loss: 0.1642, accuracy: 0.9300: 100%|██████████| 1000/1000 [00:12<00:00, 79.79it/s]\n",
      "loss: 0.5970, accuracy: 0.8600: 100%|██████████| 158/158 [00:01<00:00, 141.02it/s]\n",
      "loss: 0.1155, accuracy: 0.9600:   2%|▏         | 16/1000 [00:00<00:11, 84.32it/s]"
     ]
    },
    {
     "name": "stdout",
     "output_type": "stream",
     "text": [
      "Epoch 93: train_acc_0.9304_train_loss_0.1701_val_acc_0.8804_val_loss_0.3960 epoch time 13.7578 seconds\n"
     ]
    },
    {
     "name": "stderr",
     "output_type": "stream",
     "text": [
      "loss: 0.2306, accuracy: 0.9300: 100%|██████████| 1000/1000 [00:12<00:00, 79.57it/s]\n",
      "loss: 0.5599, accuracy: 0.8500: 100%|██████████| 158/158 [00:01<00:00, 138.87it/s]\n",
      "loss: 0.1565, accuracy: 0.9300:   2%|▏         | 16/1000 [00:00<00:11, 82.07it/s]"
     ]
    },
    {
     "name": "stdout",
     "output_type": "stream",
     "text": [
      "Epoch 94: train_acc_0.9310_train_loss_0.1685_val_acc_0.8780_val_loss_0.3970 epoch time 13.8121 seconds\n"
     ]
    },
    {
     "name": "stderr",
     "output_type": "stream",
     "text": [
      "loss: 0.1101, accuracy: 0.9600: 100%|██████████| 1000/1000 [00:12<00:00, 79.83it/s]\n",
      "loss: 0.5569, accuracy: 0.8300: 100%|██████████| 158/158 [00:01<00:00, 138.94it/s]\n",
      "loss: 0.0862, accuracy: 0.9600:   2%|▏         | 16/1000 [00:00<00:12, 81.56it/s]"
     ]
    },
    {
     "name": "stdout",
     "output_type": "stream",
     "text": [
      "Epoch 95: train_acc_0.9298_train_loss_0.1686_val_acc_0.8754_val_loss_0.3968 epoch time 13.7698 seconds\n"
     ]
    },
    {
     "name": "stderr",
     "output_type": "stream",
     "text": [
      "loss: 0.1527, accuracy: 0.9400: 100%|██████████| 1000/1000 [00:12<00:00, 79.89it/s]\n",
      "loss: 0.3450, accuracy: 0.8900: 100%|██████████| 158/158 [00:01<00:00, 139.45it/s]\n",
      "loss: 0.1610, accuracy: 0.9300:   2%|▏         | 16/1000 [00:00<00:11, 82.69it/s]"
     ]
    },
    {
     "name": "stdout",
     "output_type": "stream",
     "text": [
      "Epoch 96: train_acc_0.9314_train_loss_0.1661_val_acc_0.8786_val_loss_0.3993 epoch time 13.7521 seconds\n"
     ]
    },
    {
     "name": "stderr",
     "output_type": "stream",
     "text": [
      "loss: 0.1610, accuracy: 0.9400: 100%|██████████| 1000/1000 [00:12<00:00, 80.38it/s]\n",
      "loss: 0.6061, accuracy: 0.8400: 100%|██████████| 158/158 [00:01<00:00, 139.51it/s]\n",
      "loss: 0.1386, accuracy: 0.9400:   2%|▏         | 16/1000 [00:00<00:11, 82.20it/s]"
     ]
    },
    {
     "name": "stdout",
     "output_type": "stream",
     "text": [
      "Epoch 97: train_acc_0.9306_train_loss_0.1673_val_acc_0.8812_val_loss_0.3989 epoch time 13.6800 seconds\n"
     ]
    },
    {
     "name": "stderr",
     "output_type": "stream",
     "text": [
      "loss: 0.1166, accuracy: 0.9700: 100%|██████████| 1000/1000 [00:12<00:00, 79.86it/s]\n",
      "loss: 0.5865, accuracy: 0.9200: 100%|██████████| 158/158 [00:01<00:00, 140.44it/s]\n",
      "loss: 0.2232, accuracy: 0.9000:   2%|▏         | 16/1000 [00:00<00:11, 83.42it/s]"
     ]
    },
    {
     "name": "stdout",
     "output_type": "stream",
     "text": [
      "Epoch 98: train_acc_0.9307_train_loss_0.1658_val_acc_0.8781_val_loss_0.4024 epoch time 13.7524 seconds\n"
     ]
    },
    {
     "name": "stderr",
     "output_type": "stream",
     "text": [
      "loss: 0.1505, accuracy: 0.9600: 100%|██████████| 1000/1000 [00:12<00:00, 80.11it/s]\n",
      "loss: 0.5389, accuracy: 0.8700: 100%|██████████| 158/158 [00:01<00:00, 139.89it/s]\n",
      "loss: 0.2939, accuracy: 0.8900:  18%|█▊        | 28/158 [00:00<00:00, 150.99it/s]"
     ]
    },
    {
     "name": "stdout",
     "output_type": "stream",
     "text": [
      "Epoch 99: train_acc_0.9324_train_loss_0.1635_val_acc_0.8755_val_loss_0.4186 epoch time 13.7185 seconds\n",
      "Generating test set evaluation metrics\n"
     ]
    },
    {
     "name": "stderr",
     "output_type": "stream",
     "text": [
      "loss: 0.4709, accuracy: 0.8100: 100%|██████████| 158/158 [00:01<00:00, 140.87it/s]\n"
     ]
    }
   ],
   "source": [
    "batch_size = 100\n",
    "image_num_channels = 1\n",
    "image_height = 28\n",
    "image_width = 28\n",
    "dim_reduction_type = ['strided_convolution', 'dilated_convolution', 'max_pooling', 'avg_pooling']\n",
    "\n",
    "num_filters = 64\n",
    "num_layers = 3\n",
    "dim_reduction_idx = 3\n",
    "\n",
    "experiment_name = 'stride3_filter64_layer3_type3'\n",
    "num_epochs = 100\n",
    "weight_decay_coefficient = 1e-05\n",
    "seed = 9112018\n",
    "use_gpu = True\n",
    "\n",
    "rng = np.random.RandomState(seed=seed)\n",
    "train_data = data_providers.EMNISTDataProvider('train', batch_size=batch_size, rng=rng)\n",
    "val_data = data_providers.EMNISTDataProvider('valid', batch_size=batch_size, rng=rng)\n",
    "test_data = data_providers.EMNISTDataProvider('test', batch_size=batch_size, rng=rng)\n",
    "\n",
    "\n",
    "custom_conv_net = ConvolutionalNetwork(\n",
    "    input_shape=(batch_size, image_num_channels, image_height, image_width),\n",
    "    dim_reduction_type=dim_reduction_type[dim_reduction_idx],\n",
    "    num_output_classes=47, num_filters=num_filters, num_layers=num_layers, use_bias=False)\n",
    "\n",
    "conv_experiment = ExperimentBuilder(network_model=custom_conv_net,\n",
    "                                    experiment_name=experiment_name,\n",
    "                                    num_epochs=num_epochs,\n",
    "                                    weight_decay_coefficient=weight_decay_coefficient,\n",
    "                                    use_gpu=use_gpu,\n",
    "                                    train_data=train_data, val_data=val_data, test_data=test_data)\n",
    "total_losses, _ = conv_experiment.run_experiment()"
   ]
  },
  {
   "cell_type": "code",
   "execution_count": 11,
   "metadata": {},
   "outputs": [
    {
     "data": {
      "image/png": "[encoded data removed]",
      "text/plain": [
       "<Figure size 576x288 with 1 Axes>"
      ]
     },
     "metadata": {
      "needs_background": "light"
     },
     "output_type": "display_data"
    },
    {
     "data": {
      "image/png": "[encoded data removed]",
      "text/plain": [
       "<Figure size 576x288 with 1 Axes>"
      ]
     },
     "metadata": {
      "needs_background": "light"
     },
     "output_type": "display_data"
    }
   ],
   "source": [
    "plot_stats_in_graph(total_losses)"
   ]
  },
  {
   "cell_type": "code",
   "execution_count": null,
   "metadata": {},
   "outputs": [],
   "source": []
  }
 ],
 "metadata": {
  "kernelspec": {
   "display_name": "Python 3",
   "language": "python",
   "name": "python3"
  },
  "language_info": {
   "codemirror_mode": {
    "name": "ipython",
    "version": 3
   },
   "file_extension": ".py",
   "mimetype": "text/x-python",
   "name": "python",
   "nbconvert_exporter": "python",
   "pygments_lexer": "ipython3",
   "version": "3.7.0"
  }
 },
 "nbformat": 4,
 "nbformat_minor": 2
}
